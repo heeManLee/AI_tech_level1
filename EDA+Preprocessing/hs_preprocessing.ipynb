{
 "cells": [
  {
   "cell_type": "code",
   "execution_count": 42,
   "id": "995e33b2-ec23-4322-9e50-532a6f19bf76",
   "metadata": {
    "tags": []
   },
   "outputs": [],
   "source": [
    "import pandas as pd\n",
    "import numpy as np\n",
    "import re"
   ]
  },
  {
   "cell_type": "code",
   "execution_count": 43,
   "id": "aa2f2c02-cbdb-4694-9720-22eab5da7430",
   "metadata": {},
   "outputs": [],
   "source": [
    "inters = pd.read_csv('~/data/train_ratings.csv')\n",
    "users = pd.read_csv('~/data/users.csv')\n",
    "books = pd.read_csv('~/data/books.csv')"
   ]
  },
  {
   "cell_type": "code",
   "execution_count": 44,
   "id": "2473f2f6-ecb9-41ac-9e05-b34c7c9f8634",
   "metadata": {
    "tags": []
   },
   "outputs": [],
   "source": [
    "# Users"
   ]
  },
  {
   "cell_type": "code",
   "execution_count": 45,
   "id": "75d8d612-ee80-4101-8450-7ed5acd24dd7",
   "metadata": {
    "tags": []
   },
   "outputs": [
    {
     "name": "stdout",
     "output_type": "stream",
     "text": [
      "<class 'pandas.core.frame.DataFrame'>\n",
      "RangeIndex: 68092 entries, 0 to 68091\n",
      "Data columns (total 3 columns):\n",
      " #   Column    Non-Null Count  Dtype  \n",
      "---  ------    --------------  -----  \n",
      " 0   user_id   68092 non-null  int64  \n",
      " 1   location  68092 non-null  object \n",
      " 2   age       40259 non-null  float64\n",
      "dtypes: float64(1), int64(1), object(1)\n",
      "memory usage: 1.6+ MB\n"
     ]
    }
   ],
   "source": [
    "users.info()"
   ]
  },
  {
   "cell_type": "code",
   "execution_count": 46,
   "id": "812039e1-6783-47e6-9c0c-f4222d51b8f2",
   "metadata": {
    "tags": []
   },
   "outputs": [],
   "source": [
    "# location"
   ]
  },
  {
   "cell_type": "code",
   "execution_count": 47,
   "id": "d7f734bb-9719-434d-8fde-c4df9cad9eb2",
   "metadata": {
    "tags": []
   },
   "outputs": [],
   "source": [
    "states_abbreviations = {\n",
    "    'AK': 'Alaska',\n",
    "    'AL': 'Alabama',\n",
    "    'AR': 'Arkansas',\n",
    "    'AZ': 'Arizona',\n",
    "    'CA': 'California',\n",
    "    'CO': 'Colorado',\n",
    "    'CT': 'Connecticut',\n",
    "    'DC': 'District of Columbia',\n",
    "    'DE': 'Delaware',\n",
    "    'FL': 'Florida',\n",
    "    'GA': 'Georgia',\n",
    "    'HI': 'Hawaii',\n",
    "    'IA': 'Iowa',\n",
    "    'ID': 'Idaho',\n",
    "    'IL': 'Illinois',\n",
    "    'IN': 'Indiana',\n",
    "    'KS': 'Kansas',\n",
    "    'KY': 'Kentucky',\n",
    "    'LA': 'Louisiana',\n",
    "    'MA': 'Massachusetts',\n",
    "    'MD': 'Maryland',\n",
    "    'ME': 'Maine',\n",
    "    'MI': 'Michigan',\n",
    "    'MN': 'Minnesota',\n",
    "    'MO': 'Missouri',\n",
    "    'MS': 'Mississippi',\n",
    "    'MT': 'Montana',\n",
    "    'NC': 'North Carolina',\n",
    "    'ND': 'North Dakota',\n",
    "    'NE': 'Nebraska',\n",
    "    'NH': 'New Hampshire',\n",
    "    'NJ': 'New Jersey',\n",
    "    'NM': 'New Mexico',\n",
    "    'NV': 'Nevada',\n",
    "    'NY': 'New York',\n",
    "    'OH': 'Ohio',\n",
    "    'OK': 'Oklahoma',\n",
    "    'OR': 'Oregon',\n",
    "    'PA': 'Pennsylvania',\n",
    "    'RI': 'Rhode Island',\n",
    "    'SC': 'South Carolina',\n",
    "    'SD': 'South Dakota',\n",
    "    'TN': 'Tennessee',\n",
    "    'TX': 'Texas',\n",
    "    'UT': 'Utah',\n",
    "    'VA': 'Virginia',\n",
    "    'VT': 'Vermont',\n",
    "    'WA': 'Washington',\n",
    "    'WI': 'Wisconsin',\n",
    "    'WV': 'West Virginia',\n",
    "    'WY': 'Wyoming'\n",
    "}\n",
    "\n",
    "states_abbreviations_lowercase = {k.lower(): v.lower() for k,v in states_abbreviations.items()}\n",
    "\n",
    "def preprocess_location(location):\n",
    "    country = re.sub(\"\\s+\", '', location.split(',')[-1])\n",
    "    if country == 'usa':\n",
    "        state = re.sub(\"\\s+\", '', location.split(',')[-2])\n",
    "        \n",
    "        if state in states_abbreviations_lowercase:\n",
    "            state = states_abbreviations_lowercase[state]\n",
    "            \n",
    "        return country + '-' + state\n",
    "    else:\n",
    "        return country"
   ]
  },
  {
   "cell_type": "code",
   "execution_count": 48,
   "id": "c065d4f0-fbdb-42b1-a2ca-ebe9bbf9ada0",
   "metadata": {
    "tags": []
   },
   "outputs": [],
   "source": [
    "users['location_country'] = users['location'].apply(lambda x: preprocess_location(x)).replace(['theworldtomorrow', 'unknown', 'n/a', ''], np.NaN)"
   ]
  },
  {
   "cell_type": "code",
   "execution_count": 49,
   "id": "5166624e-4406-4240-8de6-a7fd1999a13a",
   "metadata": {
    "tags": []
   },
   "outputs": [],
   "source": [
    "users['location_first'] = users['location'].apply(lambda x: re.sub(\"\\s+\", '', x.split(',')[0])).replace(['whoknows', 'unknown', 'n/a', ''], np.NaN)"
   ]
  },
  {
   "cell_type": "code",
   "execution_count": 50,
   "id": "500ee313-d3a6-46fa-bf56-69df7cacccba",
   "metadata": {
    "tags": []
   },
   "outputs": [
    {
     "data": {
      "text/html": [
       "<div>\n",
       "<style scoped>\n",
       "    .dataframe tbody tr th:only-of-type {\n",
       "        vertical-align: middle;\n",
       "    }\n",
       "\n",
       "    .dataframe tbody tr th {\n",
       "        vertical-align: top;\n",
       "    }\n",
       "\n",
       "    .dataframe thead th {\n",
       "        text-align: right;\n",
       "    }\n",
       "</style>\n",
       "<table border=\"1\" class=\"dataframe\">\n",
       "  <thead>\n",
       "    <tr style=\"text-align: right;\">\n",
       "      <th></th>\n",
       "      <th>user_id</th>\n",
       "      <th>location</th>\n",
       "      <th>age</th>\n",
       "      <th>location_country</th>\n",
       "      <th>location_first</th>\n",
       "    </tr>\n",
       "  </thead>\n",
       "  <tbody>\n",
       "    <tr>\n",
       "      <th>0</th>\n",
       "      <td>8</td>\n",
       "      <td>timmins, ontario, canada</td>\n",
       "      <td>NaN</td>\n",
       "      <td>canada</td>\n",
       "      <td>timmins</td>\n",
       "    </tr>\n",
       "    <tr>\n",
       "      <th>1</th>\n",
       "      <td>11400</td>\n",
       "      <td>ottawa, ontario, canada</td>\n",
       "      <td>49.0</td>\n",
       "      <td>canada</td>\n",
       "      <td>ottawa</td>\n",
       "    </tr>\n",
       "    <tr>\n",
       "      <th>2</th>\n",
       "      <td>11676</td>\n",
       "      <td>n/a, n/a, n/a</td>\n",
       "      <td>NaN</td>\n",
       "      <td>NaN</td>\n",
       "      <td>NaN</td>\n",
       "    </tr>\n",
       "    <tr>\n",
       "      <th>3</th>\n",
       "      <td>67544</td>\n",
       "      <td>toronto, ontario, canada</td>\n",
       "      <td>30.0</td>\n",
       "      <td>canada</td>\n",
       "      <td>toronto</td>\n",
       "    </tr>\n",
       "    <tr>\n",
       "      <th>4</th>\n",
       "      <td>85526</td>\n",
       "      <td>victoria, british columbia, canada</td>\n",
       "      <td>36.0</td>\n",
       "      <td>canada</td>\n",
       "      <td>victoria</td>\n",
       "    </tr>\n",
       "    <tr>\n",
       "      <th>5</th>\n",
       "      <td>96054</td>\n",
       "      <td>ottawa, ontario, canada</td>\n",
       "      <td>29.0</td>\n",
       "      <td>canada</td>\n",
       "      <td>ottawa</td>\n",
       "    </tr>\n",
       "    <tr>\n",
       "      <th>6</th>\n",
       "      <td>116866</td>\n",
       "      <td>ottawa, ,</td>\n",
       "      <td>NaN</td>\n",
       "      <td>NaN</td>\n",
       "      <td>ottawa</td>\n",
       "    </tr>\n",
       "    <tr>\n",
       "      <th>7</th>\n",
       "      <td>123629</td>\n",
       "      <td>kingston, ontario, canada</td>\n",
       "      <td>NaN</td>\n",
       "      <td>canada</td>\n",
       "      <td>kingston</td>\n",
       "    </tr>\n",
       "    <tr>\n",
       "      <th>8</th>\n",
       "      <td>177458</td>\n",
       "      <td>ottawa, ontario, canada</td>\n",
       "      <td>29.0</td>\n",
       "      <td>canada</td>\n",
       "      <td>ottawa</td>\n",
       "    </tr>\n",
       "    <tr>\n",
       "      <th>9</th>\n",
       "      <td>200273</td>\n",
       "      <td>comber, ontario, canada</td>\n",
       "      <td>NaN</td>\n",
       "      <td>canada</td>\n",
       "      <td>comber</td>\n",
       "    </tr>\n",
       "    <tr>\n",
       "      <th>10</th>\n",
       "      <td>210926</td>\n",
       "      <td>guelph, ontario, canada</td>\n",
       "      <td>NaN</td>\n",
       "      <td>canada</td>\n",
       "      <td>guelph</td>\n",
       "    </tr>\n",
       "    <tr>\n",
       "      <th>11</th>\n",
       "      <td>219008</td>\n",
       "      <td>halifax, nova scotia, canada</td>\n",
       "      <td>60.0</td>\n",
       "      <td>canada</td>\n",
       "      <td>halifax</td>\n",
       "    </tr>\n",
       "    <tr>\n",
       "      <th>12</th>\n",
       "      <td>263325</td>\n",
       "      <td>fredericton, new brunswick, canada</td>\n",
       "      <td>27.0</td>\n",
       "      <td>canada</td>\n",
       "      <td>fredericton</td>\n",
       "    </tr>\n",
       "    <tr>\n",
       "      <th>13</th>\n",
       "      <td>2954</td>\n",
       "      <td>wichita, kansas, usa</td>\n",
       "      <td>71.0</td>\n",
       "      <td>usa-kansas</td>\n",
       "      <td>wichita</td>\n",
       "    </tr>\n",
       "    <tr>\n",
       "      <th>14</th>\n",
       "      <td>152827</td>\n",
       "      <td>ottawa, ontario, canada</td>\n",
       "      <td>40.0</td>\n",
       "      <td>canada</td>\n",
       "      <td>ottawa</td>\n",
       "    </tr>\n",
       "    <tr>\n",
       "      <th>15</th>\n",
       "      <td>35704</td>\n",
       "      <td>kansas city, missouri, usa</td>\n",
       "      <td>53.0</td>\n",
       "      <td>usa-missouri</td>\n",
       "      <td>kansascity</td>\n",
       "    </tr>\n",
       "    <tr>\n",
       "      <th>16</th>\n",
       "      <td>83160</td>\n",
       "      <td>oregon city, oregon, usa</td>\n",
       "      <td>65.0</td>\n",
       "      <td>usa-oregon</td>\n",
       "      <td>oregoncity</td>\n",
       "    </tr>\n",
       "    <tr>\n",
       "      <th>17</th>\n",
       "      <td>110912</td>\n",
       "      <td>milpitas, california, usa</td>\n",
       "      <td>36.0</td>\n",
       "      <td>usa-california</td>\n",
       "      <td>milpitas</td>\n",
       "    </tr>\n",
       "    <tr>\n",
       "      <th>18</th>\n",
       "      <td>137688</td>\n",
       "      <td>medford, new york, usa</td>\n",
       "      <td>46.0</td>\n",
       "      <td>usa-newyork</td>\n",
       "      <td>medford</td>\n",
       "    </tr>\n",
       "    <tr>\n",
       "      <th>19</th>\n",
       "      <td>157969</td>\n",
       "      <td>denver, colorado, usa</td>\n",
       "      <td>30.0</td>\n",
       "      <td>usa-colorado</td>\n",
       "      <td>denver</td>\n",
       "    </tr>\n",
       "  </tbody>\n",
       "</table>\n",
       "</div>"
      ],
      "text/plain": [
       "    user_id                            location   age location_country  \\\n",
       "0         8            timmins, ontario, canada   NaN           canada   \n",
       "1     11400             ottawa, ontario, canada  49.0           canada   \n",
       "2     11676                       n/a, n/a, n/a   NaN              NaN   \n",
       "3     67544            toronto, ontario, canada  30.0           canada   \n",
       "4     85526  victoria, british columbia, canada  36.0           canada   \n",
       "5     96054             ottawa, ontario, canada  29.0           canada   \n",
       "6    116866                           ottawa, ,   NaN              NaN   \n",
       "7    123629           kingston, ontario, canada   NaN           canada   \n",
       "8    177458             ottawa, ontario, canada  29.0           canada   \n",
       "9    200273             comber, ontario, canada   NaN           canada   \n",
       "10   210926             guelph, ontario, canada   NaN           canada   \n",
       "11   219008        halifax, nova scotia, canada  60.0           canada   \n",
       "12   263325  fredericton, new brunswick, canada  27.0           canada   \n",
       "13     2954                wichita, kansas, usa  71.0       usa-kansas   \n",
       "14   152827             ottawa, ontario, canada  40.0           canada   \n",
       "15    35704          kansas city, missouri, usa  53.0     usa-missouri   \n",
       "16    83160            oregon city, oregon, usa  65.0       usa-oregon   \n",
       "17   110912           milpitas, california, usa  36.0   usa-california   \n",
       "18   137688              medford, new york, usa  46.0      usa-newyork   \n",
       "19   157969               denver, colorado, usa  30.0     usa-colorado   \n",
       "\n",
       "   location_first  \n",
       "0         timmins  \n",
       "1          ottawa  \n",
       "2             NaN  \n",
       "3         toronto  \n",
       "4        victoria  \n",
       "5          ottawa  \n",
       "6          ottawa  \n",
       "7        kingston  \n",
       "8          ottawa  \n",
       "9          comber  \n",
       "10         guelph  \n",
       "11        halifax  \n",
       "12    fredericton  \n",
       "13        wichita  \n",
       "14         ottawa  \n",
       "15     kansascity  \n",
       "16     oregoncity  \n",
       "17       milpitas  \n",
       "18        medford  \n",
       "19         denver  "
      ]
     },
     "execution_count": 50,
     "metadata": {},
     "output_type": "execute_result"
    }
   ],
   "source": [
    "users.head(20)"
   ]
  },
  {
   "cell_type": "code",
   "execution_count": 51,
   "id": "2630ffb7-72d2-4cce-8628-e48735f7bbf0",
   "metadata": {
    "tags": []
   },
   "outputs": [],
   "source": [
    "def substitute_location(row):\n",
    "    if (type(row['location_country']) == str) | (type(row['location_first']) != str):\n",
    "        return row\n",
    "    \n",
    "    sub_row = users[(users['location_first'] == row['location_first']) & (users['location_country'].notna())][['location_country', 'location_first']]\n",
    "    if sub_row.shape[0] == 0:\n",
    "        return row\n",
    "    else:\n",
    "        row['location_country'] = sub_row.groupby(sub_row.columns.tolist(),as_index=False).size()['location_country'][0]\n",
    "        return row"
   ]
  },
  {
   "cell_type": "code",
   "execution_count": 52,
   "id": "a4dbc4d1-b23f-4aea-b44f-5747cbbf2fc7",
   "metadata": {
    "tags": []
   },
   "outputs": [],
   "source": [
    "users = users.apply(lambda x: substitute_location(x), axis = 1)"
   ]
  },
  {
   "cell_type": "code",
   "execution_count": 53,
   "id": "f7b28d4f-27de-4161-a051-e48561eb44dc",
   "metadata": {
    "tags": []
   },
   "outputs": [],
   "source": [
    "users = users.drop(['location', 'location_first'], axis=1)"
   ]
  },
  {
   "cell_type": "code",
   "execution_count": 54,
   "id": "e59e15ef-ddad-47a1-b04c-cc334554de97",
   "metadata": {
    "tags": []
   },
   "outputs": [],
   "source": [
    "location_threshold = 100\n",
    "\n",
    "country_freq = users['location_country'].value_counts()\n",
    "low_freq_country = country_freq[country_freq < location_threshold].index.tolist()\n",
    "\n",
    "def combine_low_countries(country):\n",
    "    if country in low_freq_country:\n",
    "        return 'others'\n",
    "    else:\n",
    "        return country\n",
    "\n",
    "users['location_country'] = users['location_country'].apply(lambda x: combine_low_countries(x))"
   ]
  },
  {
   "cell_type": "code",
   "execution_count": 55,
   "id": "b2ea56d3-d52e-4b85-b90f-4d13ddcc5d16",
   "metadata": {
    "tags": []
   },
   "outputs": [
    {
     "data": {
      "text/html": [
       "<div>\n",
       "<style scoped>\n",
       "    .dataframe tbody tr th:only-of-type {\n",
       "        vertical-align: middle;\n",
       "    }\n",
       "\n",
       "    .dataframe tbody tr th {\n",
       "        vertical-align: top;\n",
       "    }\n",
       "\n",
       "    .dataframe thead th {\n",
       "        text-align: right;\n",
       "    }\n",
       "</style>\n",
       "<table border=\"1\" class=\"dataframe\">\n",
       "  <thead>\n",
       "    <tr style=\"text-align: right;\">\n",
       "      <th></th>\n",
       "      <th>user_id</th>\n",
       "      <th>age</th>\n",
       "      <th>location_country</th>\n",
       "    </tr>\n",
       "  </thead>\n",
       "  <tbody>\n",
       "    <tr>\n",
       "      <th>0</th>\n",
       "      <td>8</td>\n",
       "      <td>NaN</td>\n",
       "      <td>canada</td>\n",
       "    </tr>\n",
       "    <tr>\n",
       "      <th>1</th>\n",
       "      <td>11400</td>\n",
       "      <td>49.0</td>\n",
       "      <td>canada</td>\n",
       "    </tr>\n",
       "    <tr>\n",
       "      <th>2</th>\n",
       "      <td>11676</td>\n",
       "      <td>NaN</td>\n",
       "      <td>NaN</td>\n",
       "    </tr>\n",
       "    <tr>\n",
       "      <th>3</th>\n",
       "      <td>67544</td>\n",
       "      <td>30.0</td>\n",
       "      <td>canada</td>\n",
       "    </tr>\n",
       "    <tr>\n",
       "      <th>4</th>\n",
       "      <td>85526</td>\n",
       "      <td>36.0</td>\n",
       "      <td>canada</td>\n",
       "    </tr>\n",
       "  </tbody>\n",
       "</table>\n",
       "</div>"
      ],
      "text/plain": [
       "   user_id   age location_country\n",
       "0        8   NaN           canada\n",
       "1    11400  49.0           canada\n",
       "2    11676   NaN              NaN\n",
       "3    67544  30.0           canada\n",
       "4    85526  36.0           canada"
      ]
     },
     "execution_count": 55,
     "metadata": {},
     "output_type": "execute_result"
    }
   ],
   "source": [
    "users.head()"
   ]
  },
  {
   "cell_type": "code",
   "execution_count": 56,
   "id": "187d394c-d8c7-4ced-a83e-82eebc7ee03e",
   "metadata": {
    "tags": []
   },
   "outputs": [],
   "source": [
    "users['location_country'] = users['location_country'].fillna(users['location_country'].value_counts().index.tolist()[0])"
   ]
  },
  {
   "cell_type": "code",
   "execution_count": 57,
   "id": "36f630b2-14db-4182-836b-0bc6d516d032",
   "metadata": {
    "tags": []
   },
   "outputs": [
    {
     "data": {
      "text/html": [
       "<div>\n",
       "<style scoped>\n",
       "    .dataframe tbody tr th:only-of-type {\n",
       "        vertical-align: middle;\n",
       "    }\n",
       "\n",
       "    .dataframe tbody tr th {\n",
       "        vertical-align: top;\n",
       "    }\n",
       "\n",
       "    .dataframe thead th {\n",
       "        text-align: right;\n",
       "    }\n",
       "</style>\n",
       "<table border=\"1\" class=\"dataframe\">\n",
       "  <thead>\n",
       "    <tr style=\"text-align: right;\">\n",
       "      <th></th>\n",
       "      <th>user_id</th>\n",
       "      <th>age</th>\n",
       "      <th>location_country</th>\n",
       "    </tr>\n",
       "  </thead>\n",
       "  <tbody>\n",
       "    <tr>\n",
       "      <th>0</th>\n",
       "      <td>8</td>\n",
       "      <td>NaN</td>\n",
       "      <td>canada</td>\n",
       "    </tr>\n",
       "    <tr>\n",
       "      <th>1</th>\n",
       "      <td>11400</td>\n",
       "      <td>49.0</td>\n",
       "      <td>canada</td>\n",
       "    </tr>\n",
       "    <tr>\n",
       "      <th>2</th>\n",
       "      <td>11676</td>\n",
       "      <td>NaN</td>\n",
       "      <td>usa-california</td>\n",
       "    </tr>\n",
       "    <tr>\n",
       "      <th>3</th>\n",
       "      <td>67544</td>\n",
       "      <td>30.0</td>\n",
       "      <td>canada</td>\n",
       "    </tr>\n",
       "    <tr>\n",
       "      <th>4</th>\n",
       "      <td>85526</td>\n",
       "      <td>36.0</td>\n",
       "      <td>canada</td>\n",
       "    </tr>\n",
       "  </tbody>\n",
       "</table>\n",
       "</div>"
      ],
      "text/plain": [
       "   user_id   age location_country\n",
       "0        8   NaN           canada\n",
       "1    11400  49.0           canada\n",
       "2    11676   NaN   usa-california\n",
       "3    67544  30.0           canada\n",
       "4    85526  36.0           canada"
      ]
     },
     "execution_count": 57,
     "metadata": {},
     "output_type": "execute_result"
    }
   ],
   "source": [
    "users.head()"
   ]
  },
  {
   "cell_type": "code",
   "execution_count": null,
   "id": "9b1bae8d-6adb-40ed-9c13-cfe22a99afb2",
   "metadata": {},
   "outputs": [],
   "source": []
  },
  {
   "cell_type": "code",
   "execution_count": 58,
   "id": "9ad93d34-c065-44ea-b68d-56dac767130d",
   "metadata": {
    "tags": []
   },
   "outputs": [],
   "source": [
    "# Books"
   ]
  },
  {
   "cell_type": "code",
   "execution_count": 59,
   "id": "9c583636-0ed1-48ca-b898-62550e6b567f",
   "metadata": {
    "tags": []
   },
   "outputs": [
    {
     "name": "stdout",
     "output_type": "stream",
     "text": [
      "<class 'pandas.core.frame.DataFrame'>\n",
      "RangeIndex: 149570 entries, 0 to 149569\n",
      "Data columns (total 10 columns):\n",
      " #   Column               Non-Null Count   Dtype  \n",
      "---  ------               --------------   -----  \n",
      " 0   isbn                 149570 non-null  object \n",
      " 1   book_title           149570 non-null  object \n",
      " 2   book_author          149570 non-null  object \n",
      " 3   year_of_publication  149570 non-null  float64\n",
      " 4   publisher            149570 non-null  object \n",
      " 5   img_url              149570 non-null  object \n",
      " 6   language             82343 non-null   object \n",
      " 7   category             80719 non-null   object \n",
      " 8   summary              82343 non-null   object \n",
      " 9   img_path             149570 non-null  object \n",
      "dtypes: float64(1), object(9)\n",
      "memory usage: 11.4+ MB\n"
     ]
    }
   ],
   "source": [
    "books.info()"
   ]
  },
  {
   "cell_type": "code",
   "execution_count": 60,
   "id": "ee35a2be-33a4-4efb-a8f6-7389d05fb2f6",
   "metadata": {
    "tags": []
   },
   "outputs": [],
   "source": [
    "# book_title & summary"
   ]
  },
  {
   "cell_type": "code",
   "execution_count": 61,
   "id": "f2e2703a-646e-4e0f-9001-8f26b89f07fa",
   "metadata": {
    "tags": []
   },
   "outputs": [],
   "source": [
    "books['summary'] = books['summary'].fillna('None')"
   ]
  },
  {
   "cell_type": "code",
   "execution_count": 62,
   "id": "0605c4a2-5596-415f-aee4-4ad98847a9ed",
   "metadata": {
    "tags": []
   },
   "outputs": [],
   "source": [
    "def text_preprocessing(text):\n",
    "    text = re.sub(\"[.,\\'\\\"''\"\"!?]\", \"\", text)\n",
    "    text = re.sub(\"[^0-9a-zA-Z\\\\s]\", \" \", text)\n",
    "    text = re.sub(\"\\s+\", \" \", text)\n",
    "    text = text.lower()\n",
    "    return text"
   ]
  },
  {
   "cell_type": "code",
   "execution_count": 63,
   "id": "f0221ff8-f316-4e54-a646-76362c8458e8",
   "metadata": {
    "tags": []
   },
   "outputs": [],
   "source": [
    "books['book_title'] = books['book_title'].apply(lambda x: text_preprocessing(x))\n",
    "books['summary'] = books['summary'].apply(lambda x: text_preprocessing(x))"
   ]
  },
  {
   "cell_type": "code",
   "execution_count": 64,
   "id": "c8f2ebd0-fe7b-4166-a0c4-ba35ff85e0ed",
   "metadata": {
    "tags": []
   },
   "outputs": [],
   "source": [
    "# publisher"
   ]
  },
  {
   "cell_type": "code",
   "execution_count": 65,
   "id": "5d97fe4e-7602-4c01-8dfd-689db34c5b8c",
   "metadata": {
    "tags": []
   },
   "outputs": [],
   "source": [
    "books['publisher'] = books['publisher'].apply(lambda x: x.lower())"
   ]
  },
  {
   "cell_type": "code",
   "execution_count": 66,
   "id": "2d6a93d2-223f-489f-81ff-2ffbd9c3a6b9",
   "metadata": {
    "tags": []
   },
   "outputs": [],
   "source": [
    "# book_author"
   ]
  },
  {
   "cell_type": "code",
   "execution_count": 67,
   "id": "65205840-f5f3-4841-8ee1-6b1561ce5f8f",
   "metadata": {
    "tags": []
   },
   "outputs": [],
   "source": [
    "def author_preprocessing(author):\n",
    "    author = re.sub(\"[.]\", \" \", author)\n",
    "    author = re.sub(\"\\s+\", \" \", author)\n",
    "    author_parts = author.split()\n",
    "    new_name = []\n",
    "    for part in author_parts[:-1]:\n",
    "        if part != '':\n",
    "            new_name.append(part[0].lower())\n",
    "    new_name.append(author_parts[-1].lower())\n",
    "    return ' '.join(new_name)"
   ]
  },
  {
   "cell_type": "code",
   "execution_count": 68,
   "id": "762825cf-b659-41b3-a965-e0cc55a3a0e5",
   "metadata": {
    "tags": []
   },
   "outputs": [],
   "source": [
    "books['book_author'] = books['book_author'].apply(lambda x: author_preprocessing(x))"
   ]
  },
  {
   "cell_type": "code",
   "execution_count": 69,
   "id": "960ce385-e661-4550-a1c5-20a11461ee8a",
   "metadata": {
    "tags": []
   },
   "outputs": [],
   "source": [
    "# language"
   ]
  },
  {
   "cell_type": "code",
   "execution_count": 70,
   "id": "0b00f9b1-11b6-416d-861e-89e3b36f3ffd",
   "metadata": {
    "tags": []
   },
   "outputs": [
    {
     "data": {
      "text/plain": [
       "en       78823\n",
       "de        1282\n",
       "es        1017\n",
       "fr         883\n",
       "it         123\n",
       "nl          67\n",
       "pt          47\n",
       "da          37\n",
       "ca          23\n",
       "ms          10\n",
       "no           6\n",
       "zh-CN        3\n",
       "ja           3\n",
       "gl           3\n",
       "ru           3\n",
       "la           3\n",
       "el           1\n",
       "th           1\n",
       "ro           1\n",
       "fa           1\n",
       "eo           1\n",
       "gd           1\n",
       "ga           1\n",
       "vi           1\n",
       "zh-TW        1\n",
       "ko           1\n",
       "Name: language, dtype: int64"
      ]
     },
     "execution_count": 70,
     "metadata": {},
     "output_type": "execute_result"
    }
   ],
   "source": [
    "books['language'].value_counts()"
   ]
  },
  {
   "cell_type": "code",
   "execution_count": 71,
   "id": "7f0cc906-ca89-43a1-b159-82f780bf8689",
   "metadata": {
    "tags": []
   },
   "outputs": [],
   "source": [
    "language_threshold = 10\n",
    "\n",
    "language_freq = books['language'].value_counts()\n",
    "low_freq_language = language_freq[language_freq < language_threshold].index.tolist()\n",
    "\n",
    "def combine_low_languages(language):\n",
    "    if language in low_freq_language:\n",
    "        return 'others'\n",
    "    else:\n",
    "        return language\n",
    "\n",
    "books['language'] = books['language'].apply(lambda x: combine_low_languages(x))"
   ]
  },
  {
   "cell_type": "code",
   "execution_count": 72,
   "id": "0d64e950-479e-4f7f-9531-1210c8e7dada",
   "metadata": {
    "tags": []
   },
   "outputs": [],
   "source": [
    "books['language'] = books['language'].fillna(books['language'].value_counts().index.tolist()[0])"
   ]
  },
  {
   "cell_type": "code",
   "execution_count": 73,
   "id": "5dd9b89b-5894-42bc-8664-4c47f788b558",
   "metadata": {
    "tags": []
   },
   "outputs": [
    {
     "data": {
      "text/plain": [
       "en        146050\n",
       "de          1282\n",
       "es          1017\n",
       "fr           883\n",
       "it           123\n",
       "nl            67\n",
       "pt            47\n",
       "da            37\n",
       "others        31\n",
       "ca            23\n",
       "ms            10\n",
       "Name: language, dtype: int64"
      ]
     },
     "execution_count": 73,
     "metadata": {},
     "output_type": "execute_result"
    }
   ],
   "source": [
    "books['language'].value_counts()"
   ]
  },
  {
   "cell_type": "code",
   "execution_count": 74,
   "id": "32f79e00-ea8f-4130-b72b-3a3a3091cef4",
   "metadata": {
    "tags": []
   },
   "outputs": [],
   "source": [
    "# category"
   ]
  },
  {
   "cell_type": "code",
   "execution_count": 75,
   "id": "5c718f3d-0df5-43d5-a27b-0162134abb36",
   "metadata": {
    "tags": []
   },
   "outputs": [],
   "source": [
    "books['category'] = books['category'].apply(lambda x: x.lower() if type(x) == str else x)"
   ]
  },
  {
   "cell_type": "code",
   "execution_count": 76,
   "id": "20954c61-6788-4f05-910b-09f1e4b35aa5",
   "metadata": {
    "tags": []
   },
   "outputs": [
    {
     "data": {
      "text/plain": [
       "['brenner, simon (fictitious character)']                 1\n",
       "['computer software industry']                            1\n",
       "['novela española - siglo xx']                            1\n",
       "['women television producers and directors']              1\n",
       "['vocational guidance']                                   1\n",
       "['star trek (television show)']                           1\n",
       "['recovered memory']                                      1\n",
       "['eschatology']                                           1\n",
       "['dogsledding']                                           1\n",
       "['gone with the wind (motion picture : 1939)']            1\n",
       "['aeronautics, military']                                 1\n",
       "['c# (computer program language)']                        1\n",
       "['disguise']                                              1\n",
       "['country lawyers']                                       1\n",
       "['humorous stories, brazilian']                           1\n",
       "['coasts']                                                1\n",
       "['unix (computer file)']                                  1\n",
       "['electronic journals']                                   1\n",
       "['romania']                                               1\n",
       "['authors, canadian (english) 20th century biography']    1\n",
       "Name: category, dtype: int64"
      ]
     },
     "execution_count": 76,
     "metadata": {},
     "output_type": "execute_result"
    }
   ],
   "source": [
    "books['category'].value_counts().tail(20)"
   ]
  },
  {
   "cell_type": "code",
   "execution_count": null,
   "id": "851ae453-01b5-47b7-a4a2-dbb9a491d4ac",
   "metadata": {},
   "outputs": [],
   "source": []
  },
  {
   "cell_type": "code",
   "execution_count": 77,
   "id": "1798e63e-006b-4b08-a826-1560de93a6a7",
   "metadata": {},
   "outputs": [],
   "source": [
    "# Inters"
   ]
  },
  {
   "cell_type": "code",
   "execution_count": 78,
   "id": "2bdada4a-4cd8-4877-89cc-c6f921ca2219",
   "metadata": {
    "tags": []
   },
   "outputs": [],
   "source": [
    "train = inters.merge(users, on='user_id', how='left').merge(books.drop(['img_url', 'img_path'], axis=1), on='isbn', how='left')"
   ]
  },
  {
   "cell_type": "code",
   "execution_count": 79,
   "id": "37d20a16-f93f-4f68-9417-1ccc9dad6d74",
   "metadata": {
    "tags": []
   },
   "outputs": [
    {
     "data": {
      "text/html": [
       "<div>\n",
       "<style scoped>\n",
       "    .dataframe tbody tr th:only-of-type {\n",
       "        vertical-align: middle;\n",
       "    }\n",
       "\n",
       "    .dataframe tbody tr th {\n",
       "        vertical-align: top;\n",
       "    }\n",
       "\n",
       "    .dataframe thead th {\n",
       "        text-align: right;\n",
       "    }\n",
       "</style>\n",
       "<table border=\"1\" class=\"dataframe\">\n",
       "  <thead>\n",
       "    <tr style=\"text-align: right;\">\n",
       "      <th></th>\n",
       "      <th>user_id</th>\n",
       "      <th>isbn</th>\n",
       "      <th>rating</th>\n",
       "      <th>age</th>\n",
       "      <th>location_country</th>\n",
       "      <th>book_title</th>\n",
       "      <th>book_author</th>\n",
       "      <th>year_of_publication</th>\n",
       "      <th>publisher</th>\n",
       "      <th>language</th>\n",
       "      <th>category</th>\n",
       "      <th>summary</th>\n",
       "    </tr>\n",
       "  </thead>\n",
       "  <tbody>\n",
       "    <tr>\n",
       "      <th>0</th>\n",
       "      <td>8</td>\n",
       "      <td>0002005018</td>\n",
       "      <td>4</td>\n",
       "      <td>NaN</td>\n",
       "      <td>canada</td>\n",
       "      <td>clara callan</td>\n",
       "      <td>r b wright</td>\n",
       "      <td>2001.0</td>\n",
       "      <td>harperflamingo canada</td>\n",
       "      <td>en</td>\n",
       "      <td>['actresses']</td>\n",
       "      <td>in a small town in canada clara callan relucta...</td>\n",
       "    </tr>\n",
       "    <tr>\n",
       "      <th>1</th>\n",
       "      <td>67544</td>\n",
       "      <td>0002005018</td>\n",
       "      <td>7</td>\n",
       "      <td>30.0</td>\n",
       "      <td>canada</td>\n",
       "      <td>clara callan</td>\n",
       "      <td>r b wright</td>\n",
       "      <td>2001.0</td>\n",
       "      <td>harperflamingo canada</td>\n",
       "      <td>en</td>\n",
       "      <td>['actresses']</td>\n",
       "      <td>in a small town in canada clara callan relucta...</td>\n",
       "    </tr>\n",
       "    <tr>\n",
       "      <th>2</th>\n",
       "      <td>123629</td>\n",
       "      <td>0002005018</td>\n",
       "      <td>8</td>\n",
       "      <td>NaN</td>\n",
       "      <td>canada</td>\n",
       "      <td>clara callan</td>\n",
       "      <td>r b wright</td>\n",
       "      <td>2001.0</td>\n",
       "      <td>harperflamingo canada</td>\n",
       "      <td>en</td>\n",
       "      <td>['actresses']</td>\n",
       "      <td>in a small town in canada clara callan relucta...</td>\n",
       "    </tr>\n",
       "    <tr>\n",
       "      <th>3</th>\n",
       "      <td>200273</td>\n",
       "      <td>0002005018</td>\n",
       "      <td>8</td>\n",
       "      <td>NaN</td>\n",
       "      <td>canada</td>\n",
       "      <td>clara callan</td>\n",
       "      <td>r b wright</td>\n",
       "      <td>2001.0</td>\n",
       "      <td>harperflamingo canada</td>\n",
       "      <td>en</td>\n",
       "      <td>['actresses']</td>\n",
       "      <td>in a small town in canada clara callan relucta...</td>\n",
       "    </tr>\n",
       "    <tr>\n",
       "      <th>4</th>\n",
       "      <td>210926</td>\n",
       "      <td>0002005018</td>\n",
       "      <td>9</td>\n",
       "      <td>NaN</td>\n",
       "      <td>canada</td>\n",
       "      <td>clara callan</td>\n",
       "      <td>r b wright</td>\n",
       "      <td>2001.0</td>\n",
       "      <td>harperflamingo canada</td>\n",
       "      <td>en</td>\n",
       "      <td>['actresses']</td>\n",
       "      <td>in a small town in canada clara callan relucta...</td>\n",
       "    </tr>\n",
       "  </tbody>\n",
       "</table>\n",
       "</div>"
      ],
      "text/plain": [
       "   user_id        isbn  rating   age location_country    book_title  \\\n",
       "0        8  0002005018       4   NaN           canada  clara callan   \n",
       "1    67544  0002005018       7  30.0           canada  clara callan   \n",
       "2   123629  0002005018       8   NaN           canada  clara callan   \n",
       "3   200273  0002005018       8   NaN           canada  clara callan   \n",
       "4   210926  0002005018       9   NaN           canada  clara callan   \n",
       "\n",
       "  book_author  year_of_publication              publisher language  \\\n",
       "0  r b wright               2001.0  harperflamingo canada       en   \n",
       "1  r b wright               2001.0  harperflamingo canada       en   \n",
       "2  r b wright               2001.0  harperflamingo canada       en   \n",
       "3  r b wright               2001.0  harperflamingo canada       en   \n",
       "4  r b wright               2001.0  harperflamingo canada       en   \n",
       "\n",
       "        category                                            summary  \n",
       "0  ['actresses']  in a small town in canada clara callan relucta...  \n",
       "1  ['actresses']  in a small town in canada clara callan relucta...  \n",
       "2  ['actresses']  in a small town in canada clara callan relucta...  \n",
       "3  ['actresses']  in a small town in canada clara callan relucta...  \n",
       "4  ['actresses']  in a small town in canada clara callan relucta...  "
      ]
     },
     "execution_count": 79,
     "metadata": {},
     "output_type": "execute_result"
    }
   ],
   "source": [
    "train.head()"
   ]
  },
  {
   "cell_type": "code",
   "execution_count": null,
   "id": "68ac9aa8-8ced-467a-8d1f-717a9d833b1d",
   "metadata": {},
   "outputs": [],
   "source": []
  },
  {
   "cell_type": "code",
   "execution_count": 80,
   "id": "57ee633b-8190-4e78-9ba6-29a581e95601",
   "metadata": {},
   "outputs": [],
   "source": [
    "books.to_csv('books.csv')\n",
    "users.to_csv('users.csv')\n",
    "inters.to_csv('inters.csv')"
   ]
  },
  {
   "cell_type": "code",
   "execution_count": null,
   "id": "5f9e7c32-c9fb-4a40-884c-279ac4c62cad",
   "metadata": {},
   "outputs": [],
   "source": []
  }
 ],
 "metadata": {
  "kernelspec": {
   "display_name": "bc_pycaret",
   "language": "python",
   "name": "bc_pycaret"
  },
  "language_info": {
   "codemirror_mode": {
    "name": "ipython",
    "version": 3
   },
   "file_extension": ".py",
   "mimetype": "text/x-python",
   "name": "python",
   "nbconvert_exporter": "python",
   "pygments_lexer": "ipython3",
   "version": "3.8.5"
  }
 },
 "nbformat": 4,
 "nbformat_minor": 5
}
