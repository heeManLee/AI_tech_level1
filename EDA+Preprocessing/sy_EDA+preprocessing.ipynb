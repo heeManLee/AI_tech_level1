{
 "cells": [
  {
   "attachments": {},
   "cell_type": "markdown",
   "metadata": {},
   "source": [
    "# 전처리"
   ]
  },
  {
   "cell_type": "code",
   "execution_count": 1,
   "metadata": {},
   "outputs": [],
   "source": [
    "file_name = 'data_eda+pp'"
   ]
  },
  {
   "cell_type": "code",
   "execution_count": 2,
   "metadata": {},
   "outputs": [],
   "source": [
    "import pandas as pd\n",
    "import numpy as np\n",
    "\n",
    "import re\n",
    "from tqdm import tqdm\n",
    "import os\n",
    "import shutil\n",
    "from datetime import datetime\n",
    "\n",
    "import seaborn as sns\n",
    "import matplotlib as mpl\n",
    "from matplotlib import pyplot as plt\n",
    "%matplotlib inline\n",
    "plt.style.use('ggplot')"
   ]
  },
  {
   "cell_type": "code",
   "execution_count": 3,
   "metadata": {},
   "outputs": [
    {
     "name": "stdout",
     "output_type": "stream",
     "text": [
      "/opt/ml/data\n"
     ]
    }
   ],
   "source": [
    "cd '/opt/ml/data'"
   ]
  },
  {
   "cell_type": "code",
   "execution_count": 4,
   "metadata": {},
   "outputs": [],
   "source": [
    "eda_path = '/opt/ml/EDA/'"
   ]
  },
  {
   "cell_type": "code",
   "execution_count": 5,
   "metadata": {},
   "outputs": [],
   "source": [
    "# 현재 시간\n",
    "now = datetime.now()\n",
    "current = now.strftime('-%Y-%m-%d')"
   ]
  },
  {
   "cell_type": "code",
   "execution_count": 6,
   "metadata": {},
   "outputs": [
    {
     "name": "stdout",
     "output_type": "stream",
     "text": [
      "/opt/ml/EDA/data_eda+pp-2023-04-24\n"
     ]
    }
   ],
   "source": [
    "# 작업 폴더 생성\n",
    "folder_name = eda_path + file_name + current\n",
    "\n",
    "if not os.path.exists(folder_name):\n",
    "    os.makedirs(folder_name)\n",
    "\n",
    "print(folder_name)"
   ]
  },
  {
   "cell_type": "code",
   "execution_count": 7,
   "metadata": {},
   "outputs": [],
   "source": [
    "# 필요한 파일 위에서 생성한 폴더에 복사\n",
    "copy_list = ['sample_submission.csv', 'test_ratings.csv', 'train_ratings.csv']\n",
    "\n",
    "for file in copy_list:\n",
    "    shutil.copy(eda_path + file, folder_name + '/' + file)"
   ]
  },
  {
   "cell_type": "code",
   "execution_count": 56,
   "metadata": {},
   "outputs": [],
   "source": [
    "df_book = pd.read_csv('books.csv')\n",
    "df_users = pd.read_csv('users.csv')\n",
    "\n",
    "df_train = pd.read_csv('train_ratings.csv')"
   ]
  },
  {
   "cell_type": "code",
   "execution_count": 57,
   "metadata": {},
   "outputs": [
    {
     "name": "stdout",
     "output_type": "stream",
     "text": [
      "(306795, 3)\n"
     ]
    },
    {
     "data": {
      "text/html": [
       "<div>\n",
       "<style scoped>\n",
       "    .dataframe tbody tr th:only-of-type {\n",
       "        vertical-align: middle;\n",
       "    }\n",
       "\n",
       "    .dataframe tbody tr th {\n",
       "        vertical-align: top;\n",
       "    }\n",
       "\n",
       "    .dataframe thead th {\n",
       "        text-align: right;\n",
       "    }\n",
       "</style>\n",
       "<table border=\"1\" class=\"dataframe\">\n",
       "  <thead>\n",
       "    <tr style=\"text-align: right;\">\n",
       "      <th></th>\n",
       "      <th>user_id</th>\n",
       "      <th>isbn</th>\n",
       "      <th>rating</th>\n",
       "    </tr>\n",
       "  </thead>\n",
       "  <tbody>\n",
       "    <tr>\n",
       "      <th>0</th>\n",
       "      <td>8</td>\n",
       "      <td>0002005018</td>\n",
       "      <td>4</td>\n",
       "    </tr>\n",
       "    <tr>\n",
       "      <th>1</th>\n",
       "      <td>67544</td>\n",
       "      <td>0002005018</td>\n",
       "      <td>7</td>\n",
       "    </tr>\n",
       "    <tr>\n",
       "      <th>2</th>\n",
       "      <td>123629</td>\n",
       "      <td>0002005018</td>\n",
       "      <td>8</td>\n",
       "    </tr>\n",
       "    <tr>\n",
       "      <th>3</th>\n",
       "      <td>200273</td>\n",
       "      <td>0002005018</td>\n",
       "      <td>8</td>\n",
       "    </tr>\n",
       "    <tr>\n",
       "      <th>4</th>\n",
       "      <td>210926</td>\n",
       "      <td>0002005018</td>\n",
       "      <td>9</td>\n",
       "    </tr>\n",
       "  </tbody>\n",
       "</table>\n",
       "</div>"
      ],
      "text/plain": [
       "   user_id        isbn  rating\n",
       "0        8  0002005018       4\n",
       "1    67544  0002005018       7\n",
       "2   123629  0002005018       8\n",
       "3   200273  0002005018       8\n",
       "4   210926  0002005018       9"
      ]
     },
     "execution_count": 57,
     "metadata": {},
     "output_type": "execute_result"
    }
   ],
   "source": [
    "print(df_train.shape)\n",
    "df_train.head()"
   ]
  },
  {
   "cell_type": "code",
   "execution_count": 58,
   "metadata": {},
   "outputs": [
    {
     "name": "stdout",
     "output_type": "stream",
     "text": [
      "(149570, 10)\n"
     ]
    },
    {
     "data": {
      "text/html": [
       "<div>\n",
       "<style scoped>\n",
       "    .dataframe tbody tr th:only-of-type {\n",
       "        vertical-align: middle;\n",
       "    }\n",
       "\n",
       "    .dataframe tbody tr th {\n",
       "        vertical-align: top;\n",
       "    }\n",
       "\n",
       "    .dataframe thead th {\n",
       "        text-align: right;\n",
       "    }\n",
       "</style>\n",
       "<table border=\"1\" class=\"dataframe\">\n",
       "  <thead>\n",
       "    <tr style=\"text-align: right;\">\n",
       "      <th></th>\n",
       "      <th>isbn</th>\n",
       "      <th>book_title</th>\n",
       "      <th>book_author</th>\n",
       "      <th>year_of_publication</th>\n",
       "      <th>publisher</th>\n",
       "      <th>img_url</th>\n",
       "      <th>language</th>\n",
       "      <th>category</th>\n",
       "      <th>summary</th>\n",
       "      <th>img_path</th>\n",
       "    </tr>\n",
       "  </thead>\n",
       "  <tbody>\n",
       "    <tr>\n",
       "      <th>0</th>\n",
       "      <td>0002005018</td>\n",
       "      <td>Clara Callan</td>\n",
       "      <td>Richard Bruce Wright</td>\n",
       "      <td>2001.0</td>\n",
       "      <td>HarperFlamingo Canada</td>\n",
       "      <td>http://images.amazon.com/images/P/0002005018.0...</td>\n",
       "      <td>en</td>\n",
       "      <td>['Actresses']</td>\n",
       "      <td>In a small town in Canada, Clara Callan reluct...</td>\n",
       "      <td>images/0002005018.01.THUMBZZZ.jpg</td>\n",
       "    </tr>\n",
       "    <tr>\n",
       "      <th>1</th>\n",
       "      <td>0060973129</td>\n",
       "      <td>Decision in Normandy</td>\n",
       "      <td>Carlo D'Este</td>\n",
       "      <td>1991.0</td>\n",
       "      <td>HarperPerennial</td>\n",
       "      <td>http://images.amazon.com/images/P/0060973129.0...</td>\n",
       "      <td>en</td>\n",
       "      <td>['1940-1949']</td>\n",
       "      <td>Here, for the first time in paperback, is an o...</td>\n",
       "      <td>images/0060973129.01.THUMBZZZ.jpg</td>\n",
       "    </tr>\n",
       "    <tr>\n",
       "      <th>2</th>\n",
       "      <td>0374157065</td>\n",
       "      <td>Flu: The Story of the Great Influenza Pandemic...</td>\n",
       "      <td>Gina Bari Kolata</td>\n",
       "      <td>1999.0</td>\n",
       "      <td>Farrar Straus Giroux</td>\n",
       "      <td>http://images.amazon.com/images/P/0374157065.0...</td>\n",
       "      <td>en</td>\n",
       "      <td>['Medical']</td>\n",
       "      <td>Describes the great flu epidemic of 1918, an o...</td>\n",
       "      <td>images/0374157065.01.THUMBZZZ.jpg</td>\n",
       "    </tr>\n",
       "    <tr>\n",
       "      <th>3</th>\n",
       "      <td>0399135782</td>\n",
       "      <td>The Kitchen God's Wife</td>\n",
       "      <td>Amy Tan</td>\n",
       "      <td>1991.0</td>\n",
       "      <td>Putnam Pub Group</td>\n",
       "      <td>http://images.amazon.com/images/P/0399135782.0...</td>\n",
       "      <td>en</td>\n",
       "      <td>['Fiction']</td>\n",
       "      <td>A Chinese immigrant who is convinced she is dy...</td>\n",
       "      <td>images/0399135782.01.THUMBZZZ.jpg</td>\n",
       "    </tr>\n",
       "    <tr>\n",
       "      <th>4</th>\n",
       "      <td>0425176428</td>\n",
       "      <td>What If?: The World's Foremost Military Histor...</td>\n",
       "      <td>Robert Cowley</td>\n",
       "      <td>2000.0</td>\n",
       "      <td>Berkley Publishing Group</td>\n",
       "      <td>http://images.amazon.com/images/P/0425176428.0...</td>\n",
       "      <td>en</td>\n",
       "      <td>['History']</td>\n",
       "      <td>Essays by respected military historians, inclu...</td>\n",
       "      <td>images/0425176428.01.THUMBZZZ.jpg</td>\n",
       "    </tr>\n",
       "  </tbody>\n",
       "</table>\n",
       "</div>"
      ],
      "text/plain": [
       "         isbn                                         book_title   \n",
       "0  0002005018                                       Clara Callan  \\\n",
       "1  0060973129                               Decision in Normandy   \n",
       "2  0374157065  Flu: The Story of the Great Influenza Pandemic...   \n",
       "3  0399135782                             The Kitchen God's Wife   \n",
       "4  0425176428  What If?: The World's Foremost Military Histor...   \n",
       "\n",
       "            book_author  year_of_publication                 publisher   \n",
       "0  Richard Bruce Wright               2001.0     HarperFlamingo Canada  \\\n",
       "1          Carlo D'Este               1991.0           HarperPerennial   \n",
       "2      Gina Bari Kolata               1999.0      Farrar Straus Giroux   \n",
       "3               Amy Tan               1991.0          Putnam Pub Group   \n",
       "4         Robert Cowley               2000.0  Berkley Publishing Group   \n",
       "\n",
       "                                             img_url language       category   \n",
       "0  http://images.amazon.com/images/P/0002005018.0...       en  ['Actresses']  \\\n",
       "1  http://images.amazon.com/images/P/0060973129.0...       en  ['1940-1949']   \n",
       "2  http://images.amazon.com/images/P/0374157065.0...       en    ['Medical']   \n",
       "3  http://images.amazon.com/images/P/0399135782.0...       en    ['Fiction']   \n",
       "4  http://images.amazon.com/images/P/0425176428.0...       en    ['History']   \n",
       "\n",
       "                                             summary   \n",
       "0  In a small town in Canada, Clara Callan reluct...  \\\n",
       "1  Here, for the first time in paperback, is an o...   \n",
       "2  Describes the great flu epidemic of 1918, an o...   \n",
       "3  A Chinese immigrant who is convinced she is dy...   \n",
       "4  Essays by respected military historians, inclu...   \n",
       "\n",
       "                            img_path  \n",
       "0  images/0002005018.01.THUMBZZZ.jpg  \n",
       "1  images/0060973129.01.THUMBZZZ.jpg  \n",
       "2  images/0374157065.01.THUMBZZZ.jpg  \n",
       "3  images/0399135782.01.THUMBZZZ.jpg  \n",
       "4  images/0425176428.01.THUMBZZZ.jpg  "
      ]
     },
     "execution_count": 58,
     "metadata": {},
     "output_type": "execute_result"
    }
   ],
   "source": [
    "print(df_book.shape)\n",
    "df_book.head()"
   ]
  },
  {
   "cell_type": "code",
   "execution_count": 59,
   "metadata": {},
   "outputs": [
    {
     "name": "stdout",
     "output_type": "stream",
     "text": [
      "(68092, 3)\n"
     ]
    },
    {
     "data": {
      "text/html": [
       "<div>\n",
       "<style scoped>\n",
       "    .dataframe tbody tr th:only-of-type {\n",
       "        vertical-align: middle;\n",
       "    }\n",
       "\n",
       "    .dataframe tbody tr th {\n",
       "        vertical-align: top;\n",
       "    }\n",
       "\n",
       "    .dataframe thead th {\n",
       "        text-align: right;\n",
       "    }\n",
       "</style>\n",
       "<table border=\"1\" class=\"dataframe\">\n",
       "  <thead>\n",
       "    <tr style=\"text-align: right;\">\n",
       "      <th></th>\n",
       "      <th>user_id</th>\n",
       "      <th>location</th>\n",
       "      <th>age</th>\n",
       "    </tr>\n",
       "  </thead>\n",
       "  <tbody>\n",
       "    <tr>\n",
       "      <th>0</th>\n",
       "      <td>8</td>\n",
       "      <td>timmins, ontario, canada</td>\n",
       "      <td>NaN</td>\n",
       "    </tr>\n",
       "    <tr>\n",
       "      <th>1</th>\n",
       "      <td>11400</td>\n",
       "      <td>ottawa, ontario, canada</td>\n",
       "      <td>49.0</td>\n",
       "    </tr>\n",
       "    <tr>\n",
       "      <th>2</th>\n",
       "      <td>11676</td>\n",
       "      <td>n/a, n/a, n/a</td>\n",
       "      <td>NaN</td>\n",
       "    </tr>\n",
       "    <tr>\n",
       "      <th>3</th>\n",
       "      <td>67544</td>\n",
       "      <td>toronto, ontario, canada</td>\n",
       "      <td>30.0</td>\n",
       "    </tr>\n",
       "    <tr>\n",
       "      <th>4</th>\n",
       "      <td>85526</td>\n",
       "      <td>victoria, british columbia, canada</td>\n",
       "      <td>36.0</td>\n",
       "    </tr>\n",
       "  </tbody>\n",
       "</table>\n",
       "</div>"
      ],
      "text/plain": [
       "   user_id                            location   age\n",
       "0        8            timmins, ontario, canada   NaN\n",
       "1    11400             ottawa, ontario, canada  49.0\n",
       "2    11676                       n/a, n/a, n/a   NaN\n",
       "3    67544            toronto, ontario, canada  30.0\n",
       "4    85526  victoria, british columbia, canada  36.0"
      ]
     },
     "execution_count": 59,
     "metadata": {},
     "output_type": "execute_result"
    }
   ],
   "source": [
    "print(df_users.shape)\n",
    "df_users.head()"
   ]
  },
  {
   "attachments": {},
   "cell_type": "markdown",
   "metadata": {},
   "source": [
    "# 1. `string` 타입 열 전처리\n",
    "    \n",
    "    - 띄어쓰기, 필요없는 기호 제거 등"
   ]
  },
  {
   "cell_type": "code",
   "execution_count": 81,
   "metadata": {},
   "outputs": [],
   "source": [
    "def text_preprocessing(text):\n",
    "    text = re.sub(\"[.,\\'\\\"''\"\"!?]\", \"\", text)\n",
    "    text = re.sub(\"[^0-9a-zA-Z\\\\s]\", \" \", text)\n",
    "    text = re.sub(\"\\s+\", \" \", text)\n",
    "    text = text.lower()\n",
    "    text = text.strip()\n",
    "    return text"
   ]
  },
  {
   "attachments": {},
   "cell_type": "markdown",
   "metadata": {},
   "source": [
    "## 1.1 Book"
   ]
  },
  {
   "cell_type": "code",
   "execution_count": 82,
   "metadata": {},
   "outputs": [],
   "source": [
    "book = df_book.copy()"
   ]
  },
  {
   "cell_type": "code",
   "execution_count": 83,
   "metadata": {},
   "outputs": [
    {
     "name": "stdout",
     "output_type": "stream",
     "text": [
      "<class 'pandas.core.frame.DataFrame'>\n",
      "RangeIndex: 149570 entries, 0 to 149569\n",
      "Data columns (total 10 columns):\n",
      " #   Column               Non-Null Count   Dtype  \n",
      "---  ------               --------------   -----  \n",
      " 0   isbn                 149570 non-null  object \n",
      " 1   book_title           149570 non-null  object \n",
      " 2   book_author          149569 non-null  object \n",
      " 3   year_of_publication  149570 non-null  float64\n",
      " 4   publisher            149570 non-null  object \n",
      " 5   img_url              149570 non-null  object \n",
      " 6   language             82343 non-null   object \n",
      " 7   category             80719 non-null   object \n",
      " 8   summary              82343 non-null   object \n",
      " 9   img_path             149570 non-null  object \n",
      "dtypes: float64(1), object(9)\n",
      "memory usage: 11.4+ MB\n"
     ]
    }
   ],
   "source": [
    "book.info()"
   ]
  },
  {
   "cell_type": "code",
   "execution_count": 84,
   "metadata": {},
   "outputs": [
    {
     "name": "stderr",
     "output_type": "stream",
     "text": [
      "100%|██████████| 149570/149570 [36:04<00:00, 69.09it/s] \n"
     ]
    }
   ],
   "source": [
    "str_list_b = ['book_title', 'book_author', 'publisher', 'language', 'category', 'summary']\n",
    "\n",
    "for i in tqdm(range(len(book.index))):\n",
    "    for col in str_list_b:\n",
    "        if book.loc[i, col] is not np.nan:\n",
    "            book.loc[i, col] = text_preprocessing(book.loc[i, col])\n",
    "            book.loc[i, col] = book.loc[i, col].strip()"
   ]
  },
  {
   "attachments": {},
   "cell_type": "markdown",
   "metadata": {},
   "source": [
    "## 1.2 User"
   ]
  },
  {
   "cell_type": "code",
   "execution_count": 152,
   "metadata": {},
   "outputs": [],
   "source": [
    "user = df_users.copy()"
   ]
  },
  {
   "attachments": {},
   "cell_type": "markdown",
   "metadata": {},
   "source": [
    "### 1.2.1  `location`을 city, state, country로 분리"
   ]
  },
  {
   "cell_type": "code",
   "execution_count": 153,
   "metadata": {},
   "outputs": [],
   "source": [
    "def seperate_location(sen):\n",
    "    loc_sen = sen.split(',')\n",
    "    city = loc_sen[0].strip()\n",
    "    state = loc_sen[1].strip()\n",
    "    country = loc_sen[2].strip()\n",
    "    return city, state, country"
   ]
  },
  {
   "cell_type": "code",
   "execution_count": 154,
   "metadata": {},
   "outputs": [],
   "source": [
    "user[['city', 'state', 'country']] = user.apply(lambda x : seperate_location(x['location']), axis=1, result_type='expand')"
   ]
  },
  {
   "cell_type": "code",
   "execution_count": 155,
   "metadata": {},
   "outputs": [
    {
     "data": {
      "text/html": [
       "<div>\n",
       "<style scoped>\n",
       "    .dataframe tbody tr th:only-of-type {\n",
       "        vertical-align: middle;\n",
       "    }\n",
       "\n",
       "    .dataframe tbody tr th {\n",
       "        vertical-align: top;\n",
       "    }\n",
       "\n",
       "    .dataframe thead th {\n",
       "        text-align: right;\n",
       "    }\n",
       "</style>\n",
       "<table border=\"1\" class=\"dataframe\">\n",
       "  <thead>\n",
       "    <tr style=\"text-align: right;\">\n",
       "      <th></th>\n",
       "      <th>user_id</th>\n",
       "      <th>age</th>\n",
       "      <th>city</th>\n",
       "      <th>state</th>\n",
       "      <th>country</th>\n",
       "    </tr>\n",
       "  </thead>\n",
       "  <tbody>\n",
       "    <tr>\n",
       "      <th>0</th>\n",
       "      <td>8</td>\n",
       "      <td>NaN</td>\n",
       "      <td>timmins</td>\n",
       "      <td>ontario</td>\n",
       "      <td>canada</td>\n",
       "    </tr>\n",
       "    <tr>\n",
       "      <th>1</th>\n",
       "      <td>11400</td>\n",
       "      <td>49.0</td>\n",
       "      <td>ottawa</td>\n",
       "      <td>ontario</td>\n",
       "      <td>canada</td>\n",
       "    </tr>\n",
       "    <tr>\n",
       "      <th>2</th>\n",
       "      <td>11676</td>\n",
       "      <td>NaN</td>\n",
       "      <td>n/a</td>\n",
       "      <td>n/a</td>\n",
       "      <td>n/a</td>\n",
       "    </tr>\n",
       "    <tr>\n",
       "      <th>3</th>\n",
       "      <td>67544</td>\n",
       "      <td>30.0</td>\n",
       "      <td>toronto</td>\n",
       "      <td>ontario</td>\n",
       "      <td>canada</td>\n",
       "    </tr>\n",
       "    <tr>\n",
       "      <th>4</th>\n",
       "      <td>85526</td>\n",
       "      <td>36.0</td>\n",
       "      <td>victoria</td>\n",
       "      <td>british columbia</td>\n",
       "      <td>canada</td>\n",
       "    </tr>\n",
       "    <tr>\n",
       "      <th>...</th>\n",
       "      <td>...</td>\n",
       "      <td>...</td>\n",
       "      <td>...</td>\n",
       "      <td>...</td>\n",
       "      <td>...</td>\n",
       "    </tr>\n",
       "    <tr>\n",
       "      <th>68087</th>\n",
       "      <td>278376</td>\n",
       "      <td>54.0</td>\n",
       "      <td>danville</td>\n",
       "      <td>pennsylvania</td>\n",
       "      <td>usa</td>\n",
       "    </tr>\n",
       "    <tr>\n",
       "      <th>68088</th>\n",
       "      <td>278621</td>\n",
       "      <td>74.0</td>\n",
       "      <td>victoria</td>\n",
       "      <td>delaware</td>\n",
       "      <td>canada</td>\n",
       "    </tr>\n",
       "    <tr>\n",
       "      <th>68089</th>\n",
       "      <td>278636</td>\n",
       "      <td>NaN</td>\n",
       "      <td>irvington</td>\n",
       "      <td>alabama</td>\n",
       "      <td>usa</td>\n",
       "    </tr>\n",
       "    <tr>\n",
       "      <th>68090</th>\n",
       "      <td>278659</td>\n",
       "      <td>33.0</td>\n",
       "      <td>vancouver</td>\n",
       "      <td>washington</td>\n",
       "      <td>usa</td>\n",
       "    </tr>\n",
       "    <tr>\n",
       "      <th>68091</th>\n",
       "      <td>278713</td>\n",
       "      <td>63.0</td>\n",
       "      <td>albuquerque</td>\n",
       "      <td>new mexico</td>\n",
       "      <td>usa</td>\n",
       "    </tr>\n",
       "  </tbody>\n",
       "</table>\n",
       "<p>68092 rows × 5 columns</p>\n",
       "</div>"
      ],
      "text/plain": [
       "       user_id   age         city             state country\n",
       "0            8   NaN      timmins           ontario  canada\n",
       "1        11400  49.0       ottawa           ontario  canada\n",
       "2        11676   NaN          n/a               n/a     n/a\n",
       "3        67544  30.0      toronto           ontario  canada\n",
       "4        85526  36.0     victoria  british columbia  canada\n",
       "...        ...   ...          ...               ...     ...\n",
       "68087   278376  54.0     danville      pennsylvania     usa\n",
       "68088   278621  74.0     victoria          delaware  canada\n",
       "68089   278636   NaN    irvington           alabama     usa\n",
       "68090   278659  33.0    vancouver        washington     usa\n",
       "68091   278713  63.0  albuquerque        new mexico     usa\n",
       "\n",
       "[68092 rows x 5 columns]"
      ]
     },
     "execution_count": 155,
     "metadata": {},
     "output_type": "execute_result"
    }
   ],
   "source": [
    "user = user.drop('location', axis=1)\n",
    "user"
   ]
  },
  {
   "attachments": {},
   "cell_type": "markdown",
   "metadata": {},
   "source": [
    "### 1.2.2 text preprocessing"
   ]
  },
  {
   "cell_type": "code",
   "execution_count": 156,
   "metadata": {},
   "outputs": [],
   "source": [
    "# 'n/a' 문자 들어있는 값 모두 null 처리\n",
    "user.loc[user.city.str.count('n/a')>=1, 'city'] = np.nan\n",
    "user.loc[user.state.str.count('n/a')>=1, 'state'] = np.nan\n",
    "user.loc[user.country.str.count('n/a')>=1, 'country'] = np.nan"
   ]
  },
  {
   "cell_type": "code",
   "execution_count": 157,
   "metadata": {},
   "outputs": [
    {
     "name": "stdout",
     "output_type": "stream",
     "text": [
      "0\n",
      "0\n",
      "0\n"
     ]
    }
   ],
   "source": [
    "print(sum(user.city.str.count('n/a')==1))\n",
    "print(sum(user.state.str.count('n/a')==1))\n",
    "print(sum(user.country.str.count('n/a')==1))"
   ]
  },
  {
   "cell_type": "code",
   "execution_count": 158,
   "metadata": {},
   "outputs": [
    {
     "name": "stderr",
     "output_type": "stream",
     "text": [
      "100%|██████████| 68092/68092 [00:39<00:00, 1725.91it/s]\n"
     ]
    }
   ],
   "source": [
    "str_list_u = ['city', 'state', 'country']\n",
    "\n",
    "for i in tqdm(range(len(user.index))):\n",
    "    for col in str_list_u:\n",
    "        if user.loc[i, col] is not np.nan:\n",
    "            user.loc[i, col] = text_preprocessing(user.loc[i, col])\n",
    "            user.loc[i, col] = user.loc[i, col].strip()"
   ]
  },
  {
   "cell_type": "code",
   "execution_count": 159,
   "metadata": {},
   "outputs": [],
   "source": [
    "user.loc[user['city']=='', 'city'] = np.nan\n",
    "user.loc[user['state']=='', 'state'] = np.nan\n",
    "user.loc[user['country']=='', 'country'] = np.nan"
   ]
  },
  {
   "cell_type": "code",
   "execution_count": 160,
   "metadata": {},
   "outputs": [
    {
     "data": {
      "text/html": [
       "<div>\n",
       "<style scoped>\n",
       "    .dataframe tbody tr th:only-of-type {\n",
       "        vertical-align: middle;\n",
       "    }\n",
       "\n",
       "    .dataframe tbody tr th {\n",
       "        vertical-align: top;\n",
       "    }\n",
       "\n",
       "    .dataframe thead th {\n",
       "        text-align: right;\n",
       "    }\n",
       "</style>\n",
       "<table border=\"1\" class=\"dataframe\">\n",
       "  <thead>\n",
       "    <tr style=\"text-align: right;\">\n",
       "      <th></th>\n",
       "      <th>user_id</th>\n",
       "      <th>age</th>\n",
       "      <th>city</th>\n",
       "      <th>state</th>\n",
       "      <th>country</th>\n",
       "    </tr>\n",
       "  </thead>\n",
       "  <tbody>\n",
       "    <tr>\n",
       "      <th>0</th>\n",
       "      <td>8</td>\n",
       "      <td>NaN</td>\n",
       "      <td>timmins</td>\n",
       "      <td>ontario</td>\n",
       "      <td>canada</td>\n",
       "    </tr>\n",
       "    <tr>\n",
       "      <th>1</th>\n",
       "      <td>11400</td>\n",
       "      <td>49.0</td>\n",
       "      <td>ottawa</td>\n",
       "      <td>ontario</td>\n",
       "      <td>canada</td>\n",
       "    </tr>\n",
       "    <tr>\n",
       "      <th>2</th>\n",
       "      <td>11676</td>\n",
       "      <td>NaN</td>\n",
       "      <td>NaN</td>\n",
       "      <td>NaN</td>\n",
       "      <td>NaN</td>\n",
       "    </tr>\n",
       "    <tr>\n",
       "      <th>3</th>\n",
       "      <td>67544</td>\n",
       "      <td>30.0</td>\n",
       "      <td>toronto</td>\n",
       "      <td>ontario</td>\n",
       "      <td>canada</td>\n",
       "    </tr>\n",
       "    <tr>\n",
       "      <th>4</th>\n",
       "      <td>85526</td>\n",
       "      <td>36.0</td>\n",
       "      <td>victoria</td>\n",
       "      <td>british columbia</td>\n",
       "      <td>canada</td>\n",
       "    </tr>\n",
       "    <tr>\n",
       "      <th>...</th>\n",
       "      <td>...</td>\n",
       "      <td>...</td>\n",
       "      <td>...</td>\n",
       "      <td>...</td>\n",
       "      <td>...</td>\n",
       "    </tr>\n",
       "    <tr>\n",
       "      <th>68087</th>\n",
       "      <td>278376</td>\n",
       "      <td>54.0</td>\n",
       "      <td>danville</td>\n",
       "      <td>pennsylvania</td>\n",
       "      <td>usa</td>\n",
       "    </tr>\n",
       "    <tr>\n",
       "      <th>68088</th>\n",
       "      <td>278621</td>\n",
       "      <td>74.0</td>\n",
       "      <td>victoria</td>\n",
       "      <td>delaware</td>\n",
       "      <td>canada</td>\n",
       "    </tr>\n",
       "    <tr>\n",
       "      <th>68089</th>\n",
       "      <td>278636</td>\n",
       "      <td>NaN</td>\n",
       "      <td>irvington</td>\n",
       "      <td>alabama</td>\n",
       "      <td>usa</td>\n",
       "    </tr>\n",
       "    <tr>\n",
       "      <th>68090</th>\n",
       "      <td>278659</td>\n",
       "      <td>33.0</td>\n",
       "      <td>vancouver</td>\n",
       "      <td>washington</td>\n",
       "      <td>usa</td>\n",
       "    </tr>\n",
       "    <tr>\n",
       "      <th>68091</th>\n",
       "      <td>278713</td>\n",
       "      <td>63.0</td>\n",
       "      <td>albuquerque</td>\n",
       "      <td>new mexico</td>\n",
       "      <td>usa</td>\n",
       "    </tr>\n",
       "  </tbody>\n",
       "</table>\n",
       "<p>68092 rows × 5 columns</p>\n",
       "</div>"
      ],
      "text/plain": [
       "       user_id   age         city             state country\n",
       "0            8   NaN      timmins           ontario  canada\n",
       "1        11400  49.0       ottawa           ontario  canada\n",
       "2        11676   NaN          NaN               NaN     NaN\n",
       "3        67544  30.0      toronto           ontario  canada\n",
       "4        85526  36.0     victoria  british columbia  canada\n",
       "...        ...   ...          ...               ...     ...\n",
       "68087   278376  54.0     danville      pennsylvania     usa\n",
       "68088   278621  74.0     victoria          delaware  canada\n",
       "68089   278636   NaN    irvington           alabama     usa\n",
       "68090   278659  33.0    vancouver        washington     usa\n",
       "68091   278713  63.0  albuquerque        new mexico     usa\n",
       "\n",
       "[68092 rows x 5 columns]"
      ]
     },
     "execution_count": 160,
     "metadata": {},
     "output_type": "execute_result"
    }
   ],
   "source": [
    "user"
   ]
  },
  {
   "attachments": {},
   "cell_type": "markdown",
   "metadata": {},
   "source": [
    "# 2. Books, Users, Train_ratings을 Merge"
   ]
  },
  {
   "attachments": {},
   "cell_type": "markdown",
   "metadata": {},
   "source": [
    "## 2.1 `location` 열 (merge 전에 작업)"
   ]
  },
  {
   "cell_type": "code",
   "execution_count": 161,
   "metadata": {},
   "outputs": [
    {
     "name": "stdout",
     "output_type": "stream",
     "text": [
      "<class 'pandas.core.frame.DataFrame'>\n",
      "RangeIndex: 68092 entries, 0 to 68091\n",
      "Data columns (total 5 columns):\n",
      " #   Column   Non-Null Count  Dtype  \n",
      "---  ------   --------------  -----  \n",
      " 0   user_id  68092 non-null  int64  \n",
      " 1   age      40259 non-null  float64\n",
      " 2   city     67979 non-null  object \n",
      " 3   state    64857 non-null  object \n",
      " 4   country  65967 non-null  object \n",
      "dtypes: float64(1), int64(1), object(3)\n",
      "memory usage: 2.6+ MB\n"
     ]
    }
   ],
   "source": [
    "user.info()"
   ]
  },
  {
   "cell_type": "code",
   "execution_count": 162,
   "metadata": {},
   "outputs": [
    {
     "name": "stderr",
     "output_type": "stream",
     "text": [
      "/tmp/ipykernel_42328/3639127904.py:3: SettingWithCopyWarning: \n",
      "A value is trying to be set on a copy of a slice from a DataFrame\n",
      "\n",
      "See the caveats in the documentation: https://pandas.pydata.org/pandas-docs/stable/user_guide/indexing.html#returning-a-view-versus-a-copy\n",
      "  location_df.drop_duplicates(inplace=True, ignore_index=True)\n",
      "/tmp/ipykernel_42328/3639127904.py:4: SettingWithCopyWarning: \n",
      "A value is trying to be set on a copy of a slice from a DataFrame\n",
      "\n",
      "See the caveats in the documentation: https://pandas.pydata.org/pandas-docs/stable/user_guide/indexing.html#returning-a-view-versus-a-copy\n",
      "  location_df.dropna(inplace=True, ignore_index=True)\n"
     ]
    },
    {
     "data": {
      "text/html": [
       "<div>\n",
       "<style scoped>\n",
       "    .dataframe tbody tr th:only-of-type {\n",
       "        vertical-align: middle;\n",
       "    }\n",
       "\n",
       "    .dataframe tbody tr th {\n",
       "        vertical-align: top;\n",
       "    }\n",
       "\n",
       "    .dataframe thead th {\n",
       "        text-align: right;\n",
       "    }\n",
       "</style>\n",
       "<table border=\"1\" class=\"dataframe\">\n",
       "  <thead>\n",
       "    <tr style=\"text-align: right;\">\n",
       "      <th></th>\n",
       "      <th>city</th>\n",
       "      <th>state</th>\n",
       "      <th>country</th>\n",
       "    </tr>\n",
       "  </thead>\n",
       "  <tbody>\n",
       "    <tr>\n",
       "      <th>0</th>\n",
       "      <td>timmins</td>\n",
       "      <td>ontario</td>\n",
       "      <td>canada</td>\n",
       "    </tr>\n",
       "    <tr>\n",
       "      <th>1</th>\n",
       "      <td>ottawa</td>\n",
       "      <td>ontario</td>\n",
       "      <td>canada</td>\n",
       "    </tr>\n",
       "    <tr>\n",
       "      <th>2</th>\n",
       "      <td>toronto</td>\n",
       "      <td>ontario</td>\n",
       "      <td>canada</td>\n",
       "    </tr>\n",
       "    <tr>\n",
       "      <th>3</th>\n",
       "      <td>victoria</td>\n",
       "      <td>british columbia</td>\n",
       "      <td>canada</td>\n",
       "    </tr>\n",
       "    <tr>\n",
       "      <th>4</th>\n",
       "      <td>kingston</td>\n",
       "      <td>ontario</td>\n",
       "      <td>canada</td>\n",
       "    </tr>\n",
       "    <tr>\n",
       "      <th>...</th>\n",
       "      <td>...</td>\n",
       "      <td>...</td>\n",
       "      <td>...</td>\n",
       "    </tr>\n",
       "    <tr>\n",
       "      <th>15802</th>\n",
       "      <td>copenhagen s</td>\n",
       "      <td>sj lland</td>\n",
       "      <td>denmark</td>\n",
       "    </tr>\n",
       "    <tr>\n",
       "      <th>15803</th>\n",
       "      <td>grasse</td>\n",
       "      <td>alpes maritimes</td>\n",
       "      <td>france</td>\n",
       "    </tr>\n",
       "    <tr>\n",
       "      <th>15804</th>\n",
       "      <td>na</td>\n",
       "      <td>manitoba</td>\n",
       "      <td>canada</td>\n",
       "    </tr>\n",
       "    <tr>\n",
       "      <th>15805</th>\n",
       "      <td>victoria</td>\n",
       "      <td>delaware</td>\n",
       "      <td>canada</td>\n",
       "    </tr>\n",
       "    <tr>\n",
       "      <th>15806</th>\n",
       "      <td>irvington</td>\n",
       "      <td>alabama</td>\n",
       "      <td>usa</td>\n",
       "    </tr>\n",
       "  </tbody>\n",
       "</table>\n",
       "<p>15807 rows × 3 columns</p>\n",
       "</div>"
      ],
      "text/plain": [
       "               city             state  country\n",
       "0           timmins           ontario   canada\n",
       "1            ottawa           ontario   canada\n",
       "2           toronto           ontario   canada\n",
       "3          victoria  british columbia   canada\n",
       "4          kingston           ontario   canada\n",
       "...             ...               ...      ...\n",
       "15802  copenhagen s          sj lland  denmark\n",
       "15803        grasse   alpes maritimes   france\n",
       "15804            na          manitoba   canada\n",
       "15805      victoria          delaware   canada\n",
       "15806     irvington           alabama      usa\n",
       "\n",
       "[15807 rows x 3 columns]"
      ]
     },
     "execution_count": 162,
     "metadata": {},
     "output_type": "execute_result"
    }
   ],
   "source": [
    "# 중복값, null 없는 location_df 생성\n",
    "location_df = user[['city', 'state', 'country']]\n",
    "location_df.drop_duplicates(inplace=True, ignore_index=True)\n",
    "location_df.dropna(inplace=True, ignore_index=True)\n",
    "\n",
    "location_df"
   ]
  },
  {
   "attachments": {},
   "cell_type": "markdown",
   "metadata": {},
   "source": [
    "### 2.1.1 state, country 둘 다 비어 있는 경우"
   ]
  },
  {
   "cell_type": "code",
   "execution_count": 163,
   "metadata": {},
   "outputs": [
    {
     "data": {
      "text/html": [
       "<div>\n",
       "<style scoped>\n",
       "    .dataframe tbody tr th:only-of-type {\n",
       "        vertical-align: middle;\n",
       "    }\n",
       "\n",
       "    .dataframe tbody tr th {\n",
       "        vertical-align: top;\n",
       "    }\n",
       "\n",
       "    .dataframe thead th {\n",
       "        text-align: right;\n",
       "    }\n",
       "</style>\n",
       "<table border=\"1\" class=\"dataframe\">\n",
       "  <thead>\n",
       "    <tr style=\"text-align: right;\">\n",
       "      <th></th>\n",
       "      <th>city</th>\n",
       "      <th>state</th>\n",
       "      <th>country</th>\n",
       "    </tr>\n",
       "  </thead>\n",
       "  <tbody>\n",
       "    <tr>\n",
       "      <th>1</th>\n",
       "      <td>ottawa</td>\n",
       "      <td>ontario</td>\n",
       "      <td>canada</td>\n",
       "    </tr>\n",
       "    <tr>\n",
       "      <th>2709</th>\n",
       "      <td>ottawa</td>\n",
       "      <td>ontario</td>\n",
       "      <td>k1c7b1</td>\n",
       "    </tr>\n",
       "    <tr>\n",
       "      <th>6040</th>\n",
       "      <td>ottawa</td>\n",
       "      <td>illinois</td>\n",
       "      <td>usa</td>\n",
       "    </tr>\n",
       "    <tr>\n",
       "      <th>9453</th>\n",
       "      <td>ottawa</td>\n",
       "      <td>oregon</td>\n",
       "      <td>canada</td>\n",
       "    </tr>\n",
       "    <tr>\n",
       "      <th>13226</th>\n",
       "      <td>ottawa</td>\n",
       "      <td>kansas</td>\n",
       "      <td>usa</td>\n",
       "    </tr>\n",
       "  </tbody>\n",
       "</table>\n",
       "</div>"
      ],
      "text/plain": [
       "         city     state country\n",
       "1      ottawa   ontario  canada\n",
       "2709   ottawa   ontario  k1c7b1\n",
       "6040   ottawa  illinois     usa\n",
       "9453   ottawa    oregon  canada\n",
       "13226  ottawa    kansas     usa"
      ]
     },
     "execution_count": 163,
     "metadata": {},
     "output_type": "execute_result"
    }
   ],
   "source": [
    "location_df[location_df['city']==location_df.iloc[1, 0]]"
   ]
  },
  {
   "cell_type": "code",
   "execution_count": 166,
   "metadata": {},
   "outputs": [
    {
     "name": "stderr",
     "output_type": "stream",
     "text": [
      "100%|██████████| 15807/15807 [07:11<00:00, 36.66it/s]\n"
     ]
    }
   ],
   "source": [
    "for i in tqdm(range(len(location_df.index))):\n",
    "    user.loc[(user['city']==location_df.iloc[i, 0])&(user['state'].isnull())&(user['country'].isnull()), 'state'] \\\n",
    "                                = location_df[location_df['city']==location_df.iloc[i, 0]].value_counts().idxmax()[1]\n",
    "    user.loc[(user['city']==location_df.iloc[i, 0])&(user['state'].isnull())&(user['country'].isnull()),'country'] \\\n",
    "                                = location_df[location_df['city']==location_df.iloc[i, 0]].value_counts().idxmax()[2]"
   ]
  },
  {
   "attachments": {},
   "cell_type": "markdown",
   "metadata": {},
   "source": [
    "### 2.1.2 country만 비어있는 경우"
   ]
  },
  {
   "cell_type": "code",
   "execution_count": 167,
   "metadata": {},
   "outputs": [
    {
     "data": {
      "text/plain": [
       "city        ottawa\n",
       "state      ontario\n",
       "country     canada\n",
       "Name: 1, dtype: object"
      ]
     },
     "execution_count": 167,
     "metadata": {},
     "output_type": "execute_result"
    }
   ],
   "source": [
    "location_df.iloc[1, :]"
   ]
  },
  {
   "cell_type": "code",
   "execution_count": 168,
   "metadata": {},
   "outputs": [
    {
     "name": "stderr",
     "output_type": "stream",
     "text": [
      "100%|██████████| 15807/15807 [04:29<00:00, 58.62it/s]\n"
     ]
    }
   ],
   "source": [
    "# city, state 모두 같을 때 가장 많이 나오는 나라로 대체\n",
    "for i in tqdm(range(len(location_df.index))):\n",
    "    user.loc[(user['city']==location_df.iloc[i, 0])&(user['state']==location_df.iloc[i, 1])&(user['country'].isnull()), 'country'] \\\n",
    "                        = location_df[(location_df['city']==location_df.iloc[i, 0])&(location_df['state']==location_df.iloc[i, 1])].value_counts().idxmax()[2]"
   ]
  },
  {
   "cell_type": "code",
   "execution_count": 171,
   "metadata": {},
   "outputs": [
    {
     "name": "stderr",
     "output_type": "stream",
     "text": [
      "100%|██████████| 15807/15807 [02:34<00:00, 102.32it/s]\n"
     ]
    }
   ],
   "source": [
    "# state 같을 때 가장 많이 나오는 나라로 대체\n",
    "for i in tqdm(range(len(location_df.index))):\n",
    "    user.loc[(user['state']==location_df.iloc[i, 1])&(user['country'].isnull()), 'country'] \\\n",
    "                        = location_df.loc[location_df['state']==location_df.iloc[i, 1], 'country'].value_counts().index[0]"
   ]
  },
  {
   "cell_type": "code",
   "execution_count": 172,
   "metadata": {},
   "outputs": [
    {
     "name": "stdout",
     "output_type": "stream",
     "text": [
      "<class 'pandas.core.frame.DataFrame'>\n",
      "RangeIndex: 68092 entries, 0 to 68091\n",
      "Data columns (total 5 columns):\n",
      " #   Column   Non-Null Count  Dtype  \n",
      "---  ------   --------------  -----  \n",
      " 0   user_id  68092 non-null  int64  \n",
      " 1   age      40259 non-null  float64\n",
      " 2   city     67979 non-null  object \n",
      " 3   state    66234 non-null  object \n",
      " 4   country  67947 non-null  object \n",
      "dtypes: float64(1), int64(1), object(3)\n",
      "memory usage: 2.6+ MB\n"
     ]
    }
   ],
   "source": [
    "user.info()"
   ]
  },
  {
   "attachments": {},
   "cell_type": "markdown",
   "metadata": {},
   "source": [
    "### 2.1.3 state 비어있는 경우"
   ]
  },
  {
   "cell_type": "code",
   "execution_count": 175,
   "metadata": {},
   "outputs": [
    {
     "name": "stderr",
     "output_type": "stream",
     "text": [
      "100%|██████████| 15807/15807 [04:38<00:00, 56.68it/s]\n"
     ]
    }
   ],
   "source": [
    "# city, country 같을 때 가장 많이 나오는 state로 대체\n",
    "for i in tqdm(range(len(location_df.index))):\n",
    "    user.loc[(user['city']==location_df.iloc[i, 0])&(user['country']==location_df.iloc[i, 2])&(user['state'].isnull()), 'state'] \\\n",
    "                        = location_df[(location_df['city']==location_df.iloc[i, 0])&(location_df['country']==location_df.iloc[i, 2])].value_counts().idxmax()[1]"
   ]
  },
  {
   "cell_type": "code",
   "execution_count": 177,
   "metadata": {},
   "outputs": [
    {
     "name": "stdout",
     "output_type": "stream",
     "text": [
      "<class 'pandas.core.frame.DataFrame'>\n",
      "RangeIndex: 67442 entries, 0 to 67441\n",
      "Data columns (total 5 columns):\n",
      " #   Column   Non-Null Count  Dtype  \n",
      "---  ------   --------------  -----  \n",
      " 0   user_id  67442 non-null  int64  \n",
      " 1   age      39889 non-null  float64\n",
      " 2   city     67442 non-null  object \n",
      " 3   state    67442 non-null  object \n",
      " 4   country  67442 non-null  object \n",
      "dtypes: float64(1), int64(1), object(3)\n",
      "memory usage: 2.6+ MB\n",
      "None\n"
     ]
    }
   ],
   "source": [
    "user.dropna(subset=['city', 'state', 'country'], ignore_index=True, inplace=True)\n",
    "print(user.info())"
   ]
  },
  {
   "cell_type": "code",
   "execution_count": 181,
   "metadata": {},
   "outputs": [
    {
     "name": "stdout",
     "output_type": "stream",
     "text": [
      "(67442, 5)\n"
     ]
    },
    {
     "data": {
      "text/html": [
       "<div>\n",
       "<style scoped>\n",
       "    .dataframe tbody tr th:only-of-type {\n",
       "        vertical-align: middle;\n",
       "    }\n",
       "\n",
       "    .dataframe tbody tr th {\n",
       "        vertical-align: top;\n",
       "    }\n",
       "\n",
       "    .dataframe thead th {\n",
       "        text-align: right;\n",
       "    }\n",
       "</style>\n",
       "<table border=\"1\" class=\"dataframe\">\n",
       "  <thead>\n",
       "    <tr style=\"text-align: right;\">\n",
       "      <th></th>\n",
       "      <th>user_id</th>\n",
       "      <th>age</th>\n",
       "      <th>city</th>\n",
       "      <th>state</th>\n",
       "      <th>country</th>\n",
       "    </tr>\n",
       "  </thead>\n",
       "  <tbody>\n",
       "    <tr>\n",
       "      <th>0</th>\n",
       "      <td>8</td>\n",
       "      <td>NaN</td>\n",
       "      <td>timmins</td>\n",
       "      <td>ontario</td>\n",
       "      <td>canada</td>\n",
       "    </tr>\n",
       "    <tr>\n",
       "      <th>1</th>\n",
       "      <td>11400</td>\n",
       "      <td>49.0</td>\n",
       "      <td>ottawa</td>\n",
       "      <td>ontario</td>\n",
       "      <td>canada</td>\n",
       "    </tr>\n",
       "    <tr>\n",
       "      <th>2</th>\n",
       "      <td>67544</td>\n",
       "      <td>30.0</td>\n",
       "      <td>toronto</td>\n",
       "      <td>ontario</td>\n",
       "      <td>canada</td>\n",
       "    </tr>\n",
       "    <tr>\n",
       "      <th>3</th>\n",
       "      <td>85526</td>\n",
       "      <td>36.0</td>\n",
       "      <td>victoria</td>\n",
       "      <td>british columbia</td>\n",
       "      <td>canada</td>\n",
       "    </tr>\n",
       "    <tr>\n",
       "      <th>4</th>\n",
       "      <td>96054</td>\n",
       "      <td>29.0</td>\n",
       "      <td>ottawa</td>\n",
       "      <td>ontario</td>\n",
       "      <td>canada</td>\n",
       "    </tr>\n",
       "  </tbody>\n",
       "</table>\n",
       "</div>"
      ],
      "text/plain": [
       "   user_id   age      city             state country\n",
       "0        8   NaN   timmins           ontario  canada\n",
       "1    11400  49.0    ottawa           ontario  canada\n",
       "2    67544  30.0   toronto           ontario  canada\n",
       "3    85526  36.0  victoria  british columbia  canada\n",
       "4    96054  29.0    ottawa           ontario  canada"
      ]
     },
     "execution_count": 181,
     "metadata": {},
     "output_type": "execute_result"
    }
   ],
   "source": [
    "print(user.shape)\n",
    "user.head(5)"
   ]
  },
  {
   "attachments": {},
   "cell_type": "markdown",
   "metadata": {},
   "source": [
    "## 2.2 `age` 열"
   ]
  },
  {
   "attachments": {},
   "cell_type": "markdown",
   "metadata": {},
   "source": [
    "users, books, ratings 비로소 병합"
   ]
  },
  {
   "cell_type": "code",
   "execution_count": 180,
   "metadata": {},
   "outputs": [
    {
     "name": "stdout",
     "output_type": "stream",
     "text": [
      "df_total shape :  (298194, 16)\n"
     ]
    },
    {
     "data": {
      "text/html": [
       "<div>\n",
       "<style scoped>\n",
       "    .dataframe tbody tr th:only-of-type {\n",
       "        vertical-align: middle;\n",
       "    }\n",
       "\n",
       "    .dataframe tbody tr th {\n",
       "        vertical-align: top;\n",
       "    }\n",
       "\n",
       "    .dataframe thead th {\n",
       "        text-align: right;\n",
       "    }\n",
       "</style>\n",
       "<table border=\"1\" class=\"dataframe\">\n",
       "  <thead>\n",
       "    <tr style=\"text-align: right;\">\n",
       "      <th></th>\n",
       "      <th>user_id</th>\n",
       "      <th>age</th>\n",
       "      <th>city</th>\n",
       "      <th>state</th>\n",
       "      <th>country</th>\n",
       "      <th>isbn</th>\n",
       "      <th>rating</th>\n",
       "      <th>book_title</th>\n",
       "      <th>book_author</th>\n",
       "      <th>year_of_publication</th>\n",
       "      <th>publisher</th>\n",
       "      <th>img_url</th>\n",
       "      <th>language</th>\n",
       "      <th>category</th>\n",
       "      <th>summary</th>\n",
       "      <th>img_path</th>\n",
       "    </tr>\n",
       "  </thead>\n",
       "  <tbody>\n",
       "    <tr>\n",
       "      <th>0</th>\n",
       "      <td>8</td>\n",
       "      <td>NaN</td>\n",
       "      <td>timmins</td>\n",
       "      <td>ontario</td>\n",
       "      <td>canada</td>\n",
       "      <td>0002005018</td>\n",
       "      <td>4</td>\n",
       "      <td>clara callan</td>\n",
       "      <td>richard bruce wright</td>\n",
       "      <td>2001.0</td>\n",
       "      <td>harperflamingo canada</td>\n",
       "      <td>http://images.amazon.com/images/P/0002005018.0...</td>\n",
       "      <td>en</td>\n",
       "      <td>actresses</td>\n",
       "      <td>in a small town in canada clara callan relucta...</td>\n",
       "      <td>images/0002005018.01.THUMBZZZ.jpg</td>\n",
       "    </tr>\n",
       "    <tr>\n",
       "      <th>1</th>\n",
       "      <td>8</td>\n",
       "      <td>NaN</td>\n",
       "      <td>timmins</td>\n",
       "      <td>ontario</td>\n",
       "      <td>canada</td>\n",
       "      <td>074322678X</td>\n",
       "      <td>4</td>\n",
       "      <td>where youll find me and other stories</td>\n",
       "      <td>ann beattie</td>\n",
       "      <td>2002.0</td>\n",
       "      <td>scribner</td>\n",
       "      <td>http://images.amazon.com/images/P/074322678X.0...</td>\n",
       "      <td>en</td>\n",
       "      <td>fiction</td>\n",
       "      <td>now back in print ann beattie 39 s finest shor...</td>\n",
       "      <td>images/074322678X.01.THUMBZZZ.jpg</td>\n",
       "    </tr>\n",
       "    <tr>\n",
       "      <th>2</th>\n",
       "      <td>8</td>\n",
       "      <td>NaN</td>\n",
       "      <td>timmins</td>\n",
       "      <td>ontario</td>\n",
       "      <td>canada</td>\n",
       "      <td>0887841740</td>\n",
       "      <td>2</td>\n",
       "      <td>the middle stories</td>\n",
       "      <td>sheila heti</td>\n",
       "      <td>2004.0</td>\n",
       "      <td>house of anansi press</td>\n",
       "      <td>http://images.amazon.com/images/P/0887841740.0...</td>\n",
       "      <td>NaN</td>\n",
       "      <td>NaN</td>\n",
       "      <td>NaN</td>\n",
       "      <td>images/0887841740.01.THUMBZZZ.jpg</td>\n",
       "    </tr>\n",
       "    <tr>\n",
       "      <th>3</th>\n",
       "      <td>8</td>\n",
       "      <td>NaN</td>\n",
       "      <td>timmins</td>\n",
       "      <td>ontario</td>\n",
       "      <td>canada</td>\n",
       "      <td>1552041778</td>\n",
       "      <td>2</td>\n",
       "      <td>jane doe</td>\n",
       "      <td>r j kaiser</td>\n",
       "      <td>1999.0</td>\n",
       "      <td>mira books</td>\n",
       "      <td>http://images.amazon.com/images/P/1552041778.0...</td>\n",
       "      <td>NaN</td>\n",
       "      <td>NaN</td>\n",
       "      <td>NaN</td>\n",
       "      <td>images/1552041778.01.THUMBZZZ.jpg</td>\n",
       "    </tr>\n",
       "    <tr>\n",
       "      <th>4</th>\n",
       "      <td>8</td>\n",
       "      <td>NaN</td>\n",
       "      <td>timmins</td>\n",
       "      <td>ontario</td>\n",
       "      <td>canada</td>\n",
       "      <td>1567407781</td>\n",
       "      <td>6</td>\n",
       "      <td>the witchfinder amos walker mystery series</td>\n",
       "      <td>loren d estleman</td>\n",
       "      <td>1998.0</td>\n",
       "      <td>brilliance audio trade</td>\n",
       "      <td>http://images.amazon.com/images/P/1567407781.0...</td>\n",
       "      <td>NaN</td>\n",
       "      <td>NaN</td>\n",
       "      <td>NaN</td>\n",
       "      <td>images/1567407781.01.THUMBZZZ.jpg</td>\n",
       "    </tr>\n",
       "  </tbody>\n",
       "</table>\n",
       "</div>"
      ],
      "text/plain": [
       "   user_id  age     city    state country        isbn  rating   \n",
       "0        8  NaN  timmins  ontario  canada  0002005018       4  \\\n",
       "1        8  NaN  timmins  ontario  canada  074322678X       4   \n",
       "2        8  NaN  timmins  ontario  canada  0887841740       2   \n",
       "3        8  NaN  timmins  ontario  canada  1552041778       2   \n",
       "4        8  NaN  timmins  ontario  canada  1567407781       6   \n",
       "\n",
       "                                   book_title           book_author   \n",
       "0                                clara callan  richard bruce wright  \\\n",
       "1       where youll find me and other stories           ann beattie   \n",
       "2                          the middle stories           sheila heti   \n",
       "3                                    jane doe            r j kaiser   \n",
       "4  the witchfinder amos walker mystery series      loren d estleman   \n",
       "\n",
       "   year_of_publication               publisher   \n",
       "0               2001.0   harperflamingo canada  \\\n",
       "1               2002.0                scribner   \n",
       "2               2004.0   house of anansi press   \n",
       "3               1999.0              mira books   \n",
       "4               1998.0  brilliance audio trade   \n",
       "\n",
       "                                             img_url language   category   \n",
       "0  http://images.amazon.com/images/P/0002005018.0...       en  actresses  \\\n",
       "1  http://images.amazon.com/images/P/074322678X.0...       en    fiction   \n",
       "2  http://images.amazon.com/images/P/0887841740.0...      NaN        NaN   \n",
       "3  http://images.amazon.com/images/P/1552041778.0...      NaN        NaN   \n",
       "4  http://images.amazon.com/images/P/1567407781.0...      NaN        NaN   \n",
       "\n",
       "                                             summary   \n",
       "0  in a small town in canada clara callan relucta...  \\\n",
       "1  now back in print ann beattie 39 s finest shor...   \n",
       "2                                                NaN   \n",
       "3                                                NaN   \n",
       "4                                                NaN   \n",
       "\n",
       "                            img_path  \n",
       "0  images/0002005018.01.THUMBZZZ.jpg  \n",
       "1  images/074322678X.01.THUMBZZZ.jpg  \n",
       "2  images/0887841740.01.THUMBZZZ.jpg  \n",
       "3  images/1552041778.01.THUMBZZZ.jpg  \n",
       "4  images/1567407781.01.THUMBZZZ.jpg  "
      ]
     },
     "execution_count": 180,
     "metadata": {},
     "output_type": "execute_result"
    }
   ],
   "source": [
    "df = df_train.merge(book, on='isbn')\n",
    "total = user.merge(df, on='user_id')\n",
    "\n",
    "print('df_total shape : ', total.shape)\n",
    "total.head(5)"
   ]
  },
  {
   "cell_type": "code",
   "execution_count": 182,
   "metadata": {},
   "outputs": [],
   "source": [
    "total.to_csv(folder_name + '/' + 'total.csv', index=False)"
   ]
  },
  {
   "cell_type": "code",
   "execution_count": 183,
   "metadata": {},
   "outputs": [
    {
     "name": "stdout",
     "output_type": "stream",
     "text": [
      "<class 'pandas.core.frame.DataFrame'>\n",
      "RangeIndex: 298194 entries, 0 to 298193\n",
      "Data columns (total 16 columns):\n",
      " #   Column               Non-Null Count   Dtype  \n",
      "---  ------               --------------   -----  \n",
      " 0   user_id              298194 non-null  int64  \n",
      " 1   age                  212055 non-null  float64\n",
      " 2   city                 298194 non-null  object \n",
      " 3   state                298194 non-null  object \n",
      " 4   country              298194 non-null  object \n",
      " 5   isbn                 298194 non-null  object \n",
      " 6   rating               298194 non-null  int64  \n",
      " 7   book_title           298194 non-null  object \n",
      " 8   book_author          298193 non-null  object \n",
      " 9   year_of_publication  298194 non-null  float64\n",
      " 10  publisher            298194 non-null  object \n",
      " 11  img_url              298194 non-null  object \n",
      " 12  language             182621 non-null  object \n",
      " 13  category             180563 non-null  object \n",
      " 14  summary              182621 non-null  object \n",
      " 15  img_path             298194 non-null  object \n",
      "dtypes: float64(2), int64(2), object(12)\n",
      "memory usage: 36.4+ MB\n"
     ]
    }
   ],
   "source": [
    "total.info()"
   ]
  },
  {
   "cell_type": "code",
   "execution_count": 184,
   "metadata": {},
   "outputs": [
    {
     "data": {
      "text/plain": [
       "user_id                     0\n",
       "age                     86139\n",
       "city                        0\n",
       "state                       0\n",
       "country                     0\n",
       "isbn                        0\n",
       "rating                      0\n",
       "book_title                  0\n",
       "book_author                 1\n",
       "year_of_publication         0\n",
       "publisher                   0\n",
       "img_url                     0\n",
       "language               115573\n",
       "category               117631\n",
       "summary                115573\n",
       "img_path                    0\n",
       "dtype: int64"
      ]
     },
     "execution_count": 184,
     "metadata": {},
     "output_type": "execute_result"
    }
   ],
   "source": [
    "total.isnull().sum()"
   ]
  },
  {
   "attachments": {},
   "cell_type": "markdown",
   "metadata": {},
   "source": [
    "### 2.2.1 age 평균 표준편차가 가장 적은 2개의 열"
   ]
  },
  {
   "cell_type": "code",
   "execution_count": 188,
   "metadata": {},
   "outputs": [
    {
     "name": "stderr",
     "output_type": "stream",
     "text": [
      " 19%|█▉        | 3/16 [00:02<00:10,  1.27it/s]"
     ]
    },
    {
     "name": "stdout",
     "output_type": "stream",
     "text": [
      "(예시) column1: city                 298194     column2: img_path             298194     mean of std: 7.232237327230334   \n"
     ]
    },
    {
     "name": "stderr",
     "output_type": "stream",
     "text": [
      " 25%|██▌       | 4/16 [00:04<00:14,  1.23s/it]"
     ]
    },
    {
     "name": "stdout",
     "output_type": "stream",
     "text": [
      "(예시) column1: state                298194     column2: img_path             298194     mean of std: 8.789005535147341   \n"
     ]
    },
    {
     "name": "stderr",
     "output_type": "stream",
     "text": [
      " 31%|███▏      | 5/16 [00:06<00:16,  1.48s/it]"
     ]
    },
    {
     "name": "stdout",
     "output_type": "stream",
     "text": [
      "(예시) column1: country              298194     column2: img_path             298194     mean of std: 9.030620714352173   \n"
     ]
    },
    {
     "name": "stderr",
     "output_type": "stream",
     "text": [
      " 38%|███▊      | 6/16 [00:10<00:22,  2.29s/it]"
     ]
    },
    {
     "name": "stdout",
     "output_type": "stream",
     "text": [
      "(예시) column1: isbn                 298194     column2: img_path             298194     mean of std: 9.134554711009022   \n"
     ]
    },
    {
     "name": "stderr",
     "output_type": "stream",
     "text": [
      " 50%|█████     | 8/16 [00:15<00:19,  2.40s/it]"
     ]
    },
    {
     "name": "stdout",
     "output_type": "stream",
     "text": [
      "(예시) column1: book_title           298194     column2: img_path             298194     mean of std: 9.134554711009024   \n"
     ]
    },
    {
     "name": "stderr",
     "output_type": "stream",
     "text": [
      " 56%|█████▋    | 9/16 [00:19<00:18,  2.65s/it]"
     ]
    },
    {
     "name": "stdout",
     "output_type": "stream",
     "text": [
      "(예시) column1: book_author          298193     column2: img_path             298194     mean of std: 9.134554711009022   \n"
     ]
    },
    {
     "name": "stderr",
     "output_type": "stream",
     "text": [
      " 62%|██████▎   | 10/16 [00:20<00:14,  2.41s/it]"
     ]
    },
    {
     "name": "stdout",
     "output_type": "stream",
     "text": [
      "(예시) column1: year_of_publication  298194     column2: img_path             298194     mean of std: 9.134554711009024   \n"
     ]
    },
    {
     "name": "stderr",
     "output_type": "stream",
     "text": [
      " 69%|██████▉   | 11/16 [00:23<00:12,  2.48s/it]"
     ]
    },
    {
     "name": "stdout",
     "output_type": "stream",
     "text": [
      "(예시) column1: publisher            298194     column2: img_path             298194     mean of std: 9.13455471100902    \n"
     ]
    },
    {
     "name": "stderr",
     "output_type": "stream",
     "text": [
      " 75%|███████▌  | 12/16 [00:28<00:12,  3.12s/it]"
     ]
    },
    {
     "name": "stdout",
     "output_type": "stream",
     "text": [
      "(예시) column1: img_url              298194     column2: img_path             298194     mean of std: 9.134554711009022   \n"
     ]
    },
    {
     "name": "stderr",
     "output_type": "stream",
     "text": [
      " 81%|████████▏ | 13/16 [00:30<00:08,  2.83s/it]"
     ]
    },
    {
     "name": "stdout",
     "output_type": "stream",
     "text": [
      "(예시) column1: language             182621     column2: img_path             298194     mean of std: 9.289742290058875   \n"
     ]
    },
    {
     "name": "stderr",
     "output_type": "stream",
     "text": [
      " 88%|████████▊ | 14/16 [00:32<00:05,  2.66s/it]"
     ]
    },
    {
     "name": "stdout",
     "output_type": "stream",
     "text": [
      "(예시) column1: category             180563     column2: img_path             298194     mean of std: 9.31308428641775    \n"
     ]
    },
    {
     "name": "stderr",
     "output_type": "stream",
     "text": [
      " 94%|█████████▍| 15/16 [00:35<00:02,  2.87s/it]"
     ]
    },
    {
     "name": "stdout",
     "output_type": "stream",
     "text": [
      "(예시) column1: summary              182621     column2: img_path             298194     mean of std: 9.289742290058875   \n"
     ]
    },
    {
     "name": "stderr",
     "output_type": "stream",
     "text": [
      "100%|██████████| 16/16 [00:40<00:00,  2.51s/it]"
     ]
    },
    {
     "name": "stdout",
     "output_type": "stream",
     "text": [
      "(예시) column1: img_path             298194     column2: img_path             298194     mean of std: 9.134554711009022   \n"
     ]
    },
    {
     "name": "stderr",
     "output_type": "stream",
     "text": [
      "\n"
     ]
    }
   ],
   "source": [
    "std_result = {}\n",
    "\n",
    "for col1 in tqdm(total.columns):\n",
    "    if col1 in ['user_id', 'age', 'rating']:\n",
    "        continue\n",
    "    for col2 in total.columns: \n",
    "        if col2 in ['user_id', 'age', 'rating']:\n",
    "            continue\n",
    "        std_result[col1+' '+col2] = total.groupby([col1, col2])['age'].std().mean()\n",
    "    print(\"(예시) column1: {:<20} {:<10} column2: {:<20} {:<10} mean of std: {:<20}\".format(col1, total[col1].count(), col2, total[col2].count(), total.groupby([col1, col2])['age'].std().mean()))"
   ]
  },
  {
   "cell_type": "code",
   "execution_count": 187,
   "metadata": {},
   "outputs": [
    {
     "name": "stdout",
     "output_type": "stream",
     "text": [
      "최소 m-std의 col 조합: citybook_author, 그 값: 2.776609642698999\n"
     ]
    }
   ],
   "source": [
    "print(\"최소 m-std의 col 조합: {}, 그 값: {}\".format(min(std_result, key=std_result.get), min(std_result.values())))"
   ]
  },
  {
   "cell_type": "code",
   "execution_count": 189,
   "metadata": {},
   "outputs": [
    {
     "data": {
      "text/html": [
       "<div>\n",
       "<style scoped>\n",
       "    .dataframe tbody tr th:only-of-type {\n",
       "        vertical-align: middle;\n",
       "    }\n",
       "\n",
       "    .dataframe tbody tr th {\n",
       "        vertical-align: top;\n",
       "    }\n",
       "\n",
       "    .dataframe thead th {\n",
       "        text-align: right;\n",
       "    }\n",
       "</style>\n",
       "<table border=\"1\" class=\"dataframe\">\n",
       "  <thead>\n",
       "    <tr style=\"text-align: right;\">\n",
       "      <th></th>\n",
       "      <th></th>\n",
       "      <th>age</th>\n",
       "    </tr>\n",
       "    <tr>\n",
       "      <th>city</th>\n",
       "      <th>book_author</th>\n",
       "      <th></th>\n",
       "    </tr>\n",
       "  </thead>\n",
       "  <tbody>\n",
       "    <tr>\n",
       "      <th>03770 el verger</th>\n",
       "      <th>rich shapero</th>\n",
       "      <td>69.0</td>\n",
       "    </tr>\n",
       "    <tr>\n",
       "      <th rowspan=\"2\" valign=\"top\">05680</th>\n",
       "      <th>fred whitehead</th>\n",
       "      <td>NaN</td>\n",
       "    </tr>\n",
       "    <tr>\n",
       "      <th>heather busch</th>\n",
       "      <td>NaN</td>\n",
       "    </tr>\n",
       "    <tr>\n",
       "      <th>10012</th>\n",
       "      <th>brian patrick odonoghue</th>\n",
       "      <td>NaN</td>\n",
       "    </tr>\n",
       "    <tr>\n",
       "      <th>1110 lynnwood blvd</th>\n",
       "      <th>janet evanovich</th>\n",
       "      <td>48.0</td>\n",
       "    </tr>\n",
       "    <tr>\n",
       "      <th>...</th>\n",
       "      <th>...</th>\n",
       "      <td>...</td>\n",
       "    </tr>\n",
       "    <tr>\n",
       "      <th rowspan=\"3\" valign=\"top\">zwickau</th>\n",
       "      <th>hanswilhelm haefs</th>\n",
       "      <td>NaN</td>\n",
       "    </tr>\n",
       "    <tr>\n",
       "      <th>r l stine</th>\n",
       "      <td>14.0</td>\n",
       "    </tr>\n",
       "    <tr>\n",
       "      <th>saki</th>\n",
       "      <td>NaN</td>\n",
       "    </tr>\n",
       "    <tr>\n",
       "      <th>zwijndrecht</th>\n",
       "      <th>sue grafton</th>\n",
       "      <td>NaN</td>\n",
       "    </tr>\n",
       "    <tr>\n",
       "      <th>zwingenberg</th>\n",
       "      <th>jakob arjouni</th>\n",
       "      <td>48.0</td>\n",
       "    </tr>\n",
       "  </tbody>\n",
       "</table>\n",
       "<p>232272 rows × 1 columns</p>\n",
       "</div>"
      ],
      "text/plain": [
       "                                             age\n",
       "city               book_author                  \n",
       "03770 el verger    rich shapero             69.0\n",
       "05680              fred whitehead            NaN\n",
       "                   heather busch             NaN\n",
       "10012              brian patrick odonoghue   NaN\n",
       "1110 lynnwood blvd janet evanovich          48.0\n",
       "...                                          ...\n",
       "zwickau            hanswilhelm haefs         NaN\n",
       "                   r l stine                14.0\n",
       "                   saki                      NaN\n",
       "zwijndrecht        sue grafton               NaN\n",
       "zwingenberg        jakob arjouni            48.0\n",
       "\n",
       "[232272 rows x 1 columns]"
      ]
     },
     "execution_count": 189,
     "metadata": {},
     "output_type": "execute_result"
    }
   ],
   "source": [
    "age = pd.DataFrame(total.groupby(['city', 'book_author'])['age'].mean())\n",
    "age"
   ]
  },
  {
   "cell_type": "code",
   "execution_count": 190,
   "metadata": {},
   "outputs": [
    {
     "data": {
      "text/html": [
       "<div>\n",
       "<style scoped>\n",
       "    .dataframe tbody tr th:only-of-type {\n",
       "        vertical-align: middle;\n",
       "    }\n",
       "\n",
       "    .dataframe tbody tr th {\n",
       "        vertical-align: top;\n",
       "    }\n",
       "\n",
       "    .dataframe thead th {\n",
       "        text-align: right;\n",
       "    }\n",
       "</style>\n",
       "<table border=\"1\" class=\"dataframe\">\n",
       "  <thead>\n",
       "    <tr style=\"text-align: right;\">\n",
       "      <th></th>\n",
       "      <th>city</th>\n",
       "      <th>book_author</th>\n",
       "      <th>age</th>\n",
       "    </tr>\n",
       "  </thead>\n",
       "  <tbody>\n",
       "    <tr>\n",
       "      <th>0</th>\n",
       "      <td>03770 el verger</td>\n",
       "      <td>rich shapero</td>\n",
       "      <td>69.0</td>\n",
       "    </tr>\n",
       "    <tr>\n",
       "      <th>1</th>\n",
       "      <td>05680</td>\n",
       "      <td>fred whitehead</td>\n",
       "      <td>NaN</td>\n",
       "    </tr>\n",
       "    <tr>\n",
       "      <th>2</th>\n",
       "      <td>05680</td>\n",
       "      <td>heather busch</td>\n",
       "      <td>NaN</td>\n",
       "    </tr>\n",
       "    <tr>\n",
       "      <th>3</th>\n",
       "      <td>10012</td>\n",
       "      <td>brian patrick odonoghue</td>\n",
       "      <td>NaN</td>\n",
       "    </tr>\n",
       "    <tr>\n",
       "      <th>4</th>\n",
       "      <td>1110 lynnwood blvd</td>\n",
       "      <td>janet evanovich</td>\n",
       "      <td>48.0</td>\n",
       "    </tr>\n",
       "    <tr>\n",
       "      <th>...</th>\n",
       "      <td>...</td>\n",
       "      <td>...</td>\n",
       "      <td>...</td>\n",
       "    </tr>\n",
       "    <tr>\n",
       "      <th>232267</th>\n",
       "      <td>zwickau</td>\n",
       "      <td>hanswilhelm haefs</td>\n",
       "      <td>NaN</td>\n",
       "    </tr>\n",
       "    <tr>\n",
       "      <th>232268</th>\n",
       "      <td>zwickau</td>\n",
       "      <td>r l stine</td>\n",
       "      <td>14.0</td>\n",
       "    </tr>\n",
       "    <tr>\n",
       "      <th>232269</th>\n",
       "      <td>zwickau</td>\n",
       "      <td>saki</td>\n",
       "      <td>NaN</td>\n",
       "    </tr>\n",
       "    <tr>\n",
       "      <th>232270</th>\n",
       "      <td>zwijndrecht</td>\n",
       "      <td>sue grafton</td>\n",
       "      <td>NaN</td>\n",
       "    </tr>\n",
       "    <tr>\n",
       "      <th>232271</th>\n",
       "      <td>zwingenberg</td>\n",
       "      <td>jakob arjouni</td>\n",
       "      <td>48.0</td>\n",
       "    </tr>\n",
       "  </tbody>\n",
       "</table>\n",
       "<p>232272 rows × 3 columns</p>\n",
       "</div>"
      ],
      "text/plain": [
       "                      city              book_author   age\n",
       "0          03770 el verger             rich shapero  69.0\n",
       "1                    05680           fred whitehead   NaN\n",
       "2                    05680            heather busch   NaN\n",
       "3                    10012  brian patrick odonoghue   NaN\n",
       "4       1110 lynnwood blvd          janet evanovich  48.0\n",
       "...                    ...                      ...   ...\n",
       "232267             zwickau        hanswilhelm haefs   NaN\n",
       "232268             zwickau                r l stine  14.0\n",
       "232269             zwickau                     saki   NaN\n",
       "232270         zwijndrecht              sue grafton   NaN\n",
       "232271         zwingenberg            jakob arjouni  48.0\n",
       "\n",
       "[232272 rows x 3 columns]"
      ]
     },
     "execution_count": 190,
     "metadata": {},
     "output_type": "execute_result"
    }
   ],
   "source": [
    "age.reset_index(inplace=True)\n",
    "age"
   ]
  },
  {
   "cell_type": "code",
   "execution_count": 191,
   "metadata": {},
   "outputs": [
    {
     "name": "stderr",
     "output_type": "stream",
     "text": [
      "100%|██████████| 232272/232272 [3:26:12<00:00, 18.77it/s]  \n"
     ]
    }
   ],
   "source": [
    "for i in tqdm(range(len(age.index))):\n",
    "    total.loc[(total['city']==age.iloc[i, 0])&(total['book_author']==age.iloc[i, 1])&(total['age'].isnull()), 'age'] = age.iloc[i, 2]"
   ]
  },
  {
   "cell_type": "code",
   "execution_count": 192,
   "metadata": {},
   "outputs": [
    {
     "name": "stdout",
     "output_type": "stream",
     "text": [
      "<class 'pandas.core.frame.DataFrame'>\n",
      "RangeIndex: 298194 entries, 0 to 298193\n",
      "Data columns (total 16 columns):\n",
      " #   Column               Non-Null Count   Dtype  \n",
      "---  ------               --------------   -----  \n",
      " 0   user_id              298194 non-null  int64  \n",
      " 1   age                  222312 non-null  float64\n",
      " 2   city                 298194 non-null  object \n",
      " 3   state                298194 non-null  object \n",
      " 4   country              298194 non-null  object \n",
      " 5   isbn                 298194 non-null  object \n",
      " 6   rating               298194 non-null  int64  \n",
      " 7   book_title           298194 non-null  object \n",
      " 8   book_author          298193 non-null  object \n",
      " 9   year_of_publication  298194 non-null  float64\n",
      " 10  publisher            298194 non-null  object \n",
      " 11  img_url              298194 non-null  object \n",
      " 12  language             182621 non-null  object \n",
      " 13  category             180563 non-null  object \n",
      " 14  summary              182621 non-null  object \n",
      " 15  img_path             298194 non-null  object \n",
      "dtypes: float64(2), int64(2), object(12)\n",
      "memory usage: 36.4+ MB\n"
     ]
    }
   ],
   "source": [
    "total.info()"
   ]
  },
  {
   "cell_type": "code",
   "execution_count": 193,
   "metadata": {},
   "outputs": [],
   "source": [
    "total.to_csv(folder_name + '/' + 'total_loc,age.csv', index=False)"
   ]
  },
  {
   "attachments": {},
   "cell_type": "markdown",
   "metadata": {},
   "source": [
    "### 2.2.2 age 분포 파악"
   ]
  },
  {
   "cell_type": "code",
   "execution_count": 194,
   "metadata": {},
   "outputs": [
    {
     "data": {
      "image/png": "[encoded data removed]",
      "text/plain": [
       "<Figure size 1800x400 with 1 Axes>"
      ]
     },
     "metadata": {},
     "output_type": "display_data"
    }
   ],
   "source": [
    "fig, ax = plt.subplots(figsize=(18, 4))\n",
    "\n",
    "sns.histplot(total, x='age', ax=ax)\n",
    "plt.xticks(np.arange(0, 100, 2))\n",
    "\n",
    "plt.show()"
   ]
  },
  {
   "cell_type": "code",
   "execution_count": 195,
   "metadata": {},
   "outputs": [
    {
     "data": {
      "image/png": "[encoded data removed]",
      "text/plain": [
       "<Figure size 1500x400 with 1 Axes>"
      ]
     },
     "metadata": {},
     "output_type": "display_data"
    }
   ],
   "source": [
    "fig, ax = plt.subplots(figsize=(15, 4))\n",
    "\n",
    "sns.boxplot(total, x='age', fliersize=2, ax=ax)\n",
    "plt.xticks(np.arange(0, 100, 10))\n",
    "\n",
    "plt.show()"
   ]
  },
  {
   "cell_type": "code",
   "execution_count": 196,
   "metadata": {},
   "outputs": [],
   "source": [
    "total['age'].fillna(33, inplace=True)"
   ]
  },
  {
   "cell_type": "code",
   "execution_count": 197,
   "metadata": {},
   "outputs": [
    {
     "name": "stdout",
     "output_type": "stream",
     "text": [
      "<class 'pandas.core.frame.DataFrame'>\n",
      "RangeIndex: 298194 entries, 0 to 298193\n",
      "Data columns (total 16 columns):\n",
      " #   Column               Non-Null Count   Dtype  \n",
      "---  ------               --------------   -----  \n",
      " 0   user_id              298194 non-null  int64  \n",
      " 1   age                  298194 non-null  float64\n",
      " 2   city                 298194 non-null  object \n",
      " 3   state                298194 non-null  object \n",
      " 4   country              298194 non-null  object \n",
      " 5   isbn                 298194 non-null  object \n",
      " 6   rating               298194 non-null  int64  \n",
      " 7   book_title           298194 non-null  object \n",
      " 8   book_author          298193 non-null  object \n",
      " 9   year_of_publication  298194 non-null  float64\n",
      " 10  publisher            298194 non-null  object \n",
      " 11  img_url              298194 non-null  object \n",
      " 12  language             182621 non-null  object \n",
      " 13  category             180563 non-null  object \n",
      " 14  summary              182621 non-null  object \n",
      " 15  img_path             298194 non-null  object \n",
      "dtypes: float64(2), int64(2), object(12)\n",
      "memory usage: 36.4+ MB\n"
     ]
    }
   ],
   "source": [
    "total.info()"
   ]
  },
  {
   "attachments": {},
   "cell_type": "markdown",
   "metadata": {},
   "source": [
    "## 2.3 `language` 열"
   ]
  },
  {
   "cell_type": "code",
   "execution_count": 198,
   "metadata": {},
   "outputs": [
    {
     "data": {
      "text/plain": [
       "language\n",
       "en       177412\n",
       "de         2128\n",
       "es         1440\n",
       "fr         1120\n",
       "it          286\n",
       "nl           76\n",
       "pt           54\n",
       "da           40\n",
       "ca           22\n",
       "ru           10\n",
       "ms           10\n",
       "no            5\n",
       "la            3\n",
       "ja            3\n",
       "zh cn         3\n",
       "fa            1\n",
       "ro            1\n",
       "el            1\n",
       "ko            1\n",
       "ga            1\n",
       "vi            1\n",
       "zh tw         1\n",
       "eo            1\n",
       "gl            1\n",
       "Name: count, dtype: int64"
      ]
     },
     "execution_count": 198,
     "metadata": {},
     "output_type": "execute_result"
    }
   ],
   "source": [
    "total.language.value_counts()"
   ]
  },
  {
   "cell_type": "code",
   "execution_count": 199,
   "metadata": {},
   "outputs": [
    {
     "name": "stdout",
     "output_type": "stream",
     "text": [
      "<class 'pandas.core.frame.DataFrame'>\n",
      "RangeIndex: 298194 entries, 0 to 298193\n",
      "Data columns (total 16 columns):\n",
      " #   Column               Non-Null Count   Dtype  \n",
      "---  ------               --------------   -----  \n",
      " 0   user_id              298194 non-null  int64  \n",
      " 1   age                  298194 non-null  float64\n",
      " 2   city                 298194 non-null  object \n",
      " 3   state                298194 non-null  object \n",
      " 4   country              298194 non-null  object \n",
      " 5   isbn                 298194 non-null  object \n",
      " 6   rating               298194 non-null  int64  \n",
      " 7   book_title           298194 non-null  object \n",
      " 8   book_author          298193 non-null  object \n",
      " 9   year_of_publication  298194 non-null  float64\n",
      " 10  publisher            298194 non-null  object \n",
      " 11  img_url              298194 non-null  object \n",
      " 12  language             298194 non-null  object \n",
      " 13  category             180563 non-null  object \n",
      " 14  summary              182621 non-null  object \n",
      " 15  img_path             298194 non-null  object \n",
      "dtypes: float64(2), int64(2), object(12)\n",
      "memory usage: 36.4+ MB\n"
     ]
    }
   ],
   "source": [
    "total['language'].fillna('en', inplace=True)\n",
    "total.info()"
   ]
  },
  {
   "attachments": {},
   "cell_type": "markdown",
   "metadata": {},
   "source": [
    "## 2.4 `category` 열"
   ]
  },
  {
   "attachments": {},
   "cell_type": "markdown",
   "metadata": {},
   "source": [
    "### 2.4.1 책 제목 같을 시 category 동일하게"
   ]
  },
  {
   "cell_type": "code",
   "execution_count": 200,
   "metadata": {},
   "outputs": [
    {
     "data": {
      "text/html": [
       "<div>\n",
       "<style scoped>\n",
       "    .dataframe tbody tr th:only-of-type {\n",
       "        vertical-align: middle;\n",
       "    }\n",
       "\n",
       "    .dataframe tbody tr th {\n",
       "        vertical-align: top;\n",
       "    }\n",
       "\n",
       "    .dataframe thead th {\n",
       "        text-align: right;\n",
       "    }\n",
       "</style>\n",
       "<table border=\"1\" class=\"dataframe\">\n",
       "  <thead>\n",
       "    <tr style=\"text-align: right;\">\n",
       "      <th></th>\n",
       "      <th>isbn</th>\n",
       "      <th>book_title</th>\n",
       "      <th>category</th>\n",
       "    </tr>\n",
       "  </thead>\n",
       "  <tbody>\n",
       "    <tr>\n",
       "      <th>0</th>\n",
       "      <td>1575663937</td>\n",
       "      <td>more cunning than man a social history of rats...</td>\n",
       "      <td>nature</td>\n",
       "    </tr>\n",
       "    <tr>\n",
       "      <th>1</th>\n",
       "      <td>1881320189</td>\n",
       "      <td>goodbye to the buttermilk sky</td>\n",
       "      <td>fiction</td>\n",
       "    </tr>\n",
       "    <tr>\n",
       "      <th>2</th>\n",
       "      <td>0688158943</td>\n",
       "      <td>waiting to fly my escapades with the penguins ...</td>\n",
       "      <td>nature</td>\n",
       "    </tr>\n",
       "    <tr>\n",
       "      <th>3</th>\n",
       "      <td>015600609X</td>\n",
       "      <td>burden of desire harvest book</td>\n",
       "      <td>fiction</td>\n",
       "    </tr>\n",
       "    <tr>\n",
       "      <th>4</th>\n",
       "      <td>0006380263</td>\n",
       "      <td>perfection of the morning an apprentices</td>\n",
       "      <td>authors canadian</td>\n",
       "    </tr>\n",
       "    <tr>\n",
       "      <th>...</th>\n",
       "      <td>...</td>\n",
       "      <td>...</td>\n",
       "      <td>...</td>\n",
       "    </tr>\n",
       "    <tr>\n",
       "      <th>61951</th>\n",
       "      <td>080506723X</td>\n",
       "      <td>desert burial a novel</td>\n",
       "      <td>fiction</td>\n",
       "    </tr>\n",
       "    <tr>\n",
       "      <th>61952</th>\n",
       "      <td>0689821085</td>\n",
       "      <td>buying time on the road</td>\n",
       "      <td>juvenile fiction</td>\n",
       "    </tr>\n",
       "    <tr>\n",
       "      <th>61953</th>\n",
       "      <td>0898861411</td>\n",
       "      <td>two wheels and a taxi a slightly daft adventur...</td>\n",
       "      <td>science</td>\n",
       "    </tr>\n",
       "    <tr>\n",
       "      <th>61954</th>\n",
       "      <td>1550390961</td>\n",
       "      <td>gilean douglas writing nature finding home</td>\n",
       "      <td>authors canadian english 20th century biography</td>\n",
       "    </tr>\n",
       "    <tr>\n",
       "      <th>61955</th>\n",
       "      <td>0670528951</td>\n",
       "      <td>orson welles</td>\n",
       "      <td>biography autobiography</td>\n",
       "    </tr>\n",
       "  </tbody>\n",
       "</table>\n",
       "<p>61956 rows × 3 columns</p>\n",
       "</div>"
      ],
      "text/plain": [
       "             isbn                                         book_title   \n",
       "0      1575663937  more cunning than man a social history of rats...  \\\n",
       "1      1881320189                      goodbye to the buttermilk sky   \n",
       "2      0688158943  waiting to fly my escapades with the penguins ...   \n",
       "3      015600609X                      burden of desire harvest book   \n",
       "4      0006380263           perfection of the morning an apprentices   \n",
       "...           ...                                                ...   \n",
       "61951  080506723X                              desert burial a novel   \n",
       "61952  0689821085                            buying time on the road   \n",
       "61953  0898861411  two wheels and a taxi a slightly daft adventur...   \n",
       "61954  1550390961         gilean douglas writing nature finding home   \n",
       "61955  0670528951                                       orson welles   \n",
       "\n",
       "                                              category  \n",
       "0                                               nature  \n",
       "1                                              fiction  \n",
       "2                                               nature  \n",
       "3                                              fiction  \n",
       "4                                     authors canadian  \n",
       "...                                                ...  \n",
       "61951                                          fiction  \n",
       "61952                                 juvenile fiction  \n",
       "61953                                          science  \n",
       "61954  authors canadian english 20th century biography  \n",
       "61955                          biography autobiography  \n",
       "\n",
       "[61956 rows x 3 columns]"
      ]
     },
     "execution_count": 200,
     "metadata": {},
     "output_type": "execute_result"
    }
   ],
   "source": [
    "# 제목별 카테고리 리스트 (nan 값 없는)\n",
    "title_df = total.drop_duplicates(['book_title'], keep='last', ignore_index=True)\n",
    "title_df = title_df[['isbn', 'book_title', 'category']]\n",
    "title_df = title_df.dropna(axis=0, ignore_index=True)\n",
    "\n",
    "title_df"
   ]
  },
  {
   "cell_type": "code",
   "execution_count": 201,
   "metadata": {},
   "outputs": [],
   "source": [
    "title_df_isbn = list(title_df['isbn'])"
   ]
  },
  {
   "cell_type": "code",
   "execution_count": 202,
   "metadata": {},
   "outputs": [
    {
     "name": "stderr",
     "output_type": "stream",
     "text": [
      "100%|██████████| 61956/61956 [45:21<00:00, 22.76it/s]\n"
     ]
    }
   ],
   "source": [
    "# title_df.iloc[i, 2] : book_category\n",
    "# title_df.iloc[i, 1] : book_title\n",
    "\n",
    "for i in tqdm(range(len(title_df.index))):\n",
    "    total.loc[(total['book_title']==title_df.iloc[i, 1])&(total['category'].isnull()), 'category'] = title_df.iloc[i, 2]"
   ]
  },
  {
   "cell_type": "code",
   "execution_count": 203,
   "metadata": {},
   "outputs": [
    {
     "data": {
      "text/plain": [
       "user_id                     0\n",
       "age                         0\n",
       "city                        0\n",
       "state                       0\n",
       "country                     0\n",
       "isbn                        0\n",
       "rating                      0\n",
       "book_title                  0\n",
       "book_author                 1\n",
       "year_of_publication         0\n",
       "publisher                   0\n",
       "img_url                     0\n",
       "language                    0\n",
       "category               105037\n",
       "summary                115573\n",
       "img_path                    0\n",
       "dtype: int64"
      ]
     },
     "execution_count": 203,
     "metadata": {},
     "output_type": "execute_result"
    }
   ],
   "source": [
    "total.isnull().sum()"
   ]
  },
  {
   "attachments": {},
   "cell_type": "markdown",
   "metadata": {},
   "source": [
    "### 2.4.2 저자 이름 같을 시 저자별 가장 자주 나오는 category로 변경"
   ]
  },
  {
   "cell_type": "code",
   "execution_count": 204,
   "metadata": {},
   "outputs": [
    {
     "data": {
      "text/plain": [
       "book_author       category          \n",
       "stephen king      fiction               2423\n",
       "john grisham      fiction               1920\n",
       "nora roberts      fiction               1573\n",
       "michael crichton  fiction               1192\n",
       "j k rowling       juvenile fiction      1013\n",
       "                                        ... \n",
       "leon schiffman    business economics       1\n",
       "leon s rhodes     body mind spirit         1\n",
       "leon kapp         crafts hobbies           1\n",
       "leon harrel       sports recreation        1\n",
       "carol matas       juvenile fiction         1\n",
       "Name: count, Length: 42431, dtype: int64"
      ]
     },
     "execution_count": 204,
     "metadata": {},
     "output_type": "execute_result"
    }
   ],
   "source": [
    "# 작가별 category별 책 개수 (n/a 제외)\n",
    "total.groupby(['book_author'])['category'].value_counts().sort_values(ascending=False)"
   ]
  },
  {
   "cell_type": "code",
   "execution_count": 205,
   "metadata": {},
   "outputs": [
    {
     "data": {
      "text/html": [
       "<div>\n",
       "<style scoped>\n",
       "    .dataframe tbody tr th:only-of-type {\n",
       "        vertical-align: middle;\n",
       "    }\n",
       "\n",
       "    .dataframe tbody tr th {\n",
       "        vertical-align: top;\n",
       "    }\n",
       "\n",
       "    .dataframe thead th {\n",
       "        text-align: right;\n",
       "    }\n",
       "</style>\n",
       "<table border=\"1\" class=\"dataframe\">\n",
       "  <thead>\n",
       "    <tr style=\"text-align: right;\">\n",
       "      <th></th>\n",
       "      <th>book_author</th>\n",
       "      <th>category</th>\n",
       "      <th>count</th>\n",
       "    </tr>\n",
       "  </thead>\n",
       "  <tbody>\n",
       "    <tr>\n",
       "      <th>0</th>\n",
       "      <td>jennifer fulton</td>\n",
       "      <td>computers</td>\n",
       "      <td>1</td>\n",
       "    </tr>\n",
       "    <tr>\n",
       "      <th>1</th>\n",
       "      <td>kaz cooke</td>\n",
       "      <td>australia</td>\n",
       "      <td>1</td>\n",
       "    </tr>\n",
       "    <tr>\n",
       "      <th>2</th>\n",
       "      <td>kayte kuch</td>\n",
       "      <td>childrens parties</td>\n",
       "      <td>1</td>\n",
       "    </tr>\n",
       "    <tr>\n",
       "      <th>3</th>\n",
       "      <td>kayla daniels</td>\n",
       "      <td>fiction</td>\n",
       "      <td>1</td>\n",
       "    </tr>\n",
       "    <tr>\n",
       "      <th>4</th>\n",
       "      <td>kaye ladd</td>\n",
       "      <td>pets</td>\n",
       "      <td>1</td>\n",
       "    </tr>\n",
       "    <tr>\n",
       "      <th>...</th>\n",
       "      <td>...</td>\n",
       "      <td>...</td>\n",
       "      <td>...</td>\n",
       "    </tr>\n",
       "    <tr>\n",
       "      <th>42426</th>\n",
       "      <td>j k rowling</td>\n",
       "      <td>juvenile fiction</td>\n",
       "      <td>1013</td>\n",
       "    </tr>\n",
       "    <tr>\n",
       "      <th>42427</th>\n",
       "      <td>michael crichton</td>\n",
       "      <td>fiction</td>\n",
       "      <td>1192</td>\n",
       "    </tr>\n",
       "    <tr>\n",
       "      <th>42428</th>\n",
       "      <td>nora roberts</td>\n",
       "      <td>fiction</td>\n",
       "      <td>1573</td>\n",
       "    </tr>\n",
       "    <tr>\n",
       "      <th>42429</th>\n",
       "      <td>john grisham</td>\n",
       "      <td>fiction</td>\n",
       "      <td>1920</td>\n",
       "    </tr>\n",
       "    <tr>\n",
       "      <th>42430</th>\n",
       "      <td>stephen king</td>\n",
       "      <td>fiction</td>\n",
       "      <td>2423</td>\n",
       "    </tr>\n",
       "  </tbody>\n",
       "</table>\n",
       "<p>42431 rows × 3 columns</p>\n",
       "</div>"
      ],
      "text/plain": [
       "            book_author           category  count\n",
       "0       jennifer fulton          computers      1\n",
       "1             kaz cooke          australia      1\n",
       "2            kayte kuch  childrens parties      1\n",
       "3         kayla daniels            fiction      1\n",
       "4             kaye ladd               pets      1\n",
       "...                 ...                ...    ...\n",
       "42426       j k rowling   juvenile fiction   1013\n",
       "42427  michael crichton            fiction   1192\n",
       "42428      nora roberts            fiction   1573\n",
       "42429      john grisham            fiction   1920\n",
       "42430      stephen king            fiction   2423\n",
       "\n",
       "[42431 rows x 3 columns]"
      ]
     },
     "execution_count": 205,
     "metadata": {},
     "output_type": "execute_result"
    }
   ],
   "source": [
    "aut_cat_df = pd.DataFrame(total.groupby(['book_author'])['category'].value_counts().sort_values())\n",
    "aut_cat_df = aut_cat_df.reset_index()\n",
    "aut_cat_df"
   ]
  },
  {
   "cell_type": "code",
   "execution_count": 206,
   "metadata": {},
   "outputs": [
    {
     "data": {
      "text/plain": [
       "book_author\n",
       "not applicable na      32\n",
       "ann m martin           32\n",
       "william shakespeare    29\n",
       "roald dahl             27\n",
       "stephen king           26\n",
       "                       ..\n",
       "nor                     1\n",
       "nora charles            1\n",
       "nora deloach            1\n",
       "nora dugon              1\n",
       "rebecca wells           1\n",
       "Name: count, Length: 32753, dtype: int64"
      ]
     },
     "execution_count": 206,
     "metadata": {},
     "output_type": "execute_result"
    }
   ],
   "source": [
    "aut_cat_df['book_author'].value_counts()"
   ]
  },
  {
   "attachments": {},
   "cell_type": "markdown",
   "metadata": {},
   "source": [
    "- 9,653명 작가의 책에는 category가 없음"
   ]
  },
  {
   "cell_type": "code",
   "execution_count": 207,
   "metadata": {},
   "outputs": [
    {
     "data": {
      "text/html": [
       "<div>\n",
       "<style scoped>\n",
       "    .dataframe tbody tr th:only-of-type {\n",
       "        vertical-align: middle;\n",
       "    }\n",
       "\n",
       "    .dataframe tbody tr th {\n",
       "        vertical-align: top;\n",
       "    }\n",
       "\n",
       "    .dataframe thead th {\n",
       "        text-align: right;\n",
       "    }\n",
       "</style>\n",
       "<table border=\"1\" class=\"dataframe\">\n",
       "  <thead>\n",
       "    <tr style=\"text-align: right;\">\n",
       "      <th></th>\n",
       "      <th>book_author</th>\n",
       "      <th>category</th>\n",
       "      <th>count</th>\n",
       "    </tr>\n",
       "  </thead>\n",
       "  <tbody>\n",
       "    <tr>\n",
       "      <th>0</th>\n",
       "      <td>jennifer fulton</td>\n",
       "      <td>computers</td>\n",
       "      <td>1</td>\n",
       "    </tr>\n",
       "    <tr>\n",
       "      <th>1</th>\n",
       "      <td>kayte kuch</td>\n",
       "      <td>childrens parties</td>\n",
       "      <td>1</td>\n",
       "    </tr>\n",
       "    <tr>\n",
       "      <th>2</th>\n",
       "      <td>kayla daniels</td>\n",
       "      <td>fiction</td>\n",
       "      <td>1</td>\n",
       "    </tr>\n",
       "    <tr>\n",
       "      <th>3</th>\n",
       "      <td>kaye ladd</td>\n",
       "      <td>pets</td>\n",
       "      <td>1</td>\n",
       "    </tr>\n",
       "    <tr>\n",
       "      <th>4</th>\n",
       "      <td>td jakes</td>\n",
       "      <td>religion</td>\n",
       "      <td>1</td>\n",
       "    </tr>\n",
       "    <tr>\n",
       "      <th>...</th>\n",
       "      <td>...</td>\n",
       "      <td>...</td>\n",
       "      <td>...</td>\n",
       "    </tr>\n",
       "    <tr>\n",
       "      <th>32748</th>\n",
       "      <td>j k rowling</td>\n",
       "      <td>juvenile fiction</td>\n",
       "      <td>1013</td>\n",
       "    </tr>\n",
       "    <tr>\n",
       "      <th>32749</th>\n",
       "      <td>michael crichton</td>\n",
       "      <td>fiction</td>\n",
       "      <td>1192</td>\n",
       "    </tr>\n",
       "    <tr>\n",
       "      <th>32750</th>\n",
       "      <td>nora roberts</td>\n",
       "      <td>fiction</td>\n",
       "      <td>1573</td>\n",
       "    </tr>\n",
       "    <tr>\n",
       "      <th>32751</th>\n",
       "      <td>john grisham</td>\n",
       "      <td>fiction</td>\n",
       "      <td>1920</td>\n",
       "    </tr>\n",
       "    <tr>\n",
       "      <th>32752</th>\n",
       "      <td>stephen king</td>\n",
       "      <td>fiction</td>\n",
       "      <td>2423</td>\n",
       "    </tr>\n",
       "  </tbody>\n",
       "</table>\n",
       "<p>32753 rows × 3 columns</p>\n",
       "</div>"
      ],
      "text/plain": [
       "            book_author           category  count\n",
       "0       jennifer fulton          computers      1\n",
       "1            kayte kuch  childrens parties      1\n",
       "2         kayla daniels            fiction      1\n",
       "3             kaye ladd               pets      1\n",
       "4              td jakes           religion      1\n",
       "...                 ...                ...    ...\n",
       "32748       j k rowling   juvenile fiction   1013\n",
       "32749  michael crichton            fiction   1192\n",
       "32750      nora roberts            fiction   1573\n",
       "32751      john grisham            fiction   1920\n",
       "32752      stephen king            fiction   2423\n",
       "\n",
       "[32753 rows x 3 columns]"
      ]
     },
     "execution_count": 207,
     "metadata": {},
     "output_type": "execute_result"
    }
   ],
   "source": [
    "# 작가별 가장 많이 나오는 category만 남김\n",
    "# loc로 그냥 df 뽑아서 제일 값 큰걸 뽑는 게 더 빠를듯\n",
    "aut_cat_df.drop_duplicates(['book_author'], keep='last', inplace=True, ignore_index=True)\n",
    "aut_cat_df"
   ]
  },
  {
   "cell_type": "code",
   "execution_count": 208,
   "metadata": {},
   "outputs": [
    {
     "name": "stderr",
     "output_type": "stream",
     "text": [
      "100%|██████████| 32753/32753 [23:47<00:00, 22.95it/s]\n"
     ]
    }
   ],
   "source": [
    "# aut_cat_df.iloc[i, 0] : book_author\n",
    "# aut_cat_df.iloc[i, 1] : category\n",
    "\n",
    "for i in tqdm(range(len(aut_cat_df.index))):\n",
    "    total.loc[(total['book_author']==aut_cat_df.iloc[i, 0])&(total['category'].isnull()), 'category'] = aut_cat_df.iloc[i, 1]"
   ]
  },
  {
   "cell_type": "code",
   "execution_count": 240,
   "metadata": {},
   "outputs": [
    {
     "data": {
      "text/plain": [
       "user_id                     0\n",
       "age                         0\n",
       "city                        0\n",
       "state                       0\n",
       "country                     0\n",
       "isbn                        0\n",
       "rating                      0\n",
       "book_title                  0\n",
       "book_author                 1\n",
       "year_of_publication         0\n",
       "publisher                   0\n",
       "img_url                     0\n",
       "language                    0\n",
       "category                26819\n",
       "summary                115579\n",
       "img_path                    0\n",
       "dtype: int64"
      ]
     },
     "execution_count": 240,
     "metadata": {},
     "output_type": "execute_result"
    }
   ],
   "source": [
    "total.isnull().sum()"
   ]
  },
  {
   "cell_type": "code",
   "execution_count": 242,
   "metadata": {},
   "outputs": [
    {
     "data": {
      "text/plain": [
       "(298194, 16)"
      ]
     },
     "execution_count": 242,
     "metadata": {},
     "output_type": "execute_result"
    }
   ],
   "source": [
    "total.shape"
   ]
  },
  {
   "attachments": {},
   "cell_type": "markdown",
   "metadata": {},
   "source": [
    "### 2.4.3 결측행 제거"
   ]
  },
  {
   "cell_type": "code",
   "execution_count": 243,
   "metadata": {},
   "outputs": [],
   "source": [
    "total.dropna(subset='category', inplace=True, ignore_index=True)"
   ]
  },
  {
   "cell_type": "code",
   "execution_count": 245,
   "metadata": {},
   "outputs": [
    {
     "data": {
      "text/plain": [
       "user_id                    0\n",
       "age                        0\n",
       "city                       0\n",
       "state                      0\n",
       "country                    0\n",
       "isbn                       0\n",
       "rating                     0\n",
       "book_title                 0\n",
       "book_author                0\n",
       "year_of_publication        0\n",
       "publisher                  0\n",
       "img_url                    0\n",
       "language                   0\n",
       "category                   0\n",
       "summary                89366\n",
       "img_path                   0\n",
       "dtype: int64"
      ]
     },
     "execution_count": 245,
     "metadata": {},
     "output_type": "execute_result"
    }
   ],
   "source": [
    "total.isnull().sum()"
   ]
  },
  {
   "attachments": {},
   "cell_type": "markdown",
   "metadata": {},
   "source": [
    "## 2.5 `summary` 열"
   ]
  },
  {
   "attachments": {},
   "cell_type": "markdown",
   "metadata": {},
   "source": [
    "빈 곳에 제목 넣기\n",
    "\n",
    "- 제목은 책 내용을 함축하는 일종의 summary이다"
   ]
  },
  {
   "cell_type": "code",
   "execution_count": 248,
   "metadata": {},
   "outputs": [
    {
     "name": "stderr",
     "output_type": "stream",
     "text": [
      "100%|██████████| 271375/271375 [01:54<00:00, 2366.54it/s]\n"
     ]
    }
   ],
   "source": [
    "for i in tqdm(range(len(total.index))):\n",
    "    if total.loc[i, 'summary'] is np.nan:\n",
    "        total.loc[i, 'summary'] = total.loc[i, 'book_title']"
   ]
  },
  {
   "cell_type": "code",
   "execution_count": 249,
   "metadata": {},
   "outputs": [
    {
     "data": {
      "text/plain": [
       "user_id                0\n",
       "age                    0\n",
       "city                   0\n",
       "state                  0\n",
       "country                0\n",
       "isbn                   0\n",
       "rating                 0\n",
       "book_title             0\n",
       "book_author            0\n",
       "year_of_publication    0\n",
       "publisher              0\n",
       "img_url                0\n",
       "language               0\n",
       "category               0\n",
       "summary                0\n",
       "img_path               0\n",
       "dtype: int64"
      ]
     },
     "execution_count": 249,
     "metadata": {},
     "output_type": "execute_result"
    }
   ],
   "source": [
    "total.isnull().sum()"
   ]
  },
  {
   "attachments": {},
   "cell_type": "markdown",
   "metadata": {},
   "source": [
    "# 3. 저장"
   ]
  },
  {
   "attachments": {},
   "cell_type": "markdown",
   "metadata": {},
   "source": [
    "## 3.1 total"
   ]
  },
  {
   "cell_type": "code",
   "execution_count": 250,
   "metadata": {},
   "outputs": [
    {
     "name": "stdout",
     "output_type": "stream",
     "text": [
      "<class 'pandas.core.frame.DataFrame'>\n",
      "RangeIndex: 271375 entries, 0 to 271374\n",
      "Data columns (total 16 columns):\n",
      " #   Column               Non-Null Count   Dtype  \n",
      "---  ------               --------------   -----  \n",
      " 0   user_id              271375 non-null  int64  \n",
      " 1   age                  271375 non-null  float64\n",
      " 2   city                 271375 non-null  object \n",
      " 3   state                271375 non-null  object \n",
      " 4   country              271375 non-null  object \n",
      " 5   isbn                 271375 non-null  object \n",
      " 6   rating               271375 non-null  int64  \n",
      " 7   book_title           271375 non-null  object \n",
      " 8   book_author          271375 non-null  object \n",
      " 9   year_of_publication  271375 non-null  float64\n",
      " 10  publisher            271375 non-null  object \n",
      " 11  img_url              271375 non-null  object \n",
      " 12  language             271375 non-null  object \n",
      " 13  category             271375 non-null  object \n",
      " 14  summary              271375 non-null  object \n",
      " 15  img_path             271375 non-null  object \n",
      "dtypes: float64(2), int64(2), object(12)\n",
      "memory usage: 33.1+ MB\n"
     ]
    }
   ],
   "source": [
    "total.info()"
   ]
  },
  {
   "cell_type": "code",
   "execution_count": 251,
   "metadata": {},
   "outputs": [
    {
     "data": {
      "text/html": [
       "<div>\n",
       "<style scoped>\n",
       "    .dataframe tbody tr th:only-of-type {\n",
       "        vertical-align: middle;\n",
       "    }\n",
       "\n",
       "    .dataframe tbody tr th {\n",
       "        vertical-align: top;\n",
       "    }\n",
       "\n",
       "    .dataframe thead th {\n",
       "        text-align: right;\n",
       "    }\n",
       "</style>\n",
       "<table border=\"1\" class=\"dataframe\">\n",
       "  <thead>\n",
       "    <tr style=\"text-align: right;\">\n",
       "      <th></th>\n",
       "      <th>user_id</th>\n",
       "      <th>age</th>\n",
       "      <th>city</th>\n",
       "      <th>state</th>\n",
       "      <th>country</th>\n",
       "      <th>isbn</th>\n",
       "      <th>rating</th>\n",
       "      <th>book_title</th>\n",
       "      <th>book_author</th>\n",
       "      <th>year_of_publication</th>\n",
       "      <th>publisher</th>\n",
       "      <th>img_url</th>\n",
       "      <th>language</th>\n",
       "      <th>category</th>\n",
       "      <th>summary</th>\n",
       "      <th>img_path</th>\n",
       "    </tr>\n",
       "  </thead>\n",
       "  <tbody>\n",
       "    <tr>\n",
       "      <th>0</th>\n",
       "      <td>8</td>\n",
       "      <td>33.0</td>\n",
       "      <td>timmins</td>\n",
       "      <td>ontario</td>\n",
       "      <td>canada</td>\n",
       "      <td>0002005018</td>\n",
       "      <td>4</td>\n",
       "      <td>clara callan</td>\n",
       "      <td>richard bruce wright</td>\n",
       "      <td>2001.0</td>\n",
       "      <td>harperflamingo canada</td>\n",
       "      <td>http://images.amazon.com/images/P/0002005018.0...</td>\n",
       "      <td>en</td>\n",
       "      <td>actresses</td>\n",
       "      <td>in a small town in canada clara callan relucta...</td>\n",
       "      <td>images/0002005018.01.THUMBZZZ.jpg</td>\n",
       "    </tr>\n",
       "    <tr>\n",
       "      <th>1</th>\n",
       "      <td>8</td>\n",
       "      <td>33.0</td>\n",
       "      <td>timmins</td>\n",
       "      <td>ontario</td>\n",
       "      <td>canada</td>\n",
       "      <td>074322678X</td>\n",
       "      <td>4</td>\n",
       "      <td>where youll find me and other stories</td>\n",
       "      <td>ann beattie</td>\n",
       "      <td>2002.0</td>\n",
       "      <td>scribner</td>\n",
       "      <td>http://images.amazon.com/images/P/074322678X.0...</td>\n",
       "      <td>en</td>\n",
       "      <td>fiction</td>\n",
       "      <td>now back in print ann beattie 39 s finest shor...</td>\n",
       "      <td>images/074322678X.01.THUMBZZZ.jpg</td>\n",
       "    </tr>\n",
       "    <tr>\n",
       "      <th>2</th>\n",
       "      <td>8</td>\n",
       "      <td>33.0</td>\n",
       "      <td>timmins</td>\n",
       "      <td>ontario</td>\n",
       "      <td>canada</td>\n",
       "      <td>1552041778</td>\n",
       "      <td>2</td>\n",
       "      <td>jane doe</td>\n",
       "      <td>r j kaiser</td>\n",
       "      <td>1999.0</td>\n",
       "      <td>mira books</td>\n",
       "      <td>http://images.amazon.com/images/P/1552041778.0...</td>\n",
       "      <td>en</td>\n",
       "      <td>fiction</td>\n",
       "      <td>jane doe</td>\n",
       "      <td>images/1552041778.01.THUMBZZZ.jpg</td>\n",
       "    </tr>\n",
       "    <tr>\n",
       "      <th>3</th>\n",
       "      <td>8</td>\n",
       "      <td>33.0</td>\n",
       "      <td>timmins</td>\n",
       "      <td>ontario</td>\n",
       "      <td>canada</td>\n",
       "      <td>1567407781</td>\n",
       "      <td>6</td>\n",
       "      <td>the witchfinder amos walker mystery series</td>\n",
       "      <td>loren d estleman</td>\n",
       "      <td>1998.0</td>\n",
       "      <td>brilliance audio trade</td>\n",
       "      <td>http://images.amazon.com/images/P/1567407781.0...</td>\n",
       "      <td>en</td>\n",
       "      <td>fiction</td>\n",
       "      <td>the witchfinder amos walker mystery series</td>\n",
       "      <td>images/1567407781.01.THUMBZZZ.jpg</td>\n",
       "    </tr>\n",
       "    <tr>\n",
       "      <th>4</th>\n",
       "      <td>8</td>\n",
       "      <td>33.0</td>\n",
       "      <td>timmins</td>\n",
       "      <td>ontario</td>\n",
       "      <td>canada</td>\n",
       "      <td>1575663937</td>\n",
       "      <td>6</td>\n",
       "      <td>more cunning than man a social history of rats...</td>\n",
       "      <td>robert hendrickson</td>\n",
       "      <td>1999.0</td>\n",
       "      <td>kensington publishing corp</td>\n",
       "      <td>http://images.amazon.com/images/P/1575663937.0...</td>\n",
       "      <td>en</td>\n",
       "      <td>nature</td>\n",
       "      <td>this eye opening well researched examination o...</td>\n",
       "      <td>images/1575663937.01.THUMBZZZ.jpg</td>\n",
       "    </tr>\n",
       "  </tbody>\n",
       "</table>\n",
       "</div>"
      ],
      "text/plain": [
       "   user_id   age     city    state country        isbn  rating   \n",
       "0        8  33.0  timmins  ontario  canada  0002005018       4  \\\n",
       "1        8  33.0  timmins  ontario  canada  074322678X       4   \n",
       "2        8  33.0  timmins  ontario  canada  1552041778       2   \n",
       "3        8  33.0  timmins  ontario  canada  1567407781       6   \n",
       "4        8  33.0  timmins  ontario  canada  1575663937       6   \n",
       "\n",
       "                                          book_title           book_author   \n",
       "0                                       clara callan  richard bruce wright  \\\n",
       "1              where youll find me and other stories           ann beattie   \n",
       "2                                           jane doe            r j kaiser   \n",
       "3         the witchfinder amos walker mystery series      loren d estleman   \n",
       "4  more cunning than man a social history of rats...    robert hendrickson   \n",
       "\n",
       "   year_of_publication                   publisher   \n",
       "0               2001.0       harperflamingo canada  \\\n",
       "1               2002.0                    scribner   \n",
       "2               1999.0                  mira books   \n",
       "3               1998.0      brilliance audio trade   \n",
       "4               1999.0  kensington publishing corp   \n",
       "\n",
       "                                             img_url language   category   \n",
       "0  http://images.amazon.com/images/P/0002005018.0...       en  actresses  \\\n",
       "1  http://images.amazon.com/images/P/074322678X.0...       en    fiction   \n",
       "2  http://images.amazon.com/images/P/1552041778.0...       en    fiction   \n",
       "3  http://images.amazon.com/images/P/1567407781.0...       en    fiction   \n",
       "4  http://images.amazon.com/images/P/1575663937.0...       en     nature   \n",
       "\n",
       "                                             summary   \n",
       "0  in a small town in canada clara callan relucta...  \\\n",
       "1  now back in print ann beattie 39 s finest shor...   \n",
       "2                                           jane doe   \n",
       "3         the witchfinder amos walker mystery series   \n",
       "4  this eye opening well researched examination o...   \n",
       "\n",
       "                            img_path  \n",
       "0  images/0002005018.01.THUMBZZZ.jpg  \n",
       "1  images/074322678X.01.THUMBZZZ.jpg  \n",
       "2  images/1552041778.01.THUMBZZZ.jpg  \n",
       "3  images/1567407781.01.THUMBZZZ.jpg  \n",
       "4  images/1575663937.01.THUMBZZZ.jpg  "
      ]
     },
     "execution_count": 251,
     "metadata": {},
     "output_type": "execute_result"
    }
   ],
   "source": [
    "total.head()"
   ]
  },
  {
   "cell_type": "code",
   "execution_count": 252,
   "metadata": {},
   "outputs": [
    {
     "data": {
      "text/plain": [
       "Index(['user_id', 'age', 'city', 'state', 'country', 'isbn', 'rating',\n",
       "       'book_title', 'book_author', 'year_of_publication', 'publisher',\n",
       "       'img_url', 'language', 'category', 'summary', 'img_path'],\n",
       "      dtype='object')"
      ]
     },
     "execution_count": 252,
     "metadata": {},
     "output_type": "execute_result"
    }
   ],
   "source": [
    "total.columns"
   ]
  },
  {
   "attachments": {},
   "cell_type": "markdown",
   "metadata": {},
   "source": [
    "### 3.1.1 total (no 원핫인코딩)"
   ]
  },
  {
   "cell_type": "code",
   "execution_count": 253,
   "metadata": {},
   "outputs": [],
   "source": [
    "total.to_csv(folder_name + '/' + 'total_final.csv', index=False)"
   ]
  },
  {
   "attachments": {},
   "cell_type": "markdown",
   "metadata": {},
   "source": [
    "### 3.1.2 total (원핫인코딩)\n",
    "\n",
    "- 사전 제거 열 : 'book_title', 'img_url', 'summary', 'img_path'\n",
    "\n",
    "- string 열 : 'city', 'state', 'country', 'book_author', 'publisher', 'language', 'category'"
   ]
  },
  {
   "cell_type": "code",
   "execution_count": 254,
   "metadata": {},
   "outputs": [
    {
     "data": {
      "text/html": [
       "<div>\n",
       "<style scoped>\n",
       "    .dataframe tbody tr th:only-of-type {\n",
       "        vertical-align: middle;\n",
       "    }\n",
       "\n",
       "    .dataframe tbody tr th {\n",
       "        vertical-align: top;\n",
       "    }\n",
       "\n",
       "    .dataframe thead th {\n",
       "        text-align: right;\n",
       "    }\n",
       "</style>\n",
       "<table border=\"1\" class=\"dataframe\">\n",
       "  <thead>\n",
       "    <tr style=\"text-align: right;\">\n",
       "      <th></th>\n",
       "      <th>user_id</th>\n",
       "      <th>age</th>\n",
       "      <th>city</th>\n",
       "      <th>state</th>\n",
       "      <th>country</th>\n",
       "      <th>isbn</th>\n",
       "      <th>rating</th>\n",
       "      <th>book_author</th>\n",
       "      <th>year_of_publication</th>\n",
       "      <th>publisher</th>\n",
       "      <th>language</th>\n",
       "      <th>category</th>\n",
       "    </tr>\n",
       "  </thead>\n",
       "  <tbody>\n",
       "    <tr>\n",
       "      <th>0</th>\n",
       "      <td>8</td>\n",
       "      <td>33.0</td>\n",
       "      <td>timmins</td>\n",
       "      <td>ontario</td>\n",
       "      <td>canada</td>\n",
       "      <td>0002005018</td>\n",
       "      <td>4</td>\n",
       "      <td>richard bruce wright</td>\n",
       "      <td>2001.0</td>\n",
       "      <td>harperflamingo canada</td>\n",
       "      <td>en</td>\n",
       "      <td>actresses</td>\n",
       "    </tr>\n",
       "    <tr>\n",
       "      <th>1</th>\n",
       "      <td>8</td>\n",
       "      <td>33.0</td>\n",
       "      <td>timmins</td>\n",
       "      <td>ontario</td>\n",
       "      <td>canada</td>\n",
       "      <td>074322678X</td>\n",
       "      <td>4</td>\n",
       "      <td>ann beattie</td>\n",
       "      <td>2002.0</td>\n",
       "      <td>scribner</td>\n",
       "      <td>en</td>\n",
       "      <td>fiction</td>\n",
       "    </tr>\n",
       "    <tr>\n",
       "      <th>2</th>\n",
       "      <td>8</td>\n",
       "      <td>33.0</td>\n",
       "      <td>timmins</td>\n",
       "      <td>ontario</td>\n",
       "      <td>canada</td>\n",
       "      <td>1552041778</td>\n",
       "      <td>2</td>\n",
       "      <td>r j kaiser</td>\n",
       "      <td>1999.0</td>\n",
       "      <td>mira books</td>\n",
       "      <td>en</td>\n",
       "      <td>fiction</td>\n",
       "    </tr>\n",
       "    <tr>\n",
       "      <th>3</th>\n",
       "      <td>8</td>\n",
       "      <td>33.0</td>\n",
       "      <td>timmins</td>\n",
       "      <td>ontario</td>\n",
       "      <td>canada</td>\n",
       "      <td>1567407781</td>\n",
       "      <td>6</td>\n",
       "      <td>loren d estleman</td>\n",
       "      <td>1998.0</td>\n",
       "      <td>brilliance audio trade</td>\n",
       "      <td>en</td>\n",
       "      <td>fiction</td>\n",
       "    </tr>\n",
       "    <tr>\n",
       "      <th>4</th>\n",
       "      <td>8</td>\n",
       "      <td>33.0</td>\n",
       "      <td>timmins</td>\n",
       "      <td>ontario</td>\n",
       "      <td>canada</td>\n",
       "      <td>1575663937</td>\n",
       "      <td>6</td>\n",
       "      <td>robert hendrickson</td>\n",
       "      <td>1999.0</td>\n",
       "      <td>kensington publishing corp</td>\n",
       "      <td>en</td>\n",
       "      <td>nature</td>\n",
       "    </tr>\n",
       "    <tr>\n",
       "      <th>...</th>\n",
       "      <td>...</td>\n",
       "      <td>...</td>\n",
       "      <td>...</td>\n",
       "      <td>...</td>\n",
       "      <td>...</td>\n",
       "      <td>...</td>\n",
       "      <td>...</td>\n",
       "      <td>...</td>\n",
       "      <td>...</td>\n",
       "      <td>...</td>\n",
       "      <td>...</td>\n",
       "      <td>...</td>\n",
       "    </tr>\n",
       "    <tr>\n",
       "      <th>271370</th>\n",
       "      <td>278330</td>\n",
       "      <td>46.0</td>\n",
       "      <td>livonia</td>\n",
       "      <td>new york</td>\n",
       "      <td>usa</td>\n",
       "      <td>0898861411</td>\n",
       "      <td>3</td>\n",
       "      <td>virginia urrutia</td>\n",
       "      <td>1987.0</td>\n",
       "      <td>mountaineers books</td>\n",
       "      <td>en</td>\n",
       "      <td>science</td>\n",
       "    </tr>\n",
       "    <tr>\n",
       "      <th>271371</th>\n",
       "      <td>278376</td>\n",
       "      <td>54.0</td>\n",
       "      <td>danville</td>\n",
       "      <td>pennsylvania</td>\n",
       "      <td>usa</td>\n",
       "      <td>0060530103</td>\n",
       "      <td>7</td>\n",
       "      <td>doris lessing</td>\n",
       "      <td>2004.0</td>\n",
       "      <td>harpercollins</td>\n",
       "      <td>en</td>\n",
       "      <td>fiction</td>\n",
       "    </tr>\n",
       "    <tr>\n",
       "      <th>271372</th>\n",
       "      <td>278621</td>\n",
       "      <td>74.0</td>\n",
       "      <td>victoria</td>\n",
       "      <td>delaware</td>\n",
       "      <td>canada</td>\n",
       "      <td>1550390961</td>\n",
       "      <td>8</td>\n",
       "      <td>andrea pinto lebowitz</td>\n",
       "      <td>1999.0</td>\n",
       "      <td>sono nis press</td>\n",
       "      <td>en</td>\n",
       "      <td>authors canadian english 20th century biography</td>\n",
       "    </tr>\n",
       "    <tr>\n",
       "      <th>271373</th>\n",
       "      <td>278659</td>\n",
       "      <td>33.0</td>\n",
       "      <td>vancouver</td>\n",
       "      <td>washington</td>\n",
       "      <td>usa</td>\n",
       "      <td>0345330293</td>\n",
       "      <td>10</td>\n",
       "      <td>nevil shute</td>\n",
       "      <td>1981.0</td>\n",
       "      <td>ballantine books</td>\n",
       "      <td>en</td>\n",
       "      <td>fiction</td>\n",
       "    </tr>\n",
       "    <tr>\n",
       "      <th>271374</th>\n",
       "      <td>278713</td>\n",
       "      <td>63.0</td>\n",
       "      <td>albuquerque</td>\n",
       "      <td>new mexico</td>\n",
       "      <td>usa</td>\n",
       "      <td>0670528951</td>\n",
       "      <td>7</td>\n",
       "      <td>barbara leaming</td>\n",
       "      <td>1985.0</td>\n",
       "      <td>penguin usa</td>\n",
       "      <td>en</td>\n",
       "      <td>biography autobiography</td>\n",
       "    </tr>\n",
       "  </tbody>\n",
       "</table>\n",
       "<p>271375 rows × 12 columns</p>\n",
       "</div>"
      ],
      "text/plain": [
       "        user_id   age         city         state country        isbn  rating   \n",
       "0             8  33.0      timmins       ontario  canada  0002005018       4  \\\n",
       "1             8  33.0      timmins       ontario  canada  074322678X       4   \n",
       "2             8  33.0      timmins       ontario  canada  1552041778       2   \n",
       "3             8  33.0      timmins       ontario  canada  1567407781       6   \n",
       "4             8  33.0      timmins       ontario  canada  1575663937       6   \n",
       "...         ...   ...          ...           ...     ...         ...     ...   \n",
       "271370   278330  46.0      livonia      new york     usa  0898861411       3   \n",
       "271371   278376  54.0     danville  pennsylvania     usa  0060530103       7   \n",
       "271372   278621  74.0     victoria      delaware  canada  1550390961       8   \n",
       "271373   278659  33.0    vancouver    washington     usa  0345330293      10   \n",
       "271374   278713  63.0  albuquerque    new mexico     usa  0670528951       7   \n",
       "\n",
       "                  book_author  year_of_publication   \n",
       "0        richard bruce wright               2001.0  \\\n",
       "1                 ann beattie               2002.0   \n",
       "2                  r j kaiser               1999.0   \n",
       "3            loren d estleman               1998.0   \n",
       "4          robert hendrickson               1999.0   \n",
       "...                       ...                  ...   \n",
       "271370       virginia urrutia               1987.0   \n",
       "271371          doris lessing               2004.0   \n",
       "271372  andrea pinto lebowitz               1999.0   \n",
       "271373            nevil shute               1981.0   \n",
       "271374        barbara leaming               1985.0   \n",
       "\n",
       "                         publisher language   \n",
       "0            harperflamingo canada       en  \\\n",
       "1                         scribner       en   \n",
       "2                       mira books       en   \n",
       "3           brilliance audio trade       en   \n",
       "4       kensington publishing corp       en   \n",
       "...                            ...      ...   \n",
       "271370          mountaineers books       en   \n",
       "271371               harpercollins       en   \n",
       "271372              sono nis press       en   \n",
       "271373            ballantine books       en   \n",
       "271374                 penguin usa       en   \n",
       "\n",
       "                                               category  \n",
       "0                                             actresses  \n",
       "1                                               fiction  \n",
       "2                                               fiction  \n",
       "3                                               fiction  \n",
       "4                                                nature  \n",
       "...                                                 ...  \n",
       "271370                                          science  \n",
       "271371                                          fiction  \n",
       "271372  authors canadian english 20th century biography  \n",
       "271373                                          fiction  \n",
       "271374                          biography autobiography  \n",
       "\n",
       "[271375 rows x 12 columns]"
      ]
     },
     "execution_count": 254,
     "metadata": {},
     "output_type": "execute_result"
    }
   ],
   "source": [
    "total_onehot = total.drop(['book_title', 'img_url', 'summary', 'img_path'], axis=1)\n",
    "total_onehot"
   ]
  },
  {
   "cell_type": "code",
   "execution_count": 255,
   "metadata": {},
   "outputs": [],
   "source": [
    "total_onehot = pd.get_dummies(total_onehot, columns=['city', 'state', 'country', 'book_author', 'publisher', 'language', 'category'])"
   ]
  },
  {
   "cell_type": "code",
   "execution_count": 256,
   "metadata": {},
   "outputs": [
    {
     "data": {
      "text/html": [
       "<div>\n",
       "<style scoped>\n",
       "    .dataframe tbody tr th:only-of-type {\n",
       "        vertical-align: middle;\n",
       "    }\n",
       "\n",
       "    .dataframe tbody tr th {\n",
       "        vertical-align: top;\n",
       "    }\n",
       "\n",
       "    .dataframe thead th {\n",
       "        text-align: right;\n",
       "    }\n",
       "</style>\n",
       "<table border=\"1\" class=\"dataframe\">\n",
       "  <thead>\n",
       "    <tr style=\"text-align: right;\">\n",
       "      <th></th>\n",
       "      <th>user_id</th>\n",
       "      <th>age</th>\n",
       "      <th>isbn</th>\n",
       "      <th>rating</th>\n",
       "      <th>year_of_publication</th>\n",
       "      <th>city_03770 el verger</th>\n",
       "      <th>city_05680</th>\n",
       "      <th>city_10012</th>\n",
       "      <th>city_1110 lynnwood blvd</th>\n",
       "      <th>city_14482 potsdam</th>\n",
       "      <th>...</th>\n",
       "      <th>category_yoga</th>\n",
       "      <th>category_yorkshire england</th>\n",
       "      <th>category_young adult fiction</th>\n",
       "      <th>category_young adult nonfiction</th>\n",
       "      <th>category_young adults</th>\n",
       "      <th>category_young men</th>\n",
       "      <th>category_zanzibar</th>\n",
       "      <th>category_zen buddhism</th>\n",
       "      <th>category_zeugen jehovas weibliche jugend ausstieg jugendbuch</th>\n",
       "      <th>category_zip code</th>\n",
       "    </tr>\n",
       "  </thead>\n",
       "  <tbody>\n",
       "    <tr>\n",
       "      <th>0</th>\n",
       "      <td>8</td>\n",
       "      <td>33.0</td>\n",
       "      <td>0002005018</td>\n",
       "      <td>4</td>\n",
       "      <td>2001.0</td>\n",
       "      <td>False</td>\n",
       "      <td>False</td>\n",
       "      <td>False</td>\n",
       "      <td>False</td>\n",
       "      <td>False</td>\n",
       "      <td>...</td>\n",
       "      <td>False</td>\n",
       "      <td>False</td>\n",
       "      <td>False</td>\n",
       "      <td>False</td>\n",
       "      <td>False</td>\n",
       "      <td>False</td>\n",
       "      <td>False</td>\n",
       "      <td>False</td>\n",
       "      <td>False</td>\n",
       "      <td>False</td>\n",
       "    </tr>\n",
       "    <tr>\n",
       "      <th>1</th>\n",
       "      <td>8</td>\n",
       "      <td>33.0</td>\n",
       "      <td>074322678X</td>\n",
       "      <td>4</td>\n",
       "      <td>2002.0</td>\n",
       "      <td>False</td>\n",
       "      <td>False</td>\n",
       "      <td>False</td>\n",
       "      <td>False</td>\n",
       "      <td>False</td>\n",
       "      <td>...</td>\n",
       "      <td>False</td>\n",
       "      <td>False</td>\n",
       "      <td>False</td>\n",
       "      <td>False</td>\n",
       "      <td>False</td>\n",
       "      <td>False</td>\n",
       "      <td>False</td>\n",
       "      <td>False</td>\n",
       "      <td>False</td>\n",
       "      <td>False</td>\n",
       "    </tr>\n",
       "    <tr>\n",
       "      <th>2</th>\n",
       "      <td>8</td>\n",
       "      <td>33.0</td>\n",
       "      <td>1552041778</td>\n",
       "      <td>2</td>\n",
       "      <td>1999.0</td>\n",
       "      <td>False</td>\n",
       "      <td>False</td>\n",
       "      <td>False</td>\n",
       "      <td>False</td>\n",
       "      <td>False</td>\n",
       "      <td>...</td>\n",
       "      <td>False</td>\n",
       "      <td>False</td>\n",
       "      <td>False</td>\n",
       "      <td>False</td>\n",
       "      <td>False</td>\n",
       "      <td>False</td>\n",
       "      <td>False</td>\n",
       "      <td>False</td>\n",
       "      <td>False</td>\n",
       "      <td>False</td>\n",
       "    </tr>\n",
       "    <tr>\n",
       "      <th>3</th>\n",
       "      <td>8</td>\n",
       "      <td>33.0</td>\n",
       "      <td>1567407781</td>\n",
       "      <td>6</td>\n",
       "      <td>1998.0</td>\n",
       "      <td>False</td>\n",
       "      <td>False</td>\n",
       "      <td>False</td>\n",
       "      <td>False</td>\n",
       "      <td>False</td>\n",
       "      <td>...</td>\n",
       "      <td>False</td>\n",
       "      <td>False</td>\n",
       "      <td>False</td>\n",
       "      <td>False</td>\n",
       "      <td>False</td>\n",
       "      <td>False</td>\n",
       "      <td>False</td>\n",
       "      <td>False</td>\n",
       "      <td>False</td>\n",
       "      <td>False</td>\n",
       "    </tr>\n",
       "    <tr>\n",
       "      <th>4</th>\n",
       "      <td>8</td>\n",
       "      <td>33.0</td>\n",
       "      <td>1575663937</td>\n",
       "      <td>6</td>\n",
       "      <td>1999.0</td>\n",
       "      <td>False</td>\n",
       "      <td>False</td>\n",
       "      <td>False</td>\n",
       "      <td>False</td>\n",
       "      <td>False</td>\n",
       "      <td>...</td>\n",
       "      <td>False</td>\n",
       "      <td>False</td>\n",
       "      <td>False</td>\n",
       "      <td>False</td>\n",
       "      <td>False</td>\n",
       "      <td>False</td>\n",
       "      <td>False</td>\n",
       "      <td>False</td>\n",
       "      <td>False</td>\n",
       "      <td>False</td>\n",
       "    </tr>\n",
       "    <tr>\n",
       "      <th>...</th>\n",
       "      <td>...</td>\n",
       "      <td>...</td>\n",
       "      <td>...</td>\n",
       "      <td>...</td>\n",
       "      <td>...</td>\n",
       "      <td>...</td>\n",
       "      <td>...</td>\n",
       "      <td>...</td>\n",
       "      <td>...</td>\n",
       "      <td>...</td>\n",
       "      <td>...</td>\n",
       "      <td>...</td>\n",
       "      <td>...</td>\n",
       "      <td>...</td>\n",
       "      <td>...</td>\n",
       "      <td>...</td>\n",
       "      <td>...</td>\n",
       "      <td>...</td>\n",
       "      <td>...</td>\n",
       "      <td>...</td>\n",
       "      <td>...</td>\n",
       "    </tr>\n",
       "    <tr>\n",
       "      <th>271370</th>\n",
       "      <td>278330</td>\n",
       "      <td>46.0</td>\n",
       "      <td>0898861411</td>\n",
       "      <td>3</td>\n",
       "      <td>1987.0</td>\n",
       "      <td>False</td>\n",
       "      <td>False</td>\n",
       "      <td>False</td>\n",
       "      <td>False</td>\n",
       "      <td>False</td>\n",
       "      <td>...</td>\n",
       "      <td>False</td>\n",
       "      <td>False</td>\n",
       "      <td>False</td>\n",
       "      <td>False</td>\n",
       "      <td>False</td>\n",
       "      <td>False</td>\n",
       "      <td>False</td>\n",
       "      <td>False</td>\n",
       "      <td>False</td>\n",
       "      <td>False</td>\n",
       "    </tr>\n",
       "    <tr>\n",
       "      <th>271371</th>\n",
       "      <td>278376</td>\n",
       "      <td>54.0</td>\n",
       "      <td>0060530103</td>\n",
       "      <td>7</td>\n",
       "      <td>2004.0</td>\n",
       "      <td>False</td>\n",
       "      <td>False</td>\n",
       "      <td>False</td>\n",
       "      <td>False</td>\n",
       "      <td>False</td>\n",
       "      <td>...</td>\n",
       "      <td>False</td>\n",
       "      <td>False</td>\n",
       "      <td>False</td>\n",
       "      <td>False</td>\n",
       "      <td>False</td>\n",
       "      <td>False</td>\n",
       "      <td>False</td>\n",
       "      <td>False</td>\n",
       "      <td>False</td>\n",
       "      <td>False</td>\n",
       "    </tr>\n",
       "    <tr>\n",
       "      <th>271372</th>\n",
       "      <td>278621</td>\n",
       "      <td>74.0</td>\n",
       "      <td>1550390961</td>\n",
       "      <td>8</td>\n",
       "      <td>1999.0</td>\n",
       "      <td>False</td>\n",
       "      <td>False</td>\n",
       "      <td>False</td>\n",
       "      <td>False</td>\n",
       "      <td>False</td>\n",
       "      <td>...</td>\n",
       "      <td>False</td>\n",
       "      <td>False</td>\n",
       "      <td>False</td>\n",
       "      <td>False</td>\n",
       "      <td>False</td>\n",
       "      <td>False</td>\n",
       "      <td>False</td>\n",
       "      <td>False</td>\n",
       "      <td>False</td>\n",
       "      <td>False</td>\n",
       "    </tr>\n",
       "    <tr>\n",
       "      <th>271373</th>\n",
       "      <td>278659</td>\n",
       "      <td>33.0</td>\n",
       "      <td>0345330293</td>\n",
       "      <td>10</td>\n",
       "      <td>1981.0</td>\n",
       "      <td>False</td>\n",
       "      <td>False</td>\n",
       "      <td>False</td>\n",
       "      <td>False</td>\n",
       "      <td>False</td>\n",
       "      <td>...</td>\n",
       "      <td>False</td>\n",
       "      <td>False</td>\n",
       "      <td>False</td>\n",
       "      <td>False</td>\n",
       "      <td>False</td>\n",
       "      <td>False</td>\n",
       "      <td>False</td>\n",
       "      <td>False</td>\n",
       "      <td>False</td>\n",
       "      <td>False</td>\n",
       "    </tr>\n",
       "    <tr>\n",
       "      <th>271374</th>\n",
       "      <td>278713</td>\n",
       "      <td>63.0</td>\n",
       "      <td>0670528951</td>\n",
       "      <td>7</td>\n",
       "      <td>1985.0</td>\n",
       "      <td>False</td>\n",
       "      <td>False</td>\n",
       "      <td>False</td>\n",
       "      <td>False</td>\n",
       "      <td>False</td>\n",
       "      <td>...</td>\n",
       "      <td>False</td>\n",
       "      <td>False</td>\n",
       "      <td>False</td>\n",
       "      <td>False</td>\n",
       "      <td>False</td>\n",
       "      <td>False</td>\n",
       "      <td>False</td>\n",
       "      <td>False</td>\n",
       "      <td>False</td>\n",
       "      <td>False</td>\n",
       "    </tr>\n",
       "  </tbody>\n",
       "</table>\n",
       "<p>271375 rows × 55087 columns</p>\n",
       "</div>"
      ],
      "text/plain": [
       "        user_id   age        isbn  rating  year_of_publication   \n",
       "0             8  33.0  0002005018       4               2001.0  \\\n",
       "1             8  33.0  074322678X       4               2002.0   \n",
       "2             8  33.0  1552041778       2               1999.0   \n",
       "3             8  33.0  1567407781       6               1998.0   \n",
       "4             8  33.0  1575663937       6               1999.0   \n",
       "...         ...   ...         ...     ...                  ...   \n",
       "271370   278330  46.0  0898861411       3               1987.0   \n",
       "271371   278376  54.0  0060530103       7               2004.0   \n",
       "271372   278621  74.0  1550390961       8               1999.0   \n",
       "271373   278659  33.0  0345330293      10               1981.0   \n",
       "271374   278713  63.0  0670528951       7               1985.0   \n",
       "\n",
       "        city_03770 el verger  city_05680  city_10012  city_1110 lynnwood blvd   \n",
       "0                      False       False       False                    False  \\\n",
       "1                      False       False       False                    False   \n",
       "2                      False       False       False                    False   \n",
       "3                      False       False       False                    False   \n",
       "4                      False       False       False                    False   \n",
       "...                      ...         ...         ...                      ...   \n",
       "271370                 False       False       False                    False   \n",
       "271371                 False       False       False                    False   \n",
       "271372                 False       False       False                    False   \n",
       "271373                 False       False       False                    False   \n",
       "271374                 False       False       False                    False   \n",
       "\n",
       "        city_14482 potsdam  ...  category_yoga  category_yorkshire england   \n",
       "0                    False  ...          False                       False  \\\n",
       "1                    False  ...          False                       False   \n",
       "2                    False  ...          False                       False   \n",
       "3                    False  ...          False                       False   \n",
       "4                    False  ...          False                       False   \n",
       "...                    ...  ...            ...                         ...   \n",
       "271370               False  ...          False                       False   \n",
       "271371               False  ...          False                       False   \n",
       "271372               False  ...          False                       False   \n",
       "271373               False  ...          False                       False   \n",
       "271374               False  ...          False                       False   \n",
       "\n",
       "        category_young adult fiction  category_young adult nonfiction   \n",
       "0                              False                            False  \\\n",
       "1                              False                            False   \n",
       "2                              False                            False   \n",
       "3                              False                            False   \n",
       "4                              False                            False   \n",
       "...                              ...                              ...   \n",
       "271370                         False                            False   \n",
       "271371                         False                            False   \n",
       "271372                         False                            False   \n",
       "271373                         False                            False   \n",
       "271374                         False                            False   \n",
       "\n",
       "        category_young adults  category_young men  category_zanzibar   \n",
       "0                       False               False              False  \\\n",
       "1                       False               False              False   \n",
       "2                       False               False              False   \n",
       "3                       False               False              False   \n",
       "4                       False               False              False   \n",
       "...                       ...                 ...                ...   \n",
       "271370                  False               False              False   \n",
       "271371                  False               False              False   \n",
       "271372                  False               False              False   \n",
       "271373                  False               False              False   \n",
       "271374                  False               False              False   \n",
       "\n",
       "        category_zen buddhism   \n",
       "0                       False  \\\n",
       "1                       False   \n",
       "2                       False   \n",
       "3                       False   \n",
       "4                       False   \n",
       "...                       ...   \n",
       "271370                  False   \n",
       "271371                  False   \n",
       "271372                  False   \n",
       "271373                  False   \n",
       "271374                  False   \n",
       "\n",
       "        category_zeugen jehovas weibliche jugend ausstieg jugendbuch   \n",
       "0                                                   False             \\\n",
       "1                                                   False              \n",
       "2                                                   False              \n",
       "3                                                   False              \n",
       "4                                                   False              \n",
       "...                                                   ...              \n",
       "271370                                              False              \n",
       "271371                                              False              \n",
       "271372                                              False              \n",
       "271373                                              False              \n",
       "271374                                              False              \n",
       "\n",
       "        category_zip code  \n",
       "0                   False  \n",
       "1                   False  \n",
       "2                   False  \n",
       "3                   False  \n",
       "4                   False  \n",
       "...                   ...  \n",
       "271370              False  \n",
       "271371              False  \n",
       "271372              False  \n",
       "271373              False  \n",
       "271374              False  \n",
       "\n",
       "[271375 rows x 55087 columns]"
      ]
     },
     "execution_count": 256,
     "metadata": {},
     "output_type": "execute_result"
    }
   ],
   "source": [
    "total_onehot"
   ]
  },
  {
   "cell_type": "code",
   "execution_count": 257,
   "metadata": {},
   "outputs": [],
   "source": [
    "# pkl로 저장\n",
    "total_onehot.to_pickle(folder_name + '/' + 'total_final_onehot.pkl')"
   ]
  },
  {
   "attachments": {},
   "cell_type": "markdown",
   "metadata": {},
   "source": [
    "## 3.2 books, users"
   ]
  },
  {
   "attachments": {},
   "cell_type": "markdown",
   "metadata": {},
   "source": [
    "### 3.2.1 book"
   ]
  },
  {
   "cell_type": "code",
   "execution_count": 258,
   "metadata": {},
   "outputs": [
    {
     "data": {
      "text/plain": [
       "Index(['isbn', 'book_title', 'book_author', 'year_of_publication', 'publisher',\n",
       "       'img_url', 'language', 'category', 'summary', 'img_path'],\n",
       "      dtype='object')"
      ]
     },
     "execution_count": 258,
     "metadata": {},
     "output_type": "execute_result"
    }
   ],
   "source": [
    "df_book.columns"
   ]
  },
  {
   "cell_type": "code",
   "execution_count": 259,
   "metadata": {},
   "outputs": [],
   "source": [
    "book_df = total[['isbn', 'book_title', 'book_author', 'year_of_publication', 'publisher', 'img_url', 'language', 'category', 'summary', 'img_path']]"
   ]
  },
  {
   "cell_type": "code",
   "execution_count": 260,
   "metadata": {},
   "outputs": [
    {
     "name": "stderr",
     "output_type": "stream",
     "text": [
      "/tmp/ipykernel_42328/252986763.py:1: SettingWithCopyWarning: \n",
      "A value is trying to be set on a copy of a slice from a DataFrame\n",
      "\n",
      "See the caveats in the documentation: https://pandas.pydata.org/pandas-docs/stable/user_guide/indexing.html#returning-a-view-versus-a-copy\n",
      "  book_df.drop_duplicates(subset=['isbn'], inplace=True, ignore_index=True)\n"
     ]
    }
   ],
   "source": [
    "book_df.drop_duplicates(subset=['isbn'], inplace=True, ignore_index=True)"
   ]
  },
  {
   "cell_type": "code",
   "execution_count": 261,
   "metadata": {},
   "outputs": [
    {
     "name": "stdout",
     "output_type": "stream",
     "text": [
      "<class 'pandas.core.frame.DataFrame'>\n",
      "RangeIndex: 105595 entries, 0 to 105594\n",
      "Data columns (total 10 columns):\n",
      " #   Column               Non-Null Count   Dtype  \n",
      "---  ------               --------------   -----  \n",
      " 0   isbn                 105595 non-null  object \n",
      " 1   book_title           105595 non-null  object \n",
      " 2   book_author          105595 non-null  object \n",
      " 3   year_of_publication  105595 non-null  float64\n",
      " 4   publisher            105595 non-null  object \n",
      " 5   img_url              105595 non-null  object \n",
      " 6   language             105595 non-null  object \n",
      " 7   category             105595 non-null  object \n",
      " 8   summary              105595 non-null  object \n",
      " 9   img_path             105595 non-null  object \n",
      "dtypes: float64(1), object(9)\n",
      "memory usage: 8.1+ MB\n"
     ]
    }
   ],
   "source": [
    "book_df.info()"
   ]
  },
  {
   "cell_type": "code",
   "execution_count": 262,
   "metadata": {},
   "outputs": [
    {
     "data": {
      "text/html": [
       "<div>\n",
       "<style scoped>\n",
       "    .dataframe tbody tr th:only-of-type {\n",
       "        vertical-align: middle;\n",
       "    }\n",
       "\n",
       "    .dataframe tbody tr th {\n",
       "        vertical-align: top;\n",
       "    }\n",
       "\n",
       "    .dataframe thead th {\n",
       "        text-align: right;\n",
       "    }\n",
       "</style>\n",
       "<table border=\"1\" class=\"dataframe\">\n",
       "  <thead>\n",
       "    <tr style=\"text-align: right;\">\n",
       "      <th></th>\n",
       "      <th>isbn</th>\n",
       "      <th>book_title</th>\n",
       "      <th>book_author</th>\n",
       "      <th>year_of_publication</th>\n",
       "      <th>publisher</th>\n",
       "      <th>img_url</th>\n",
       "      <th>language</th>\n",
       "      <th>category</th>\n",
       "      <th>summary</th>\n",
       "      <th>img_path</th>\n",
       "    </tr>\n",
       "  </thead>\n",
       "  <tbody>\n",
       "    <tr>\n",
       "      <th>0</th>\n",
       "      <td>0002005018</td>\n",
       "      <td>clara callan</td>\n",
       "      <td>richard bruce wright</td>\n",
       "      <td>2001.0</td>\n",
       "      <td>harperflamingo canada</td>\n",
       "      <td>http://images.amazon.com/images/P/0002005018.0...</td>\n",
       "      <td>en</td>\n",
       "      <td>actresses</td>\n",
       "      <td>in a small town in canada clara callan relucta...</td>\n",
       "      <td>images/0002005018.01.THUMBZZZ.jpg</td>\n",
       "    </tr>\n",
       "    <tr>\n",
       "      <th>1</th>\n",
       "      <td>074322678X</td>\n",
       "      <td>where youll find me and other stories</td>\n",
       "      <td>ann beattie</td>\n",
       "      <td>2002.0</td>\n",
       "      <td>scribner</td>\n",
       "      <td>http://images.amazon.com/images/P/074322678X.0...</td>\n",
       "      <td>en</td>\n",
       "      <td>fiction</td>\n",
       "      <td>now back in print ann beattie 39 s finest shor...</td>\n",
       "      <td>images/074322678X.01.THUMBZZZ.jpg</td>\n",
       "    </tr>\n",
       "    <tr>\n",
       "      <th>2</th>\n",
       "      <td>1552041778</td>\n",
       "      <td>jane doe</td>\n",
       "      <td>r j kaiser</td>\n",
       "      <td>1999.0</td>\n",
       "      <td>mira books</td>\n",
       "      <td>http://images.amazon.com/images/P/1552041778.0...</td>\n",
       "      <td>en</td>\n",
       "      <td>fiction</td>\n",
       "      <td>jane doe</td>\n",
       "      <td>images/1552041778.01.THUMBZZZ.jpg</td>\n",
       "    </tr>\n",
       "    <tr>\n",
       "      <th>3</th>\n",
       "      <td>1567407781</td>\n",
       "      <td>the witchfinder amos walker mystery series</td>\n",
       "      <td>loren d estleman</td>\n",
       "      <td>1998.0</td>\n",
       "      <td>brilliance audio trade</td>\n",
       "      <td>http://images.amazon.com/images/P/1567407781.0...</td>\n",
       "      <td>en</td>\n",
       "      <td>fiction</td>\n",
       "      <td>the witchfinder amos walker mystery series</td>\n",
       "      <td>images/1567407781.01.THUMBZZZ.jpg</td>\n",
       "    </tr>\n",
       "    <tr>\n",
       "      <th>4</th>\n",
       "      <td>1575663937</td>\n",
       "      <td>more cunning than man a social history of rats...</td>\n",
       "      <td>robert hendrickson</td>\n",
       "      <td>1999.0</td>\n",
       "      <td>kensington publishing corp</td>\n",
       "      <td>http://images.amazon.com/images/P/1575663937.0...</td>\n",
       "      <td>en</td>\n",
       "      <td>nature</td>\n",
       "      <td>this eye opening well researched examination o...</td>\n",
       "      <td>images/1575663937.01.THUMBZZZ.jpg</td>\n",
       "    </tr>\n",
       "    <tr>\n",
       "      <th>...</th>\n",
       "      <td>...</td>\n",
       "      <td>...</td>\n",
       "      <td>...</td>\n",
       "      <td>...</td>\n",
       "      <td>...</td>\n",
       "      <td>...</td>\n",
       "      <td>...</td>\n",
       "      <td>...</td>\n",
       "      <td>...</td>\n",
       "      <td>...</td>\n",
       "    </tr>\n",
       "    <tr>\n",
       "      <th>105590</th>\n",
       "      <td>0898861411</td>\n",
       "      <td>two wheels and a taxi a slightly daft adventur...</td>\n",
       "      <td>virginia urrutia</td>\n",
       "      <td>1987.0</td>\n",
       "      <td>mountaineers books</td>\n",
       "      <td>http://images.amazon.com/images/P/0898861411.0...</td>\n",
       "      <td>en</td>\n",
       "      <td>science</td>\n",
       "      <td>the author recounts her experiences traveling ...</td>\n",
       "      <td>images/0898861411.01.THUMBZZZ.jpg</td>\n",
       "    </tr>\n",
       "    <tr>\n",
       "      <th>105591</th>\n",
       "      <td>0060530103</td>\n",
       "      <td>the grandmothers four short novels</td>\n",
       "      <td>doris lessing</td>\n",
       "      <td>2004.0</td>\n",
       "      <td>harpercollins</td>\n",
       "      <td>http://images.amazon.com/images/P/0060530103.0...</td>\n",
       "      <td>en</td>\n",
       "      <td>fiction</td>\n",
       "      <td>the grandmothers four short novels</td>\n",
       "      <td>images/0060530103.01.THUMBZZZ.jpg</td>\n",
       "    </tr>\n",
       "    <tr>\n",
       "      <th>105592</th>\n",
       "      <td>1550390961</td>\n",
       "      <td>gilean douglas writing nature finding home</td>\n",
       "      <td>andrea pinto lebowitz</td>\n",
       "      <td>1999.0</td>\n",
       "      <td>sono nis press</td>\n",
       "      <td>http://images.amazon.com/images/P/1550390961.0...</td>\n",
       "      <td>en</td>\n",
       "      <td>authors canadian english 20th century biography</td>\n",
       "      <td>her writings span almost the entire twentieth ...</td>\n",
       "      <td>images/1550390961.01.THUMBZZZ.jpg</td>\n",
       "    </tr>\n",
       "    <tr>\n",
       "      <th>105593</th>\n",
       "      <td>0345330293</td>\n",
       "      <td>town like alice</td>\n",
       "      <td>nevil shute</td>\n",
       "      <td>1981.0</td>\n",
       "      <td>ballantine books</td>\n",
       "      <td>http://images.amazon.com/images/P/0345330293.0...</td>\n",
       "      <td>en</td>\n",
       "      <td>fiction</td>\n",
       "      <td>town like alice</td>\n",
       "      <td>images/0345330293.01.THUMBZZZ.jpg</td>\n",
       "    </tr>\n",
       "    <tr>\n",
       "      <th>105594</th>\n",
       "      <td>0670528951</td>\n",
       "      <td>orson welles</td>\n",
       "      <td>barbara leaming</td>\n",
       "      <td>1985.0</td>\n",
       "      <td>penguin usa</td>\n",
       "      <td>http://images.amazon.com/images/P/0670528951.0...</td>\n",
       "      <td>en</td>\n",
       "      <td>biography autobiography</td>\n",
       "      <td>based on two years of interviews and research ...</td>\n",
       "      <td>images/0670528951.01.THUMBZZZ.jpg</td>\n",
       "    </tr>\n",
       "  </tbody>\n",
       "</table>\n",
       "<p>105595 rows × 10 columns</p>\n",
       "</div>"
      ],
      "text/plain": [
       "              isbn                                         book_title   \n",
       "0       0002005018                                       clara callan  \\\n",
       "1       074322678X              where youll find me and other stories   \n",
       "2       1552041778                                           jane doe   \n",
       "3       1567407781         the witchfinder amos walker mystery series   \n",
       "4       1575663937  more cunning than man a social history of rats...   \n",
       "...            ...                                                ...   \n",
       "105590  0898861411  two wheels and a taxi a slightly daft adventur...   \n",
       "105591  0060530103                 the grandmothers four short novels   \n",
       "105592  1550390961         gilean douglas writing nature finding home   \n",
       "105593  0345330293                                    town like alice   \n",
       "105594  0670528951                                       orson welles   \n",
       "\n",
       "                  book_author  year_of_publication   \n",
       "0        richard bruce wright               2001.0  \\\n",
       "1                 ann beattie               2002.0   \n",
       "2                  r j kaiser               1999.0   \n",
       "3            loren d estleman               1998.0   \n",
       "4          robert hendrickson               1999.0   \n",
       "...                       ...                  ...   \n",
       "105590       virginia urrutia               1987.0   \n",
       "105591          doris lessing               2004.0   \n",
       "105592  andrea pinto lebowitz               1999.0   \n",
       "105593            nevil shute               1981.0   \n",
       "105594        barbara leaming               1985.0   \n",
       "\n",
       "                         publisher   \n",
       "0            harperflamingo canada  \\\n",
       "1                         scribner   \n",
       "2                       mira books   \n",
       "3           brilliance audio trade   \n",
       "4       kensington publishing corp   \n",
       "...                            ...   \n",
       "105590          mountaineers books   \n",
       "105591               harpercollins   \n",
       "105592              sono nis press   \n",
       "105593            ballantine books   \n",
       "105594                 penguin usa   \n",
       "\n",
       "                                                  img_url language   \n",
       "0       http://images.amazon.com/images/P/0002005018.0...       en  \\\n",
       "1       http://images.amazon.com/images/P/074322678X.0...       en   \n",
       "2       http://images.amazon.com/images/P/1552041778.0...       en   \n",
       "3       http://images.amazon.com/images/P/1567407781.0...       en   \n",
       "4       http://images.amazon.com/images/P/1575663937.0...       en   \n",
       "...                                                   ...      ...   \n",
       "105590  http://images.amazon.com/images/P/0898861411.0...       en   \n",
       "105591  http://images.amazon.com/images/P/0060530103.0...       en   \n",
       "105592  http://images.amazon.com/images/P/1550390961.0...       en   \n",
       "105593  http://images.amazon.com/images/P/0345330293.0...       en   \n",
       "105594  http://images.amazon.com/images/P/0670528951.0...       en   \n",
       "\n",
       "                                               category   \n",
       "0                                             actresses  \\\n",
       "1                                               fiction   \n",
       "2                                               fiction   \n",
       "3                                               fiction   \n",
       "4                                                nature   \n",
       "...                                                 ...   \n",
       "105590                                          science   \n",
       "105591                                          fiction   \n",
       "105592  authors canadian english 20th century biography   \n",
       "105593                                          fiction   \n",
       "105594                          biography autobiography   \n",
       "\n",
       "                                                  summary   \n",
       "0       in a small town in canada clara callan relucta...  \\\n",
       "1       now back in print ann beattie 39 s finest shor...   \n",
       "2                                                jane doe   \n",
       "3              the witchfinder amos walker mystery series   \n",
       "4       this eye opening well researched examination o...   \n",
       "...                                                   ...   \n",
       "105590  the author recounts her experiences traveling ...   \n",
       "105591                 the grandmothers four short novels   \n",
       "105592  her writings span almost the entire twentieth ...   \n",
       "105593                                    town like alice   \n",
       "105594  based on two years of interviews and research ...   \n",
       "\n",
       "                                 img_path  \n",
       "0       images/0002005018.01.THUMBZZZ.jpg  \n",
       "1       images/074322678X.01.THUMBZZZ.jpg  \n",
       "2       images/1552041778.01.THUMBZZZ.jpg  \n",
       "3       images/1567407781.01.THUMBZZZ.jpg  \n",
       "4       images/1575663937.01.THUMBZZZ.jpg  \n",
       "...                                   ...  \n",
       "105590  images/0898861411.01.THUMBZZZ.jpg  \n",
       "105591  images/0060530103.01.THUMBZZZ.jpg  \n",
       "105592  images/1550390961.01.THUMBZZZ.jpg  \n",
       "105593  images/0345330293.01.THUMBZZZ.jpg  \n",
       "105594  images/0670528951.01.THUMBZZZ.jpg  \n",
       "\n",
       "[105595 rows x 10 columns]"
      ]
     },
     "execution_count": 262,
     "metadata": {},
     "output_type": "execute_result"
    }
   ],
   "source": [
    "book_df"
   ]
  },
  {
   "cell_type": "code",
   "execution_count": 263,
   "metadata": {},
   "outputs": [],
   "source": [
    "book_df.to_csv(folder_name + '/' + 'books.csv', index=False)"
   ]
  },
  {
   "attachments": {},
   "cell_type": "markdown",
   "metadata": {},
   "source": [
    "### 3.2.2 users"
   ]
  },
  {
   "cell_type": "code",
   "execution_count": 264,
   "metadata": {},
   "outputs": [
    {
     "data": {
      "text/plain": [
       "Index(['user_id', 'age', 'city', 'state', 'country', 'isbn', 'rating',\n",
       "       'book_title', 'book_author', 'year_of_publication', 'publisher',\n",
       "       'img_url', 'language', 'category', 'summary', 'img_path'],\n",
       "      dtype='object')"
      ]
     },
     "execution_count": 264,
     "metadata": {},
     "output_type": "execute_result"
    }
   ],
   "source": [
    "total.columns"
   ]
  },
  {
   "cell_type": "code",
   "execution_count": 265,
   "metadata": {},
   "outputs": [
    {
     "data": {
      "text/plain": [
       "Index(['user_id', 'location', 'age'], dtype='object')"
      ]
     },
     "execution_count": 265,
     "metadata": {},
     "output_type": "execute_result"
    }
   ],
   "source": [
    "df_users.columns"
   ]
  },
  {
   "cell_type": "code",
   "execution_count": 266,
   "metadata": {},
   "outputs": [],
   "source": [
    "user_df = total[['user_id', 'age', 'city', 'state', 'country']]"
   ]
  },
  {
   "cell_type": "code",
   "execution_count": 267,
   "metadata": {},
   "outputs": [],
   "source": [
    "def concat_location(ci, st, co):\n",
    "    full = ', '.join([ci, st, co])\n",
    "    return full"
   ]
  },
  {
   "cell_type": "code",
   "execution_count": 268,
   "metadata": {},
   "outputs": [
    {
     "name": "stderr",
     "output_type": "stream",
     "text": [
      "/tmp/ipykernel_42328/1462264958.py:1: SettingWithCopyWarning: \n",
      "A value is trying to be set on a copy of a slice from a DataFrame.\n",
      "Try using .loc[row_indexer,col_indexer] = value instead\n",
      "\n",
      "See the caveats in the documentation: https://pandas.pydata.org/pandas-docs/stable/user_guide/indexing.html#returning-a-view-versus-a-copy\n",
      "  user_df['location'] = user_df.apply(lambda x : concat_location(x['city'], x['state'], x['country']), axis=1)\n"
     ]
    }
   ],
   "source": [
    "user_df['location'] = user_df.apply(lambda x : concat_location(x['city'], x['state'], x['country']), axis=1)"
   ]
  },
  {
   "cell_type": "code",
   "execution_count": 269,
   "metadata": {},
   "outputs": [
    {
     "name": "stderr",
     "output_type": "stream",
     "text": [
      "/tmp/ipykernel_42328/3302411553.py:1: SettingWithCopyWarning: \n",
      "A value is trying to be set on a copy of a slice from a DataFrame\n",
      "\n",
      "See the caveats in the documentation: https://pandas.pydata.org/pandas-docs/stable/user_guide/indexing.html#returning-a-view-versus-a-copy\n",
      "  user_df.drop(['city', 'state', 'country'], axis=1, inplace=True)\n",
      "/tmp/ipykernel_42328/3302411553.py:2: SettingWithCopyWarning: \n",
      "A value is trying to be set on a copy of a slice from a DataFrame\n",
      "\n",
      "See the caveats in the documentation: https://pandas.pydata.org/pandas-docs/stable/user_guide/indexing.html#returning-a-view-versus-a-copy\n",
      "  user_df.drop_duplicates(inplace=True, ignore_index=True)\n"
     ]
    }
   ],
   "source": [
    "user_df.drop(['city', 'state', 'country'], axis=1, inplace=True)\n",
    "user_df.drop_duplicates(inplace=True, ignore_index=True)"
   ]
  },
  {
   "cell_type": "code",
   "execution_count": 270,
   "metadata": {},
   "outputs": [
    {
     "name": "stderr",
     "output_type": "stream",
     "text": [
      "/tmp/ipykernel_42328/2353558777.py:1: SettingWithCopyWarning: \n",
      "A value is trying to be set on a copy of a slice from a DataFrame\n",
      "\n",
      "See the caveats in the documentation: https://pandas.pydata.org/pandas-docs/stable/user_guide/indexing.html#returning-a-view-versus-a-copy\n",
      "  user_df.drop_duplicates(subset='user_id', ignore_index=True, inplace=True)\n"
     ]
    }
   ],
   "source": [
    "user_df.drop_duplicates(subset='user_id', ignore_index=True, inplace=True)"
   ]
  },
  {
   "cell_type": "code",
   "execution_count": 271,
   "metadata": {},
   "outputs": [
    {
     "data": {
      "text/html": [
       "<div>\n",
       "<style scoped>\n",
       "    .dataframe tbody tr th:only-of-type {\n",
       "        vertical-align: middle;\n",
       "    }\n",
       "\n",
       "    .dataframe tbody tr th {\n",
       "        vertical-align: top;\n",
       "    }\n",
       "\n",
       "    .dataframe thead th {\n",
       "        text-align: right;\n",
       "    }\n",
       "</style>\n",
       "<table border=\"1\" class=\"dataframe\">\n",
       "  <thead>\n",
       "    <tr style=\"text-align: right;\">\n",
       "      <th></th>\n",
       "      <th>user_id</th>\n",
       "      <th>age</th>\n",
       "      <th>location</th>\n",
       "    </tr>\n",
       "  </thead>\n",
       "  <tbody>\n",
       "    <tr>\n",
       "      <th>0</th>\n",
       "      <td>8</td>\n",
       "      <td>33.0</td>\n",
       "      <td>timmins, ontario, canada</td>\n",
       "    </tr>\n",
       "    <tr>\n",
       "      <th>1</th>\n",
       "      <td>11400</td>\n",
       "      <td>49.0</td>\n",
       "      <td>ottawa, ontario, canada</td>\n",
       "    </tr>\n",
       "    <tr>\n",
       "      <th>2</th>\n",
       "      <td>67544</td>\n",
       "      <td>30.0</td>\n",
       "      <td>toronto, ontario, canada</td>\n",
       "    </tr>\n",
       "    <tr>\n",
       "      <th>3</th>\n",
       "      <td>85526</td>\n",
       "      <td>36.0</td>\n",
       "      <td>victoria, british columbia, canada</td>\n",
       "    </tr>\n",
       "    <tr>\n",
       "      <th>4</th>\n",
       "      <td>96054</td>\n",
       "      <td>29.0</td>\n",
       "      <td>ottawa, ontario, canada</td>\n",
       "    </tr>\n",
       "    <tr>\n",
       "      <th>...</th>\n",
       "      <td>...</td>\n",
       "      <td>...</td>\n",
       "      <td>...</td>\n",
       "    </tr>\n",
       "    <tr>\n",
       "      <th>55488</th>\n",
       "      <td>278330</td>\n",
       "      <td>46.0</td>\n",
       "      <td>livonia, new york, usa</td>\n",
       "    </tr>\n",
       "    <tr>\n",
       "      <th>55489</th>\n",
       "      <td>278376</td>\n",
       "      <td>54.0</td>\n",
       "      <td>danville, pennsylvania, usa</td>\n",
       "    </tr>\n",
       "    <tr>\n",
       "      <th>55490</th>\n",
       "      <td>278621</td>\n",
       "      <td>74.0</td>\n",
       "      <td>victoria, delaware, canada</td>\n",
       "    </tr>\n",
       "    <tr>\n",
       "      <th>55491</th>\n",
       "      <td>278659</td>\n",
       "      <td>33.0</td>\n",
       "      <td>vancouver, washington, usa</td>\n",
       "    </tr>\n",
       "    <tr>\n",
       "      <th>55492</th>\n",
       "      <td>278713</td>\n",
       "      <td>63.0</td>\n",
       "      <td>albuquerque, new mexico, usa</td>\n",
       "    </tr>\n",
       "  </tbody>\n",
       "</table>\n",
       "<p>55493 rows × 3 columns</p>\n",
       "</div>"
      ],
      "text/plain": [
       "       user_id   age                            location\n",
       "0            8  33.0            timmins, ontario, canada\n",
       "1        11400  49.0             ottawa, ontario, canada\n",
       "2        67544  30.0            toronto, ontario, canada\n",
       "3        85526  36.0  victoria, british columbia, canada\n",
       "4        96054  29.0             ottawa, ontario, canada\n",
       "...        ...   ...                                 ...\n",
       "55488   278330  46.0              livonia, new york, usa\n",
       "55489   278376  54.0         danville, pennsylvania, usa\n",
       "55490   278621  74.0          victoria, delaware, canada\n",
       "55491   278659  33.0          vancouver, washington, usa\n",
       "55492   278713  63.0        albuquerque, new mexico, usa\n",
       "\n",
       "[55493 rows x 3 columns]"
      ]
     },
     "execution_count": 271,
     "metadata": {},
     "output_type": "execute_result"
    }
   ],
   "source": [
    "user_df"
   ]
  },
  {
   "cell_type": "code",
   "execution_count": 272,
   "metadata": {},
   "outputs": [
    {
     "data": {
      "text/plain": [
       "55493"
      ]
     },
     "execution_count": 272,
     "metadata": {},
     "output_type": "execute_result"
    }
   ],
   "source": [
    "len(user_df.user_id.unique())"
   ]
  },
  {
   "cell_type": "code",
   "execution_count": 273,
   "metadata": {},
   "outputs": [],
   "source": [
    "user_df.to_csv(folder_name + '/' + 'users.csv', index=False)"
   ]
  }
 ],
 "metadata": {
  "kernelspec": {
   "display_name": "lv1_pj",
   "language": "python",
   "name": "lv1pj"
  },
  "language_info": {
   "codemirror_mode": {
    "name": "ipython",
    "version": 3
   },
   "file_extension": ".py",
   "mimetype": "text/x-python",
   "name": "python",
   "nbconvert_exporter": "python",
   "pygments_lexer": "ipython3",
   "version": "3.10.10"
  },
  "orig_nbformat": 4
 },
 "nbformat": 4,
 "nbformat_minor": 2
}
