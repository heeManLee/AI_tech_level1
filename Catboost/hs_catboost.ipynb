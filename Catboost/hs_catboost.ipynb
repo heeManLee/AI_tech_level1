{
 "cells": [
  {
   "cell_type": "code",
   "execution_count": null,
   "id": "995e33b2-ec23-4322-9e50-532a6f19bf76",
   "metadata": {
    "tags": []
   },
   "outputs": [],
   "source": [
    "import pandas as pd\n",
    "import numpy as np\n",
    "import re"
   ]
  },
  {
   "cell_type": "code",
   "execution_count": null,
   "id": "4c44fa44-4f62-4129-a61b-d4555ac83521",
   "metadata": {
    "tags": []
   },
   "outputs": [],
   "source": [
    "seed = 42\n",
    "\n",
    "import random\n",
    "import os\n",
    "import torch\n",
    "\n",
    "random.seed(seed)\n",
    "os.environ['PYTHONHASHSEED'] = str(seed)\n",
    "np.random.seed(seed)\n",
    "torch.manual_seed(seed)\n",
    "torch.cuda.manual_seed(seed)\n",
    "torch.backends.cudnn.deterministic = True"
   ]
  },
  {
   "cell_type": "code",
   "execution_count": null,
   "id": "aa2f2c02-cbdb-4694-9720-22eab5da7430",
   "metadata": {},
   "outputs": [],
   "source": [
    "train = pd.read_csv('~/catboost_data_final/train1.csv', dtype={'year_of_publication': int})\n",
    "test = pd.read_csv('~/catboost_data_final/test1.csv', dtype={'year_of_publication': int})\n",
    "data = pd.concat([train, test])"
   ]
  },
  {
   "cell_type": "code",
   "execution_count": null,
   "id": "f8b6492e-401d-4c34-a554-1f92b26958a4",
   "metadata": {
    "tags": []
   },
   "outputs": [],
   "source": [
    "# indexing\n",
    "\n",
    "def age_map(x: int) -> int:\n",
    "    x = int(x)\n",
    "    if x < 20:\n",
    "        return 1\n",
    "    elif x >= 20 and x < 30:\n",
    "        return 2\n",
    "    elif x >= 30 and x < 40:\n",
    "        return 3\n",
    "    elif x >= 40 and x < 50:\n",
    "        return 4\n",
    "    elif x >= 50 and x < 60:\n",
    "        return 5\n",
    "    else:\n",
    "        return 6\n",
    "\n",
    "# users\n",
    "user2idx = {id: idx for idx, id in enumerate(data['user_id'].unique())}\n",
    "loc_country2idx = {v:k for k,v in enumerate(data['location_country'].unique())}\n",
    "\n",
    "# books\n",
    "isbn2idx = {isbn:idx for idx, isbn in enumerate(data['isbn'].unique())}\n",
    "category2idx = {v:k for k,v in enumerate(data['category'].unique())}\n",
    "publisher2idx = {v:k for k,v in enumerate(data['publisher'].unique())}\n",
    "language2idx = {v:k for k,v in enumerate(data['language'].unique())}\n",
    "author2idx = {v:k for k,v in enumerate(data['book_author'].unique())}\n",
    "\n",
    "# inters\n",
    "train['user_id'] = train['user_id'].map(user2idx)\n",
    "train['location_country'] = train['location_country'].map(loc_country2idx)\n",
    "train['age'] = train['age'].apply(age_map)\n",
    "\n",
    "train['isbn'] = train['isbn'].map(isbn2idx)\n",
    "train['category'] = train['category'].map(category2idx)\n",
    "train['publisher'] = train['publisher'].map(publisher2idx)\n",
    "train['language'] = train['language'].map(language2idx)\n",
    "train['book_author'] = train['book_author'].map(author2idx)\n",
    "train['year_of_publication'] = train['year_of_publication'].apply(lambda x: int(x))\n",
    "\n",
    "test['user_id'] = test['user_id'].map(user2idx)\n",
    "test['location_country'] = test['location_country'].map(loc_country2idx)\n",
    "test['age'] = test['age'].apply(age_map)\n",
    "\n",
    "test['isbn'] = test['isbn'].map(isbn2idx)\n",
    "test['category'] = test['category'].map(category2idx)\n",
    "test['publisher'] = test['publisher'].map(publisher2idx)\n",
    "test['language'] = test['language'].map(language2idx)\n",
    "test['book_author'] = test['book_author'].map(author2idx)\n",
    "test['year_of_publication'] = test['year_of_publication'].apply(lambda x: int(x))"
   ]
  },
  {
   "cell_type": "code",
   "execution_count": null,
   "id": "a0925c99-8ce2-4ca9-b246-75648ceb13c4",
   "metadata": {
    "tags": []
   },
   "outputs": [],
   "source": [
    "train['summary'] = train['summary'].fillna('none')\n",
    "test['summary'] = test['summary'].fillna('none')"
   ]
  },
  {
   "cell_type": "code",
   "execution_count": null,
   "id": "2e63998e-2de4-4132-8ae9-d7d82766f6f2",
   "metadata": {
    "tags": []
   },
   "outputs": [],
   "source": []
  },
  {
   "cell_type": "code",
   "execution_count": null,
   "id": "20430733-9fa6-498d-b2cb-9c2af563cb1e",
   "metadata": {
    "tags": []
   },
   "outputs": [],
   "source": [
    "train['rating'].value_counts()"
   ]
  },
  {
   "cell_type": "code",
   "execution_count": null,
   "id": "cbac0e4e-100d-43a7-b0a1-8ef382823717",
   "metadata": {
    "tags": []
   },
   "outputs": [],
   "source": [
    "train.head()"
   ]
  },
  {
   "cell_type": "code",
   "execution_count": null,
   "id": "3541d075-af6b-4e26-b61c-8fec0c9d4f54",
   "metadata": {},
   "outputs": [],
   "source": []
  },
  {
   "cell_type": "code",
   "execution_count": null,
   "id": "1deb9ece-373f-4ba2-a2ed-d25af5945802",
   "metadata": {},
   "outputs": [],
   "source": []
  },
  {
   "cell_type": "code",
   "execution_count": null,
   "id": "fc569a08-6731-46df-ab68-759a313116ff",
   "metadata": {
    "tags": []
   },
   "outputs": [],
   "source": [
    "from sklearn.model_selection import train_test_split\n",
    "\n",
    "X_train, X_valid, y_train, y_valid = train_test_split(train.drop(['book_title', 'summary', 'rating'], axis=1),\n",
    "# X_train, X_valid, y_train, y_valid = train_test_split(train.drop(['rating'], axis=1),                                                      \n",
    "                                                      train['rating'],\n",
    "                                                      test_size=0.2,\n",
    "                                                      random_state = seed,\n",
    "                                                      shuffle=True\n",
    "                                                      )\n"
   ]
  },
  {
   "cell_type": "code",
   "execution_count": null,
   "id": "ada3392c-df7b-424a-ab8e-da7b4308894b",
   "metadata": {
    "tags": []
   },
   "outputs": [],
   "source": [
    "y_train.value_counts()"
   ]
  },
  {
   "cell_type": "code",
   "execution_count": null,
   "id": "74b1d1c1-b8f8-4223-af8a-60e77076293b",
   "metadata": {
    "tags": []
   },
   "outputs": [],
   "source": [
    "X_train.head()"
   ]
  },
  {
   "cell_type": "code",
   "execution_count": null,
   "id": "3aa6483f-0d74-4bca-8e59-13ca744e594e",
   "metadata": {
    "tags": []
   },
   "outputs": [],
   "source": [
    "from imblearn.over_sampling import SMOTE\n",
    "\n",
    "X_train_resampled, y_train_resampled = SMOTE(random_state=seed).fit_resample(X_train, y_train)"
   ]
  },
  {
   "cell_type": "code",
   "execution_count": null,
   "id": "b4235f43-93de-4209-a793-63299769289d",
   "metadata": {
    "tags": []
   },
   "outputs": [],
   "source": [
    "y_train_resampled.value_counts()"
   ]
  },
  {
   "cell_type": "code",
   "execution_count": null,
   "id": "745b3a9f-86c0-49b5-add9-210802e0cdb1",
   "metadata": {
    "tags": []
   },
   "outputs": [],
   "source": [
    "import optuna\n",
    "from optuna import Trial\n",
    "from optuna.samplers import TPESampler\n",
    "from catboost import CatBoostRegressor, Pool\n",
    "\n",
    "sampler = TPESampler(seed=seed)\n",
    "\n",
    "def objective(trial):\n",
    "    param = {\n",
    "        'iterations': 3000,\n",
    "        'od_wait': 300,\n",
    "        'learning_rate' : 0.5,\n",
    "        # 'learning_rate' : trial.suggest_float('learning_rate',0.0001, 0.1, log=True),\n",
    "        'depth': trial.suggest_int('depth', 6, 10),\n",
    "        'l2_leaf_reg': trial.suggest_float('l2_leaf_reg',1e-5,1e2, log=True),\n",
    "        'random_strength': trial.suggest_float('random_strength',1,20),\n",
    "        \n",
    "        'bootstrap_type': trial.suggest_categorical(\"bootstrap_type\", ['Bayesian', 'Poisson', 'No']),\n",
    "        \n",
    "        'grow_policy': trial.suggest_categorical(\"grow_policy\", ['SymmetricTree', 'Depthwise', 'Lossguide']),\n",
    "        \n",
    "        'loss_function':'RMSE',\n",
    "        'eval_metric': 'RMSE',\n",
    "        'random_seed': seed,\n",
    "        'use_best_model': True,\n",
    "        'task_type': 'GPU',\n",
    "        'devices': '0:1'\n",
    "    }\n",
    "    \n",
    "    if param['bootstrap_type'] == 'Bayesian':\n",
    "        param['bagging_temperature'] = trial.suggest_float('bagging_temperature', 1e-2, 1e2, log=True)\n",
    "    if param['bootstrap_type'] == 'Poisson':\n",
    "        param[\"subsample\"] = trial.suggest_float(\"subsample\", 0.1, 1, log=True)\n",
    "\n",
    "    pool = Pool(\n",
    "        data = X_train,\n",
    "        label = y_train,\n",
    "        cat_features = ['user_id', 'isbn', 'age', 'location_country', 'book_author', 'year_of_publication', 'publisher', 'language', 'category'],\n",
    "        # text_features = ['book_title', 'summary'],\n",
    "        feature_names = list(X_train.columns),\n",
    "        has_header = True\n",
    "    )\n",
    "    \n",
    "    model = CatBoostRegressor(**param)\n",
    "    model = model.fit(\n",
    "        pool,\n",
    "        eval_set = (X_valid, y_valid),\n",
    "        verbose = 0\n",
    "    )\n",
    "    \n",
    "    return model.get_best_score()['validation']['RMSE']\n",
    "    "
   ]
  },
  {
   "cell_type": "code",
   "execution_count": null,
   "id": "702f7d96-f45f-4188-9c1b-84c5db8a9ac5",
   "metadata": {
    "tags": []
   },
   "outputs": [],
   "source": [
    "# import wandb\n",
    "\n",
    "# wandb.login()"
   ]
  },
  {
   "cell_type": "code",
   "execution_count": null,
   "id": "1282e3f4-12e1-4e2c-9711-fcdc1f4d6622",
   "metadata": {
    "tags": []
   },
   "outputs": [],
   "source": [
    "# from optuna.integration.wandb import WeightsAndBiasesCallback\n",
    "\n",
    "# wandb_kwargs = {\"project\": \"optuna-wandb-test4\"}\n",
    "# wandbc = WeightsAndBiasesCallback(metric_name=\"rmse\", wandb_kwargs=wandb_kwargs)"
   ]
  },
  {
   "cell_type": "code",
   "execution_count": null,
   "id": "22d944b5-12ec-4c3e-aa60-c6a0dac3cf7a",
   "metadata": {
    "tags": []
   },
   "outputs": [],
   "source": [
    "optuna_cb_combine_text = optuna.create_study(direction='minimize', sampler=sampler)\n",
    "optuna_cb_combine_text.optimize(objective, n_trials=50)"
   ]
  },
  {
   "cell_type": "code",
   "execution_count": null,
   "id": "91a25c72-8096-417f-9792-51d895782be9",
   "metadata": {
    "tags": []
   },
   "outputs": [],
   "source": [
    "optuna_cb_combine_text = optuna.create_study(direction='minimize', sampler=sampler)\n",
    "optuna_cb_combine_text.optimize(objective, n_trials=50)"
   ]
  },
  {
   "cell_type": "code",
   "execution_count": null,
   "id": "2c7b6c26-9cb2-4af2-90ff-a1e544f036b6",
   "metadata": {
    "tags": []
   },
   "outputs": [],
   "source": [
    "def objective_lr(trial):\n",
    "    param = {\n",
    "        'iterations': trial.suggest_int('iterations', 500, 5000, step=500),\n",
    "        'od_wait': trial.suggest_int('od_wait', 100, 500, step=100),\n",
    "        # 'learning_rate' : 0.01,\n",
    "        'learning_rate' : trial.suggest_float('learning_rate',0.1, 1, log=True),\n",
    "        'depth': 6,\n",
    "        'l2_leaf_reg': 0.0014114392860391826,\n",
    "        'random_strength': 9.296474034508483,\n",
    "\n",
    "        'bootstrap_type': 'No',\n",
    "\n",
    "        'grow_policy': 'SymmetricTree',\n",
    "\n",
    "        'loss_function':'RMSE',\n",
    "        'eval_metric': 'RMSE',\n",
    "        'random_seed': seed,\n",
    "        'use_best_model': True,\n",
    "        'task_type': 'GPU',\n",
    "        'devices': '0:1'\n",
    "    }\n",
    "\n",
    "    pool = Pool(\n",
    "        data = X_train,\n",
    "        label = y_train,\n",
    "        cat_features = ['user_id', 'isbn', 'age', 'location_country', 'book_author', 'year_of_publication', 'publisher', 'language', 'category'],\n",
    "        # text_features = ['book_title', 'summary'],\n",
    "        feature_names = list(X_train.columns),\n",
    "        has_header = True\n",
    "    )\n",
    "    \n",
    "    model = CatBoostRegressor(**param)\n",
    "    model = model.fit(\n",
    "        pool,\n",
    "        eval_set = (X_valid, y_valid),\n",
    "        verbose = 0\n",
    "    )\n",
    "    \n",
    "    return model.get_best_score()['validation']['RMSE']\n",
    "    "
   ]
  },
  {
   "cell_type": "code",
   "execution_count": null,
   "id": "45029701-5229-4f2c-8836-cfd82ead1357",
   "metadata": {
    "tags": []
   },
   "outputs": [],
   "source": [
    "optuna_lr = optuna.create_study(direction='minimize', sampler=sampler)\n",
    "optuna_lr.optimize(objective_lr, n_trials=50)"
   ]
  },
  {
   "cell_type": "code",
   "execution_count": null,
   "id": "f732408e-65b4-42e9-8dad-f2023a467bb1",
   "metadata": {},
   "outputs": [],
   "source": []
  },
  {
   "cell_type": "code",
   "execution_count": null,
   "id": "ea6c8900-3445-4437-8867-b6bb205a7856",
   "metadata": {},
   "outputs": [],
   "source": []
  },
  {
   "cell_type": "code",
   "execution_count": null,
   "id": "ce557e21-36ce-4295-a90b-2fedb5ad4032",
   "metadata": {
    "tags": []
   },
   "outputs": [],
   "source": [
    "print(optuna_cb.best_trial.params)\n",
    "print(optuna_cb.best_trial.value)"
   ]
  },
  {
   "cell_type": "code",
   "execution_count": null,
   "id": "33003d7d-70d2-41c3-95a5-d4eb1329b111",
   "metadata": {
    "tags": []
   },
   "outputs": [],
   "source": [
    "print(optuna_cb_combine.best_trial.params)\n",
    "print(optuna_cb_combine.best_trial.value)"
   ]
  },
  {
   "cell_type": "code",
   "execution_count": null,
   "id": "ff5614b5-a722-41f7-876d-03e6a3970f59",
   "metadata": {},
   "outputs": [],
   "source": [
    "{'depth': 6, 'l2_leaf_reg': 0.010097245877196693, 'random_strength': 18.5500328773567, 'bootstrap_type': 'No', 'grow_policy': 'SymmetricTree'}"
   ]
  },
  {
   "cell_type": "code",
   "execution_count": null,
   "id": "adc41f6d-0c4a-483e-8add-c6d3d1672c13",
   "metadata": {},
   "outputs": [],
   "source": [
    "{'depth': 6, 'l2_leaf_reg': 0.17898389848671595, 'random_strength': 4.239958350058539, 'bootstrap_type': 'No', 'grow_policy': 'SymmetricTree'}"
   ]
  },
  {
   "cell_type": "code",
   "execution_count": null,
   "id": "ef8a99bc-eb05-4dac-b447-60908e373152",
   "metadata": {
    "tags": []
   },
   "outputs": [],
   "source": [
    "param = {\n",
    "    'iterations': 10000,\n",
    "    'od_wait': 1000,\n",
    "    'learning_rate' : 0.3,\n",
    "    # 'learning_rate' : trial.suggest_float('learning_rate',0.1, 1, log=True),\n",
    "    'depth': 10,\n",
    "    'loss_function':'RMSE',\n",
    "    'eval_metric': 'RMSE',\n",
    "    'random_seed': seed,\n",
    "    'use_best_model': True,\n",
    "    'task_type': 'GPU',\n",
    "    'devices': '0:1'\n",
    "}\n",
    "\n",
    "pool = Pool(\n",
    "    data = X_train_resampled,\n",
    "    label = y_train_resampled,\n",
    "    cat_features = ['user_id', 'isbn', 'age', 'location_country', 'book_author', 'year_of_publication', 'publisher', 'language', 'category'],\n",
    "    # text_features = ['book_title', 'summary'],\n",
    "    feature_names = list(X_train.columns),\n",
    "    has_header = True\n",
    ")\n",
    "\n",
    "model = CatBoostRegressor(**param)\n",
    "model = model.fit(\n",
    "    pool,\n",
    "    eval_set = (X_valid, y_valid),\n",
    "    verbose = 1\n",
    ")"
   ]
  },
  {
   "cell_type": "code",
   "execution_count": null,
   "id": "6b72ec74-e0ca-461e-aacd-228a22dc20b3",
   "metadata": {},
   "outputs": [],
   "source": [
    "model.get_best_score()"
   ]
  },
  {
   "cell_type": "code",
   "execution_count": null,
   "id": "363247e3-e3c5-4153-9a7f-f713941063cf",
   "metadata": {},
   "outputs": [],
   "source": []
  },
  {
   "cell_type": "code",
   "execution_count": null,
   "id": "3d19c861-135e-4916-a8dc-6a9e032d2820",
   "metadata": {},
   "outputs": [],
   "source": []
  },
  {
   "cell_type": "code",
   "execution_count": null,
   "id": "a9c2e44b-7f44-4a3f-a782-33bde5634e96",
   "metadata": {},
   "outputs": [],
   "source": []
  },
  {
   "cell_type": "code",
   "execution_count": null,
   "id": "d4a6cbac-2250-4597-a232-6427d433135d",
   "metadata": {},
   "outputs": [],
   "source": []
  },
  {
   "cell_type": "code",
   "execution_count": null,
   "id": "8b158693-eeaa-46c0-8df5-fcb963aefc68",
   "metadata": {
    "tags": []
   },
   "outputs": [],
   "source": [
    "pool = Pool(\n",
    "    data = X_train_age,\n",
    "    label = y_train_age,\n",
    "    cat_features = ['user_id', 'isbn', 'rating', 'location_country', 'book_author', 'year_of_publication', 'publisher', 'language', 'category'],\n",
    "    # text_features = ['book_title', 'summary'],\n",
    "    feature_names = list(X_train_age.columns),\n",
    "    has_header = True\n",
    ")\n",
    "\n",
    "\n",
    "model = CatBoostRegressor(\n",
    "    iterations=1000,\n",
    "    learning_rate=0.1,\n",
    "    depth=14,\n",
    "    early_stopping_rounds = 100,\n",
    "    use_best_model = True,\n",
    "    loss_function='RMSE',\n",
    "    task_type=\"GPU\",\n",
    "    devices='0:1'\n",
    ")\n",
    "\n",
    "model.fit(\n",
    "    pool,\n",
    "    eval_set = (X_valid_age, y_valid_age),\n",
    "    # verbose = False\n",
    ")"
   ]
  },
  {
   "cell_type": "code",
   "execution_count": null,
   "id": "93ee3e0e-adb0-48e7-9fa3-98c3e6bb77dd",
   "metadata": {},
   "outputs": [],
   "source": [
    "model.get_best_score()"
   ]
  },
  {
   "cell_type": "code",
   "execution_count": null,
   "id": "ca2c82d8-10d0-43ad-9558-921e309e7b3f",
   "metadata": {
    "tags": []
   },
   "outputs": [],
   "source": [
    "test_age = train_age_whole[train_age_whole['age'].isnull()].drop(['age', 'book_title', 'summary', 'rating'], axis = 1)"
   ]
  },
  {
   "cell_type": "code",
   "execution_count": null,
   "id": "201757fe-33c3-429b-842b-b254af7845a6",
   "metadata": {
    "tags": []
   },
   "outputs": [],
   "source": [
    "predicted_age = model.predict(test_age)"
   ]
  },
  {
   "cell_type": "code",
   "execution_count": null,
   "id": "23231b63-de6e-40d7-b671-79b44e080ea7",
   "metadata": {
    "tags": []
   },
   "outputs": [],
   "source": [
    "train_age_whole.loc[train_age_whole['age'].isnull(), 'age'] = predicted_age"
   ]
  },
  {
   "cell_type": "code",
   "execution_count": null,
   "id": "0a6f8879-0496-405d-8f20-5f578f5b1604",
   "metadata": {
    "tags": []
   },
   "outputs": [],
   "source": [
    "train_age_whole.head()"
   ]
  },
  {
   "cell_type": "code",
   "execution_count": null,
   "id": "35664241-f28e-4047-8662-a7242a4b2e4a",
   "metadata": {
    "tags": []
   },
   "outputs": [],
   "source": [
    "train_age_whole[train_age_whole['rating'] != 0].to_csv('~/catboost_data_final/train1.csv', index=False)"
   ]
  },
  {
   "cell_type": "code",
   "execution_count": null,
   "id": "7714ca8c-77b3-47a0-8038-280f258328c6",
   "metadata": {
    "tags": []
   },
   "outputs": [],
   "source": [
    "train_age_whole[train_age_whole['rating'] == 0].to_csv('~/catboost_data_final/test1.csv', index=False)"
   ]
  },
  {
   "cell_type": "code",
   "execution_count": null,
   "id": "50f2290d-5c4f-4d53-b572-2a24ac953ce7",
   "metadata": {
    "tags": []
   },
   "outputs": [],
   "source": []
  },
  {
   "cell_type": "code",
   "execution_count": null,
   "id": "be125c5a-ad5d-446d-87cb-b1d4247374fa",
   "metadata": {},
   "outputs": [],
   "source": []
  },
  {
   "cell_type": "code",
   "execution_count": null,
   "id": "ca10625a-4219-4c61-b7c4-da66b09b8b92",
   "metadata": {
    "tags": []
   },
   "outputs": [],
   "source": [
    "for m in age_model_list:\n",
    "    print(m.get_best_score())"
   ]
  },
  {
   "cell_type": "code",
   "execution_count": null,
   "id": "38afb519-30c5-4312-baeb-f9f6b77c72af",
   "metadata": {
    "tags": []
   },
   "outputs": [],
   "source": [
    "from catboost import CatBoostRegressor, Pool\n",
    "\n",
    "depth = list(range(1, 17))\n",
    "\n",
    "pool = Pool(\n",
    "    data = X_train_age,\n",
    "    label = y_train_age,\n",
    "    cat_features = ['user_id', 'isbn', 'rating', 'location_country', 'book_author', 'year_of_publication', 'publisher', 'language', 'category'],\n",
    "    # text_features = ['book_title', 'summary'],\n",
    "    feature_names = list(X_train_age.columns),\n",
    "    has_header = True\n",
    ")\n",
    "\n",
    "age_model_list = []\n",
    "\n",
    "for d in depth:\n",
    "    model = CatBoostRegressor(\n",
    "        iterations=100,\n",
    "        learning_rate=0.1,\n",
    "        depth=d,\n",
    "        loss_function='RMSE',\n",
    "        task_type=\"GPU\",\n",
    "        devices='0:1'\n",
    "    )\n",
    "\n",
    "    model.fit(\n",
    "        pool,\n",
    "        eval_set = (X_valid_age, y_valid_age),\n",
    "        verbose = False\n",
    "    )\n",
    "    \n",
    "    age_model_list.append(model)\n",
    "    \n",
    "print('End!')"
   ]
  },
  {
   "cell_type": "code",
   "execution_count": null,
   "id": "4c8ab16f-34d8-4471-9630-7720da0415b2",
   "metadata": {
    "tags": []
   },
   "outputs": [],
   "source": [
    "model.get_best_score()"
   ]
  },
  {
   "cell_type": "code",
   "execution_count": null,
   "id": "90c84a72-99bc-4aca-bfc3-ffb2c44b4a1b",
   "metadata": {
    "tags": []
   },
   "outputs": [],
   "source": [
    "test_age = train_age_whole[train_age_whole['age'].isnull()].drop(['age', 'book_title', 'summary'], axis = 1)"
   ]
  },
  {
   "cell_type": "code",
   "execution_count": null,
   "id": "6931b3d2-bd17-4155-b54e-81296929dd35",
   "metadata": {
    "tags": []
   },
   "outputs": [],
   "source": [
    "predicted_age = model.predict(test_age)"
   ]
  },
  {
   "cell_type": "code",
   "execution_count": null,
   "id": "2f4d7cb1-9f8d-45ce-b298-506d524d89a9",
   "metadata": {
    "tags": []
   },
   "outputs": [],
   "source": [
    "predicted_age"
   ]
  },
  {
   "cell_type": "code",
   "execution_count": null,
   "id": "8a4d2f2d-4693-426d-9b62-a5762b5ffd6a",
   "metadata": {
    "tags": []
   },
   "outputs": [],
   "source": [
    "train.loc[train['age'].isnull(), 'age']"
   ]
  },
  {
   "cell_type": "code",
   "execution_count": null,
   "id": "19070007-5005-41d5-9187-1e814ff00c1a",
   "metadata": {},
   "outputs": [],
   "source": [
    "temp1 = pd.read_csv('~/catboost_data/train8.csv', dtype={'year_of_publication': int})\n",
    "temp2 = pd.read_csv('~/catboost_data/test8.csv', dtype={'year_of_publication': int})"
   ]
  },
  {
   "cell_type": "code",
   "execution_count": null,
   "id": "282674f2-d2cb-4006-9b18-8b2f82cf8b82",
   "metadata": {
    "tags": []
   },
   "outputs": [],
   "source": [
    "temp1['age'] = train_age_whole[train_age_whole['rating'] != 0]['age']"
   ]
  },
  {
   "cell_type": "code",
   "execution_count": null,
   "id": "0aeeae80-0356-41e0-b17b-2f8ea3e14206",
   "metadata": {
    "tags": []
   },
   "outputs": [],
   "source": [
    "temp2['age'] = train_age_whole[train_age_whole['rating'] == 0]['age']"
   ]
  },
  {
   "cell_type": "code",
   "execution_count": null,
   "id": "fa4a88bb-2a2e-4663-be65-facc3aaf1409",
   "metadata": {
    "tags": []
   },
   "outputs": [],
   "source": [
    "temp1.to_csv('~/catboost_data_final/train2.csv', index=False)\n",
    "temp2.to_csv('~/catboost_data_final/test2.csv', index=False)"
   ]
  },
  {
   "cell_type": "code",
   "execution_count": null,
   "id": "3aaaa17a-4394-4a38-9a44-5ecc45457a9c",
   "metadata": {},
   "outputs": [],
   "source": []
  },
  {
   "cell_type": "code",
   "execution_count": null,
   "id": "ad93f696-59fe-4298-ae9f-082c92f7ff4c",
   "metadata": {
    "tags": []
   },
   "outputs": [],
   "source": [
    "train['age'] = train['age'].apply(age_map)"
   ]
  },
  {
   "cell_type": "code",
   "execution_count": null,
   "id": "b5207695-e21a-4188-8e3a-07cea7381361",
   "metadata": {
    "tags": []
   },
   "outputs": [],
   "source": [
    "train.head()"
   ]
  },
  {
   "cell_type": "code",
   "execution_count": null,
   "id": "a667aa54-b51b-4656-aa1a-72808083f39f",
   "metadata": {
    "tags": []
   },
   "outputs": [],
   "source": [
    "seed = 42"
   ]
  },
  {
   "cell_type": "code",
   "execution_count": null,
   "id": "c4147026-10aa-4a20-81bf-e2ce02ba6700",
   "metadata": {
    "tags": []
   },
   "outputs": [],
   "source": [
    "import random\n",
    "import os\n",
    "import torch\n",
    "\n",
    "random.seed(seed)\n",
    "os.environ['PYTHONHASHSEED'] = str(seed)\n",
    "np.random.seed(seed)\n",
    "torch.manual_seed(seed)\n",
    "torch.cuda.manual_seed(seed)\n",
    "torch.backends.cudnn.deterministic = True"
   ]
  },
  {
   "cell_type": "code",
   "execution_count": null,
   "id": "e108cf81-b11f-4b64-a225-adece5ea4b27",
   "metadata": {
    "tags": []
   },
   "outputs": [],
   "source": [
    "from sklearn.model_selection import train_test_split\n",
    "\n",
    "# X_train, X_valid, y_train, y_valid = train_test_split(train.drop(['rating', 'book_title', 'summary', 'language'], axis=1),\n",
    "X_train, X_valid, y_train, y_valid = train_test_split(train.drop(['rating'], axis=1),                                                      \n",
    "                                                      train['rating'],\n",
    "                                                      test_size=0.2,\n",
    "                                                      random_state = seed,\n",
    "                                                      shuffle=True\n",
    "                                                      )\n"
   ]
  },
  {
   "cell_type": "code",
   "execution_count": null,
   "id": "49815017-c718-4503-a9f6-a8083f633f80",
   "metadata": {
    "tags": []
   },
   "outputs": [],
   "source": [
    "# from catboost import CatBoostRegressor, Pool\n",
    "\n",
    "# depth = list(range(1, 17))\n",
    "\n",
    "# pool = Pool(\n",
    "#     data = X_train,\n",
    "#     label = y_train,\n",
    "#     cat_features = ['user_id', 'isbn', 'age', 'location_country', 'book_author', 'year_of_publication', 'publisher', 'language', 'category'],\n",
    "#     # text_features = ['book_title', 'summary'],\n",
    "#     feature_names = list(X_train.columns),\n",
    "#     has_header = True\n",
    "# )\n",
    "\n",
    "# model = CatBoostRegressor(\n",
    "#     iterations=1000,\n",
    "#     learning_rate=0.1,\n",
    "#     depth=6,\n",
    "#     loss_function='RMSE',\n",
    "#     task_type=\"GPU\",\n",
    "#     devices='0:1'\n",
    "# )\n",
    "\n",
    "# model.fit(\n",
    "#     pool,\n",
    "#     eval_set = (X_valid, y_valid),\n",
    "#     verbose = False\n",
    "# )"
   ]
  },
  {
   "cell_type": "code",
   "execution_count": null,
   "id": "ccc9f6b3-b260-44f1-b6f4-225bfee33889",
   "metadata": {
    "tags": []
   },
   "outputs": [],
   "source": [
    "# model.get_best_score()"
   ]
  },
  {
   "cell_type": "code",
   "execution_count": null,
   "id": "645e915e-8f0f-4030-905a-c80702a675f8",
   "metadata": {},
   "outputs": [],
   "source": []
  },
  {
   "cell_type": "code",
   "execution_count": null,
   "id": "f8847a1a-c4ef-45c0-b222-721a49b82694",
   "metadata": {},
   "outputs": [],
   "source": [
    "from catboost import CatBoostRegressor, Pool\n",
    "\n",
    "depth = list(range(1, 17))\n",
    "\n",
    "pool = Pool(\n",
    "    data = X_train,\n",
    "    label = y_train,\n",
    "    cat_features = ['user_id', 'isbn', 'age', 'location_country', 'book_author', 'year_of_publication', 'publisher', 'category'],\n",
    "    # text_features = ['book_title', 'summary'],\n",
    "    feature_names = list(X_train.columns),\n",
    "    has_header = True\n",
    ")\n",
    "\n",
    "model_list_original = []\n",
    "\n",
    "for d in depth:\n",
    "    model = CatBoostRegressor(\n",
    "        iterations=1000,\n",
    "        learning_rate=0.1,\n",
    "        depth=d,\n",
    "        loss_function='RMSE',\n",
    "        task_type=\"GPU\",\n",
    "        devices='0:1'\n",
    "    )\n",
    "\n",
    "    model.fit(\n",
    "        pool,\n",
    "        eval_set = (X_valid, y_valid),\n",
    "        verbose = False\n",
    "    )\n",
    "    \n",
    "    model_list_original.append(model)\n",
    "\n",
    "print('End!')"
   ]
  },
  {
   "cell_type": "code",
   "execution_count": null,
   "id": "75992f3e-1d13-4947-af9b-cd5994ad8d88",
   "metadata": {
    "tags": []
   },
   "outputs": [],
   "source": [
    "for m in model_list_original:\n",
    "    print(m.get_best_score())"
   ]
  },
  {
   "cell_type": "code",
   "execution_count": null,
   "id": "aec32ff6-560a-4115-aa70-5eeb2f3a9cad",
   "metadata": {},
   "outputs": [],
   "source": []
  },
  {
   "cell_type": "code",
   "execution_count": null,
   "id": "db15dd28-4be6-4fba-8c50-39b3dc55d742",
   "metadata": {
    "tags": []
   },
   "outputs": [],
   "source": [
    "submission = pd.read_csv('~/data/test_ratings.csv')\n",
    "submission = submission.merge(users, on='user_id', how='left').merge(books.drop(['img_url', 'img_path'], axis=1), on='isbn', how='left')\n",
    "submission['year_of_publication'] = submission['year_of_publication'].apply(lambda x: int(x))"
   ]
  },
  {
   "cell_type": "code",
   "execution_count": null,
   "id": "b3f04fe3-a9fd-4b35-b4d3-639045706361",
   "metadata": {
    "tags": []
   },
   "outputs": [],
   "source": [
    "submission.head()"
   ]
  },
  {
   "cell_type": "code",
   "execution_count": null,
   "id": "26b59bad-ee24-4479-acd5-cc43c5823c0c",
   "metadata": {
    "tags": []
   },
   "outputs": [],
   "source": [
    "submission['user_id'] = submission['user_id'].map(user2idx)\n",
    "submission['location_country'] = submission['location_country'].map(loc_country2idx)\n",
    "submission['age'] = submission['age'].fillna(int(train['age'].mean()))\n",
    "submission['age'] = submission['age'].apply(age_map)\n",
    "\n",
    "submission['isbn'] = submission['isbn'].map(isbn2idx)\n",
    "submission['category'] = submission['category'].map(category2idx)\n",
    "submission['publisher'] = submission['publisher'].map(publisher2idx)\n",
    "submission['language'] = submission['language'].map(language2idx)\n",
    "submission['book_author'] = submission['book_author'].map(author2idx)\n",
    "submission['year_of_publication'] = submission['year_of_publication'].apply(lambda x: int(x))"
   ]
  },
  {
   "cell_type": "code",
   "execution_count": null,
   "id": "f6328985-806b-4d0b-9cec-3593a63e1173",
   "metadata": {
    "tags": []
   },
   "outputs": [],
   "source": [
    "predicted_ratings = model.predict(submission.drop(['book_title', 'summary', 'rating', 'language'], axis=1))"
   ]
  },
  {
   "cell_type": "code",
   "execution_count": null,
   "id": "c5c32ad8-048b-475f-acb5-2aa9b40e3317",
   "metadata": {
    "tags": []
   },
   "outputs": [],
   "source": [
    "predicted_ratings"
   ]
  },
  {
   "cell_type": "code",
   "execution_count": null,
   "id": "76de95be-ee5f-4ff1-922c-7f2b4c8d74f7",
   "metadata": {
    "tags": []
   },
   "outputs": [],
   "source": [
    "final_submission = pd.read_csv('~/data/test_ratings.csv')\n",
    "final_submission['rating'] = predicted_ratings"
   ]
  },
  {
   "cell_type": "code",
   "execution_count": null,
   "id": "960f0109-1110-4fb9-88cc-f686813e85ec",
   "metadata": {
    "tags": []
   },
   "outputs": [],
   "source": [
    "final_submission.loc[final_submission['rating'] > 10, 'rating'] = 10"
   ]
  },
  {
   "cell_type": "code",
   "execution_count": null,
   "id": "ad6f718d-4e3b-4594-916b-14810ea82a3f",
   "metadata": {
    "tags": []
   },
   "outputs": [],
   "source": [
    "final_submission.loc[final_submission['rating'] < 0, 'rating'] = 0"
   ]
  },
  {
   "cell_type": "code",
   "execution_count": null,
   "id": "0020a204-c10c-4670-87fc-1beb0bb6ee09",
   "metadata": {
    "tags": []
   },
   "outputs": [],
   "source": [
    "final_submission.to_csv('submission2.csv', index=False)"
   ]
  },
  {
   "cell_type": "code",
   "execution_count": null,
   "id": "c2c325ba-a12b-4df8-a88e-b68c11f70b83",
   "metadata": {
    "tags": []
   },
   "outputs": [],
   "source": [
    "from catboost import CatBoostRegressor, Pool\n",
    "\n",
    "pool = Pool(\n",
    "    data = X_train,\n",
    "    label = y_train,\n",
    "    cat_features = ['user_id', 'isbn', 'age', 'location_country', 'book_author', 'year_of_publication', 'publisher', 'category'],\n",
    "    text_features = ['book_title', 'summary'],\n",
    "    feature_names = list(X_train.columns),\n",
    "    has_header = True\n",
    ")\n",
    "\n",
    "model = CatBoostRegressor(\n",
    "    iterations=2500,\n",
    "    learning_rate=0.1,\n",
    "    depth=8,\n",
    "    loss_function='RMSE',\n",
    "    task_type=\"GPU\",\n",
    "    devices='0:1'\n",
    ")\n",
    "\n",
    "model.fit(\n",
    "    pool,\n",
    "    eval_set = (X_valid, y_valid),\n",
    "    # verbose = False\n",
    ")"
   ]
  },
  {
   "cell_type": "code",
   "execution_count": null,
   "id": "c2f493aa-13fc-4e18-84cc-4703c0fd9d45",
   "metadata": {
    "tags": []
   },
   "outputs": [],
   "source": [
    "model.get_best_score()"
   ]
  },
  {
   "cell_type": "code",
   "execution_count": null,
   "id": "3e6c8806-415c-4694-9385-543fa4745349",
   "metadata": {},
   "outputs": [],
   "source": []
  },
  {
   "cell_type": "code",
   "execution_count": null,
   "id": "6589bd03-cd0a-427b-ba69-90b62e8a5a70",
   "metadata": {
    "tags": []
   },
   "outputs": [],
   "source": [
    "model_list_with_text_features = model_list2"
   ]
  },
  {
   "cell_type": "code",
   "execution_count": null,
   "id": "99d2cad9-ef61-4773-83ba-f4252ae21be2",
   "metadata": {},
   "outputs": [],
   "source": [
    "models = [model_list_original, model_list_with_text_features, ]"
   ]
  }
 ],
 "metadata": {
  "kernelspec": {
   "display_name": "bc_pycaret",
   "language": "python",
   "name": "bc_pycaret"
  },
  "language_info": {
   "codemirror_mode": {
    "name": "ipython",
    "version": 3
   },
   "file_extension": ".py",
   "mimetype": "text/x-python",
   "name": "python",
   "nbconvert_exporter": "python",
   "pygments_lexer": "ipython3",
   "version": "3.8.5"
  }
 },
 "nbformat": 4,
 "nbformat_minor": 5
}
